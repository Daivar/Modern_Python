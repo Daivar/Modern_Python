{
  "nbformat": 4,
  "nbformat_minor": 0,
  "metadata": {
    "colab": {
      "name": "Guessing_number_game_many_exceptions.ipynb",
      "provenance": [],
      "authorship_tag": "ABX9TyMrVh0U3m7yaw8rccO8tntO",
      "include_colab_link": true
    },
    "kernelspec": {
      "name": "python3",
      "display_name": "Python 3"
    },
    "language_info": {
      "name": "python"
    }
  },
  "cells": [
    {
      "cell_type": "markdown",
      "metadata": {
        "id": "view-in-github",
        "colab_type": "text"
      },
      "source": [
        "<a href=\"https://colab.research.google.com/github/Daivar/Modern_Python/blob/main/Guessing_number_game_many_exceptions.ipynb\" target=\"_parent\"><img src=\"https://colab.research.google.com/assets/colab-badge.svg\" alt=\"Open In Colab\"/></a>"
      ]
    },
    {
      "cell_type": "code",
      "source": [
        " import random\n",
        "\n",
        "def guessing_game():\n",
        "  randNum = random.randrange(0,100) # this line generates a random number\n",
        "  guess = int(input('Your guess: ')) # ask user for a number\n",
        "  # print (randNum)\n",
        "  while True:\n",
        "      try:\n",
        "    \n",
        "        if (guess == randNum):\n",
        "            print ('Just right!')\n",
        "            break\n",
        "        \n",
        "        if (guess > randNum):\n",
        "            print ('Too high')\n",
        "            guess = int(input('Your guess: ')) \n",
        "        if (guess < randNum):\n",
        "            print ('Too low')\n",
        "            guess = int(input('Your guess: '))\n",
        "      except (ValueError) as err:\n",
        "            print('Guess should be a number between 0 and 100') \n",
        "      except (Exception1[Exception2[ExceptionN]]) as err:\n",
        "            print('Guess should be a number between 0 and 100') \n",
        "            guess = int(input('Your guess: '))\n",
        "            \n",
        "        \n",
        "\n",
        "guessing_game()\n",
        "   "
      ],
      "metadata": {
        "colab": {
          "base_uri": "https://localhost:8080/"
        },
        "id": "L42ty4MxaWxm",
        "outputId": "c098fb58-14fe-4d40-a993-c093d7e54ad4"
      },
      "execution_count": null,
      "outputs": [
        {
          "output_type": "stream",
          "name": "stdout",
          "text": [
            "Your guess: 5\n",
            "Too low\n",
            "Your guess: 1115\n",
            "Too high\n",
            "Your guess: mmm\n",
            "Guess should be a number between 0 and 100\n",
            "Too high\n",
            "Your guess: kkkk\n",
            "Guess should be a number between 0 and 100\n",
            "Too high\n",
            "Your guess: 55\n",
            "Too low\n",
            "Your guess: 98\n",
            "Too high\n",
            "Your guess: 75\n",
            "Too high\n",
            "Your guess: 0\n",
            "Too low\n",
            "Your guess: 66\n",
            "Too low\n",
            "Your guess: 70\n",
            "Too high\n",
            "Your guess: 68\n",
            "Just right!\n"
          ]
        }
      ]
    }
  ]
}