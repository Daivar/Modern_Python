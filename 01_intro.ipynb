{
  "cells": [
    {
      "cell_type": "markdown",
      "metadata": {
        "id": "Uaqbc4SWhzsc"
      },
      "source": [
        "![DSL_logo](https://github.com/BrockDSL/Intro_to_Python_Workshop/blob/master/dsl_logo.png?raw=1)\n",
        "\n",
        "\n",
        "# Introduction to Python!\n",
        "\n",
        "Welcome to the Digital Scholarship Lab introduction to Python class. By the end of today we'll know all about the following;\n",
        "- variables\n",
        "- math\n",
        "- conditional\n",
        "- loops\n",
        "- functions\n",
        "\n",
        "We'll use the Zoom's chat feature to interact.\n",
        "\n",
        "Be sure to enable line numbers by looking for the 'gear' icon and checking the box in the 'Editor' panel.\n",
        "\n",
        "Be sure to also 'Save a Copy' under the Edit menu."
      ]
    },
    {
      "cell_type": "markdown",
      "metadata": {
        "id": "FTg-oS4Ehzsh"
      },
      "source": [
        "## Python via Jupyter\n",
        "\n",
        "- Jupyter notebooks allow us to have code in a webpage\n",
        "- Each bit of code is in a 'cell', we hit the play button to run the code in the cell\n",
        "- The first cell takes a bit to run because the environment is getting created\n",
        "- Let's try it with the code below"
      ]
    },
    {
      "cell_type": "code",
      "execution_count": 1,
      "metadata": {
        "id": "e867S2lChzsi",
        "outputId": "cead8ba4-059e-4cba-9a2f-bd010ac61eb9",
        "colab": {
          "base_uri": "https://localhost:8080/"
        }
      },
      "outputs": [
        {
          "output_type": "stream",
          "name": "stdout",
          "text": [
            "What is your name? Daiva\n",
            "Hello Daiva\n"
          ]
        }
      ],
      "source": [
        "# We are going to ask for the user to input their name\n",
        "# We'll then tell that person hello\n",
        "\n",
        "user_name = input(\"What is your name? \")\n",
        "print(\"Hello \" + user_name)\n"
      ]
    },
    {
      "cell_type": "markdown",
      "metadata": {
        "id": "i7dBblxChzsj"
      },
      "source": [
        "***\n",
        "\n",
        "## Variables, Printing and Comments\n",
        "\n",
        "- Variable can hold values and come in different types, as we say earlier the user's name is in a variable called `user_name`\n",
        "- variables can all be strings, integers, real numbers, or pretty much anything else\n",
        "- when we want to print something we use the function `print()`\n",
        "- Anything after a `#` is a comment, it is ignored by Python"
      ]
    },
    {
      "cell_type": "code",
      "execution_count": 2,
      "metadata": {
        "id": "TWdr3tjYhzsk"
      },
      "outputs": [],
      "source": [
        "# A number with a decimal is called a real\n",
        "pi = 3.14\n",
        "\n",
        "#A number without a decimal is called an integer\n",
        "items_in_a_dozen = 12\n",
        "\n",
        "#Text in variable is called a string\n",
        "favourite_color = \"blue\"\n",
        "\n",
        "#You can list multiple values in one variable\n",
        "#This is called a list, they can have anything in them\n",
        "\n",
        "crayon_colours = [\"red\",\"blue\",\"yellow\"]"
      ]
    },
    {
      "cell_type": "markdown",
      "metadata": {
        "id": "dr6rPYjGhzsk"
      },
      "source": [
        "Try questions Q1 - Q3 and type \"Done!\" in the chat when you are finished"
      ]
    },
    {
      "cell_type": "markdown",
      "metadata": {
        "id": "ca5iVjNihzsl"
      },
      "source": [
        "- **Q1** Can you create a variable called `age` and give set it to your age in years? "
      ]
    },
    {
      "cell_type": "code",
      "execution_count": 3,
      "metadata": {
        "id": "uJzG9NFchzsl",
        "outputId": "13dcb5cf-7ef3-45ce-876d-28e9d5ffc672",
        "colab": {
          "base_uri": "https://localhost:8080/"
        }
      },
      "outputs": [
        {
          "name": "stdout",
          "output_type": "stream",
          "text": [
            "Enter your name: Daiva\n",
            "Enter your favourite clour:black\n"
          ]
        }
      ],
      "source": [
        "age = 46\n",
        "user_name = input('Enter your name: ')\n",
        "my_favourite_colour = input('Enter your favourite clour:')"
      ]
    },
    {
      "cell_type": "markdown",
      "metadata": {
        "id": "AAkDCxcDhzsm"
      },
      "source": [
        "- **Q2** Can you print your age to the screen?"
      ]
    },
    {
      "cell_type": "code",
      "execution_count": 4,
      "metadata": {
        "id": "hLDuYy5phzsm",
        "outputId": "e3380234-847c-4db4-a230-f18771cbbcea",
        "colab": {
          "base_uri": "https://localhost:8080/"
        }
      },
      "outputs": [
        {
          "output_type": "stream",
          "name": "stdout",
          "text": [
            "46\n"
          ]
        }
      ],
      "source": [
        "print(age)"
      ]
    },
    {
      "cell_type": "markdown",
      "metadata": {
        "id": "d__bOE3Dhzsn"
      },
      "source": [
        "- If we want to combine things and print them all together we join them with at `+` just like we saw above\n",
        "\n",
        "`print(\"Hello \" + user_name)`"
      ]
    },
    {
      "cell_type": "markdown",
      "metadata": {
        "id": "fuDGze1Ahzsn"
      },
      "source": [
        "- **Q3** Can you modify favourite colour above, re-run the cell and complete the print statement that follows"
      ]
    },
    {
      "cell_type": "code",
      "execution_count": 5,
      "metadata": {
        "id": "6TNGl8Guhzsn",
        "outputId": "7fdc6f99-41b7-407f-be74-b6c00dd7b567",
        "colab": {
          "base_uri": "https://localhost:8080/"
        }
      },
      "outputs": [
        {
          "output_type": "stream",
          "name": "stdout",
          "text": [
            "My name is Daiva and my favourite colour is black.\n"
          ]
        }
      ],
      "source": [
        "print(\"My name is \" + user_name + \" and my favourite colour is \" + my_favourite_colour + \".\")"
      ]
    },
    {
      "cell_type": "markdown",
      "metadata": {
        "id": "9pyhstYehzso"
      },
      "source": [
        "***\n",
        "\n",
        "## A Python thing to keep in mind!\n",
        "\n",
        "- Some programming languages need a `;` at the end of a line of code, not Python!\n",
        "- With Python you need to **indent** your code, the rest of the examples will demonstrate this\n",
        "\n"
      ]
    },
    {
      "cell_type": "markdown",
      "metadata": {
        "id": "pFj21tLvhzso"
      },
      "source": [
        "***\n",
        "\n",
        "## Variables - Dictionaries\n",
        "\n",
        "- These are fancy variables\n",
        "- These are a bit more complicated as they hold both a 'key' and a 'value'.\n"
      ]
    },
    {
      "cell_type": "code",
      "execution_count": 6,
      "metadata": {
        "id": "u6AopsB2hzso"
      },
      "outputs": [],
      "source": [
        "phone_numbers = {\n",
        "    \"Mom\":\"555-8980\",\n",
        "    \"Joe\":\"555-1021\"\n",
        "}\n",
        "\n",
        "toronto_weather = {\n",
        "    \"Monday\": 10,\n",
        "    \"Tuesday\" : 12,\n",
        "    \"Wednesday\" : 15,\n",
        "    \"Thursday\" : 10,\n",
        "    \"Friday\" : 9,\n",
        "    \"Saturday\" : 6,\n",
        "    \"Sunday\" : 6\n",
        "    }"
      ]
    },
    {
      "cell_type": "markdown",
      "metadata": {
        "id": "XVmPDnpphzso"
      },
      "source": [
        "- We can print a dictionary in a very similar way to other variables like we saw earlier."
      ]
    },
    {
      "cell_type": "code",
      "execution_count": 7,
      "metadata": {
        "id": "EP3nE07uhzsp",
        "outputId": "812a3a98-405f-42c9-e9d1-8f89bad585eb",
        "colab": {
          "base_uri": "https://localhost:8080/"
        }
      },
      "outputs": [
        {
          "output_type": "stream",
          "name": "stdout",
          "text": [
            "{'Mom': '555-8980', 'Joe': '555-1021'}\n"
          ]
        }
      ],
      "source": [
        "print(phone_numbers)"
      ]
    },
    {
      "cell_type": "markdown",
      "metadata": {
        "id": "cySCekzXhzsp"
      },
      "source": [
        "- You can do some interesting things with dictionaries, (we'll see more as time goes on)\n",
        "- For example you can print out different parts of the dictionary by adding in a `key`"
      ]
    },
    {
      "cell_type": "code",
      "execution_count": 8,
      "metadata": {
        "id": "uXXxZOdJhzsp",
        "outputId": "87807bb4-22cd-445d-9124-55f06a4c213e",
        "colab": {
          "base_uri": "https://localhost:8080/"
        }
      },
      "outputs": [
        {
          "output_type": "stream",
          "name": "stdout",
          "text": [
            "10\n"
          ]
        }
      ],
      "source": [
        "print(toronto_weather[\"Monday\"])"
      ]
    },
    {
      "cell_type": "markdown",
      "metadata": {
        "id": "4XNiUtqNhzsp"
      },
      "source": [
        "Try questions Q4-Q6 below and type \"Finished!\" in the chat when you are done."
      ]
    },
    {
      "cell_type": "markdown",
      "metadata": {
        "id": "rh3MvcvRhzsq"
      },
      "source": [
        "- **Q4** Print Wednesday's weather"
      ]
    },
    {
      "cell_type": "code",
      "execution_count": 9,
      "metadata": {
        "id": "L1pNBgm9hzsq",
        "outputId": "26f91f81-bdbf-4b2e-b124-b1b13004f03f",
        "colab": {
          "base_uri": "https://localhost:8080/"
        }
      },
      "outputs": [
        {
          "output_type": "stream",
          "name": "stdout",
          "text": [
            "15\n"
          ]
        }
      ],
      "source": [
        "print(toronto_weather['Wednesday'])"
      ]
    },
    {
      "cell_type": "markdown",
      "metadata": {
        "id": "uQSStVyEhzsq"
      },
      "source": [
        "- **Q5** Print Saturday's weather"
      ]
    },
    {
      "cell_type": "code",
      "execution_count": 10,
      "metadata": {
        "id": "kJRmgZYzhzsq",
        "outputId": "0fe0d1ea-f070-4ea3-aae7-efdbdaf185c4",
        "colab": {
          "base_uri": "https://localhost:8080/"
        }
      },
      "outputs": [
        {
          "output_type": "stream",
          "name": "stdout",
          "text": [
            "6\n"
          ]
        }
      ],
      "source": [
        "print(toronto_weather['Saturday'])"
      ]
    },
    {
      "cell_type": "markdown",
      "metadata": {
        "id": "ifTMfEsphzsq"
      },
      "source": [
        "- **Q6** Print Joe's phone number"
      ]
    },
    {
      "cell_type": "code",
      "execution_count": 11,
      "metadata": {
        "id": "CxNRn-Zyhzsq",
        "outputId": "135d9a65-68d9-492b-f4da-e7651dcf7aaa",
        "colab": {
          "base_uri": "https://localhost:8080/"
        }
      },
      "outputs": [
        {
          "output_type": "stream",
          "name": "stdout",
          "text": [
            "555-1021\n"
          ]
        }
      ],
      "source": [
        "print(phone_numbers['Joe'])"
      ]
    },
    {
      "cell_type": "markdown",
      "metadata": {
        "id": "VtOREFxghzsr"
      },
      "source": [
        "***\n",
        "\n",
        "## Doing Math\n",
        "\n",
        "As you'd expect with a programming language Python is pretty good at doing math. The basic operators you can use are as follows:\n",
        "\n",
        "- `*` is for multiplication\n",
        "- `+` is for addition\n",
        "- `-` is the subtraction\n",
        "- `%` is the remainder\n",
        "- `/` is division\n",
        "\n",
        "Let's re-use our dictionary variable about the weather from earlier."
      ]
    },
    {
      "cell_type": "markdown",
      "metadata": {
        "id": "w-jFqmYzhzsr"
      },
      "source": [
        "- Let's find the average recorded for the weekdays\n",
        "- Another Python hint, if you need to go across multiple lines use `\\` like in the following"
      ]
    },
    {
      "cell_type": "code",
      "execution_count": 12,
      "metadata": {
        "id": "MlkfpVUdhzsr",
        "outputId": "2f1a8da1-658e-4905-c643-4bdf4e69916c",
        "colab": {
          "base_uri": "https://localhost:8080/"
        }
      },
      "outputs": [
        {
          "output_type": "stream",
          "name": "stdout",
          "text": [
            "11.2\n"
          ]
        }
      ],
      "source": [
        "five_day_total = toronto_weather[\"Monday\"] + \\\n",
        "                    toronto_weather[\"Tuesday\"] + \\\n",
        "                    toronto_weather[\"Wednesday\"] + \\\n",
        "                    toronto_weather[\"Thursday\"] + \\\n",
        "                    toronto_weather[\"Friday\"]\n",
        "\n",
        "print(five_day_total / 5)"
      ]
    },
    {
      "cell_type": "markdown",
      "metadata": {
        "id": "J8FoeVjAhzsr"
      },
      "source": [
        "- All of our temp data is in **C**\n",
        "- What if we want to know it in **F**?"
      ]
    },
    {
      "cell_type": "code",
      "execution_count": 13,
      "metadata": {
        "id": "8HHANopphzsr",
        "outputId": "18b76825-5efb-4c4a-e9b3-68211a2fa5c0",
        "colab": {
          "base_uri": "https://localhost:8080/"
        }
      },
      "outputs": [
        {
          "output_type": "stream",
          "name": "stdout",
          "text": [
            "50.0\n"
          ]
        }
      ],
      "source": [
        "print(toronto_weather[\"Monday\"] * 9/5 + 32)"
      ]
    },
    {
      "cell_type": "markdown",
      "metadata": {
        "id": "4enqIeaBhzss"
      },
      "source": [
        "Try questions Q7 - Q10 and type \"Completed\" in the chat box when you are done."
      ]
    },
    {
      "cell_type": "markdown",
      "metadata": {
        "id": "4O81eIjQhzss"
      },
      "source": [
        "- **Q7** Can you print out Thursday's temp in F?"
      ]
    },
    {
      "cell_type": "code",
      "execution_count": 14,
      "metadata": {
        "id": "BXOTf82uhzss",
        "outputId": "1acb3161-d16e-4194-c106-90cdb8878b26",
        "colab": {
          "base_uri": "https://localhost:8080/"
        }
      },
      "outputs": [
        {
          "output_type": "stream",
          "name": "stdout",
          "text": [
            "50.0\n"
          ]
        }
      ],
      "source": [
        "print(toronto_weather[\"Thursday\"] * 9/5 + 32)"
      ]
    },
    {
      "cell_type": "markdown",
      "metadata": {
        "id": "K59p51m1hzss"
      },
      "source": [
        "- **Q8** Can you print out the average temp from the weekend?"
      ]
    },
    {
      "cell_type": "code",
      "execution_count": 106,
      "metadata": {
        "id": "dptgvlJuhzss",
        "outputId": "d516ff3f-8957-4107-84ac-3d35e50359f9",
        "colab": {
          "base_uri": "https://localhost:8080/"
        }
      },
      "outputs": [
        {
          "output_type": "stream",
          "name": "stdout",
          "text": [
            "6.0\n"
          ]
        }
      ],
      "source": [
        "toronto_weather_weekend = toronto_weather[\"Saturday\"] + \\\n",
        "                    toronto_weather[\"Sunday\"]\n",
        "\n",
        "print(toronto_weather_weekend / 2)"
      ]
    },
    {
      "cell_type": "markdown",
      "metadata": {
        "id": "HsaR1Vuyhzss"
      },
      "source": [
        "- **Q9** Can you print how many days you've been alive for (approximately) using the `age` variable?"
      ]
    },
    {
      "cell_type": "code",
      "execution_count": 15,
      "metadata": {
        "id": "iqg8CuCMhzss",
        "outputId": "2ac5e94d-c40b-41d9-fb18-64cd191b327b",
        "colab": {
          "base_uri": "https://localhost:8080/"
        }
      },
      "outputs": [
        {
          "output_type": "stream",
          "name": "stdout",
          "text": [
            "16790\n"
          ]
        }
      ],
      "source": [
        "age_alive = age*365\n",
        "print(age_alive)"
      ]
    },
    {
      "cell_type": "markdown",
      "metadata": {
        "id": "sqQolCXLhzst"
      },
      "source": [
        "- **Q10** If you had 45 donuts and you were putting them in boxes that could hold 12 donuts, how many donuts would be in the last box?"
      ]
    },
    {
      "cell_type": "code",
      "execution_count": 16,
      "metadata": {
        "id": "LLzbImQ6hzst",
        "outputId": "694772d4-761e-4da4-ac74-b08fb1251036",
        "colab": {
          "base_uri": "https://localhost:8080/"
        }
      },
      "outputs": [
        {
          "output_type": "stream",
          "name": "stdout",
          "text": [
            "9\n"
          ]
        }
      ],
      "source": [
        "lastbox = 45 - int(45 / 12) * 12\n",
        "print(lastbox)"
      ]
    },
    {
      "cell_type": "markdown",
      "metadata": {
        "id": "PnLgQQGJhzst"
      },
      "source": [
        "*** \n",
        "\n",
        "## Loops \n",
        "\n",
        "- When we want to repeat the same thing over and over again we put it in something called a loop\n",
        "- Python lets you do **a lot** with loops without typing in much text\n",
        "- Here `crayon` is a variable that gets assigned to the next item in the `crayon_colours` list every time we loop\n",
        "- Let's print the contents of our list using a loop"
      ]
    },
    {
      "cell_type": "code",
      "execution_count": 17,
      "metadata": {
        "id": "DqrND-Jrhzst",
        "outputId": "feadbfe8-a0b4-4eed-f075-e7c5e012ec42",
        "colab": {
          "base_uri": "https://localhost:8080/"
        }
      },
      "outputs": [
        {
          "output_type": "stream",
          "name": "stdout",
          "text": [
            "red\n",
            "blue\n",
            "yellow\n"
          ]
        }
      ],
      "source": [
        "crayon_colours = [\"red\",\"blue\",\"yellow\"]\n",
        "\n",
        "for crayon in crayon_colours:\n",
        "    print(crayon)\n"
      ]
    },
    {
      "cell_type": "markdown",
      "metadata": {
        "id": "e4bsHrjdhzst"
      },
      "source": [
        "- The basic structure of a loop for us looks like the following\n",
        "\n",
        "```\n",
        "for item in loopable_variable:\n",
        "    #do this code\n",
        "```\n",
        "\n",
        "- `item` is the variable you use every time you loop\n",
        "- `loopable_variable` is the variable you'd like to loop through. Often a list, but it can be anything that Python knows how to loop through. For example strings and dictionaries as we will see soon\n"
      ]
    },
    {
      "cell_type": "markdown",
      "metadata": {
        "id": "eQbfshLEhzst"
      },
      "source": [
        "### Counting with Loops\n",
        "\n",
        "Very often we use loops to count things. Each time through the loop we update a running value or we increment a counter. The following couple of cells illustrate this."
      ]
    },
    {
      "cell_type": "code",
      "execution_count": 19,
      "metadata": {
        "id": "MFytHoxehzsu",
        "outputId": "2801f3fa-a6ba-4060-e403-8ff433603d5e",
        "colab": {
          "base_uri": "https://localhost:8080/"
        }
      },
      "outputs": [
        {
          "output_type": "stream",
          "name": "stdout",
          "text": [
            "Total Candy Bars:  4\n"
          ]
        }
      ],
      "source": [
        "candy_bars = [\"Mars\",\"Snickers\",\"Kit Kat\",\"Butterfinger\"]\n",
        "\n",
        "#This is a counter variable\n",
        "#We'll increase this value by 1 every time we loop\n",
        "total_candy_bars = 0\n",
        "\n",
        "\n",
        "for bar in candy_bars:\n",
        "    total_candy_bars = total_candy_bars + 1\n",
        "\n",
        "\n",
        "print(\"Total Candy Bars: \", total_candy_bars)\n"
      ]
    },
    {
      "cell_type": "markdown",
      "metadata": {
        "id": "e80-Mb1_hzsu"
      },
      "source": [
        "In this example line **9** is a bit different. It is a shorthand for line **9** in the cell above. Does it make sense to you?"
      ]
    },
    {
      "cell_type": "code",
      "execution_count": 20,
      "metadata": {
        "id": "-bcXHbHthzsu",
        "outputId": "949903f5-25a9-40ee-e1df-c2a6bd4e3777",
        "colab": {
          "base_uri": "https://localhost:8080/"
        }
      },
      "outputs": [
        {
          "output_type": "stream",
          "name": "stdout",
          "text": [
            "Total Candy Bars:  4\n"
          ]
        }
      ],
      "source": [
        "candy_bars = [\"Mars\",\"Snickers\",\"Kit Kat\",\"Butterfinger\"]\n",
        "\n",
        "#This is a counter variable\n",
        "#We'll increase this value by 1 every time we loop\n",
        "total_candy_bars = 0\n",
        "\n",
        "#Our first code shortcut. a += b  means a = a + b \n",
        "for bar in candy_bars:\n",
        "    total_candy_bars += 1\n",
        "\n",
        "\n",
        "print(\"Total Candy Bars: \", total_candy_bars)\n"
      ]
    },
    {
      "cell_type": "markdown",
      "metadata": {
        "id": "2orCS-aOhzsu"
      },
      "source": [
        "Try questions Q11 - Q13 and type \"All done\" into the chat box"
      ]
    },
    {
      "cell_type": "markdown",
      "metadata": {
        "id": "amcDCQALhzsu"
      },
      "source": [
        "- **Q11** Can you write a loop to print all of the numbers in the list `numbers`?"
      ]
    },
    {
      "cell_type": "code",
      "execution_count": 22,
      "metadata": {
        "id": "dsazlNGOhzsv",
        "outputId": "3866a45a-673b-47bc-9e9d-ea79397ff08e",
        "colab": {
          "base_uri": "https://localhost:8080/"
        }
      },
      "outputs": [
        {
          "output_type": "stream",
          "name": "stdout",
          "text": [
            "1\n",
            "2\n",
            "3\n",
            "4\n",
            "5\n"
          ]
        }
      ],
      "source": [
        "numbers = [1,2,3,4,5]\n",
        "\n",
        "for digit in numbers: \n",
        "   print(digit)"
      ]
    },
    {
      "cell_type": "markdown",
      "metadata": {
        "id": "BFUu8J3Uhzsv"
      },
      "source": [
        "- **Q12** Can you make a loop that prints all of the letters in your name?"
      ]
    },
    {
      "cell_type": "code",
      "execution_count": 23,
      "metadata": {
        "id": "zSXrTKQghzsv",
        "outputId": "e108823a-5d34-43a0-e2c4-defa07a99437",
        "colab": {
          "base_uri": "https://localhost:8080/"
        }
      },
      "outputs": [
        {
          "output_type": "stream",
          "name": "stdout",
          "text": [
            "P\n",
            "y\n",
            "t\n",
            "h\n",
            "o\n",
            "n\n"
          ]
        }
      ],
      "source": [
        "user_name = \"Python\"\n",
        "for letter in user_name:\n",
        "   print(letter)\n"
      ]
    },
    {
      "cell_type": "markdown",
      "metadata": {
        "id": "2hspGavthzsv"
      },
      "source": [
        "- **Q13** Can you write a loop that counts the number of letter in the string variable `alphabet` and print that to the screen?"
      ]
    },
    {
      "cell_type": "code",
      "execution_count": 24,
      "metadata": {
        "id": "sc5vRhFbhzsw",
        "outputId": "664755e6-d313-4122-8bf1-a8d21f98379b",
        "colab": {
          "base_uri": "https://localhost:8080/"
        }
      },
      "outputs": [
        {
          "output_type": "stream",
          "name": "stdout",
          "text": [
            "Total letters:  26\n"
          ]
        }
      ],
      "source": [
        "alphabet = \"abcdefghijklmnopqrstuvwxyz\"\n",
        "\n",
        "letter_count = 0\n",
        "\n",
        "for letter in alphabet:\n",
        "   letter_count = letter_count + 1\n",
        "\n",
        "print(\"Total letters: \", letter_count)"
      ]
    },
    {
      "cell_type": "markdown",
      "metadata": {
        "id": "5SU3Qc9Uhzsw"
      },
      "source": [
        "***\n",
        "\n",
        "## Dictionaries and Loops\n",
        "\n",
        "- Watch what happens when we try to do a loop through a dictionary"
      ]
    },
    {
      "cell_type": "code",
      "execution_count": 25,
      "metadata": {
        "scrolled": false,
        "id": "FUjcYrxIhzsw",
        "outputId": "ee1066dc-d0ad-4794-c75c-ae1dae9882c3",
        "colab": {
          "base_uri": "https://localhost:8080/"
        }
      },
      "outputs": [
        {
          "output_type": "stream",
          "name": "stdout",
          "text": [
            "Monday\n",
            "Tuesday\n",
            "Wednesday\n",
            "Thursday\n",
            "Friday\n",
            "Saturday\n",
            "Sunday\n"
          ]
        }
      ],
      "source": [
        "for day in toronto_weather:\n",
        "    print(day)"
      ]
    },
    {
      "cell_type": "markdown",
      "metadata": {
        "id": "SqY62D8Khzsx"
      },
      "source": [
        "- Since dictionaries are more complex, there are many ways to interact with them\n",
        "- We add `.values()` to get the values of the dictionary\n",
        "- We add `.keys()` to get the keys of the dictionary"
      ]
    },
    {
      "cell_type": "code",
      "execution_count": 26,
      "metadata": {
        "scrolled": false,
        "id": "1Ja4Jalchzsx",
        "outputId": "2ac34a6b-d7b6-4c7e-c542-a11a1d85088c",
        "colab": {
          "base_uri": "https://localhost:8080/"
        }
      },
      "outputs": [
        {
          "output_type": "stream",
          "name": "stdout",
          "text": [
            "10\n",
            "12\n",
            "15\n",
            "10\n",
            "9\n",
            "6\n",
            "6\n"
          ]
        }
      ],
      "source": [
        "#print all the items in our Dictionary\n",
        "\n",
        "for item in toronto_weather.values():\n",
        "    print(item)"
      ]
    },
    {
      "cell_type": "code",
      "execution_count": 27,
      "metadata": {
        "id": "_RVJ8bIZhzsx",
        "outputId": "944ca4ff-4767-4f5b-c678-bf4ff61397ee",
        "colab": {
          "base_uri": "https://localhost:8080/"
        }
      },
      "outputs": [
        {
          "output_type": "stream",
          "name": "stdout",
          "text": [
            "Monday\n",
            "Tuesday\n",
            "Wednesday\n",
            "Thursday\n",
            "Friday\n",
            "Saturday\n",
            "Sunday\n"
          ]
        }
      ],
      "source": [
        "# print out the keys in our Dictionary\n",
        "\n",
        "for item in toronto_weather.keys():\n",
        "    print(item)\n"
      ]
    },
    {
      "cell_type": "markdown",
      "metadata": {
        "id": "CTa1rD7khzsx"
      },
      "source": [
        "***\n",
        "\n",
        "## Conditionals \n",
        "\n",
        "- When we want to run a piece of code only if something is true\n",
        "\n",
        "\n",
        "- We can compare with the following:\n",
        " - `==`\n",
        " - `>=`\n",
        " - `<=`\n",
        " - `<`\n",
        " - `>` \n",
        " - `!=`\n",
        " \n",
        " \n",
        " \n",
        " - When we just want to check one `condition` and if is true run `code1`\n",
        "```\n",
        "\n",
        "        if condition:\n",
        "            code1\n",
        "```\n",
        "\n",
        "\n",
        "\n",
        "\n",
        "\n",
        " - When we just want to check one `condition` and if is true run `code1`, if it is not true we run `code2` instead\n",
        "\n",
        "```\n",
        "\n",
        "        if condition:\n",
        "            code1\n",
        "        else:\n",
        "            code2       \n",
        " ```\n",
        " \n",
        " "
      ]
    },
    {
      "cell_type": "markdown",
      "metadata": {
        "id": "S2qlbO5dhzsx"
      },
      "source": [
        "- Let's pretend that anything over 10 degrees is hot. Let' make a conditional that prints out if it is hot on **Wednesday**"
      ]
    },
    {
      "cell_type": "code",
      "execution_count": 28,
      "metadata": {
        "id": "sZ8Cl1oBhzsx",
        "outputId": "6d92c97d-2564-4dc9-b0a1-9646ac59ecee",
        "colab": {
          "base_uri": "https://localhost:8080/"
        }
      },
      "outputs": [
        {
          "output_type": "stream",
          "name": "stdout",
          "text": [
            "Hot out today\n"
          ]
        }
      ],
      "source": [
        "if toronto_weather[\"Wednesday\"] > 10:\n",
        "    print(\"Hot out today\")"
      ]
    },
    {
      "cell_type": "markdown",
      "metadata": {
        "id": "JOXL6kzvhzsy"
      },
      "source": [
        "Try questions Q14-Q15 and type \"check\" into the chat box when you are done"
      ]
    },
    {
      "cell_type": "markdown",
      "metadata": {
        "id": "q0ENf2aXhzsy"
      },
      "source": [
        "- **Q14** Can you complete the following to make it print out \"It is cold\" when it is less then 10 degrees?"
      ]
    },
    {
      "cell_type": "code",
      "execution_count": 31,
      "metadata": {
        "id": "-LIr2eO4hzsy",
        "outputId": "fbb53d8c-46e3-4fc8-f27b-e5f72c49c039",
        "colab": {
          "base_uri": "https://localhost:8080/"
        }
      },
      "outputs": [
        {
          "output_type": "stream",
          "name": "stdout",
          "text": [
            "It is cold\n"
          ]
        }
      ],
      "source": [
        "if toronto_weather[\"Sunday\"] < 10:\n",
        "    print(\"It is cold\")"
      ]
    },
    {
      "cell_type": "markdown",
      "metadata": {
        "id": "PGqErRxFhzsy"
      },
      "source": [
        "- **Q15** Can you write a loop that goes through all of the days of the week and prints 'Hot out Today' if the tempurature is above 10, and 'It is cold' if it is below or equal to 10 degrees?"
      ]
    },
    {
      "cell_type": "code",
      "execution_count": 32,
      "metadata": {
        "id": "k945Jgu1hzsy",
        "outputId": "23846865-d3a6-41f3-ec5f-6e76793cf0c2",
        "colab": {
          "base_uri": "https://localhost:8080/"
        }
      },
      "outputs": [
        {
          "output_type": "stream",
          "name": "stdout",
          "text": [
            "It is cold\n",
            "Hot out today\n",
            "Hot out today\n",
            "It is cold\n",
            "It is cold\n",
            "It is cold\n",
            "It is cold\n"
          ]
        }
      ],
      "source": [
        "for temp in toronto_weather.values():\n",
        "    \n",
        "    if temp > 10:\n",
        "        print(\"Hot out today\")\n",
        "    else:\n",
        "        print(\"It is cold\")"
      ]
    },
    {
      "cell_type": "markdown",
      "metadata": {
        "id": "ch9cbSjThzsy"
      },
      "source": [
        "***\n",
        "\n",
        "## Combining with boolean\n",
        "\n",
        "- Sometimes we want to combine conditionals because we want to test more complicated things\n",
        "- We can do this with the following:\n",
        " - `and`\n",
        " - `or`\n",
        " - `not`"
      ]
    },
    {
      "cell_type": "markdown",
      "metadata": {
        "id": "2mOTrswLhzsy"
      },
      "source": [
        "- Here's a quick game that demonstrates this\n",
        "- It will ask you to put a value in between 1 and 10. If you don't, it will let you know"
      ]
    },
    {
      "cell_type": "code",
      "execution_count": 36,
      "metadata": {
        "id": "RVr2E6yjhzsz",
        "outputId": "2668dd5e-a628-4e8b-9bf4-d36aa987bb6a",
        "colab": {
          "base_uri": "https://localhost:8080/"
        }
      },
      "outputs": [
        {
          "output_type": "stream",
          "name": "stdout",
          "text": [
            "Pick any number between 1 - 10: 9\n",
            "Your number is between 1 and 10!\n"
          ]
        }
      ],
      "source": [
        "#we can turn a variable into a integer with the int() function\n",
        "number = int(input(\"Pick any number between 1 - 10: \"))\n",
        "\n",
        "if number > 10 or number < 1:\n",
        "    print(\"Sorry you didn't pick a number between 1 - 10\")\n",
        "else:\n",
        "    print(\"Your number is between 1 and 10!\")"
      ]
    },
    {
      "cell_type": "markdown",
      "metadata": {
        "id": "0PgOmKp4hzsz"
      },
      "source": [
        "Try questions Q16, type \"all done\" when completed."
      ]
    },
    {
      "cell_type": "markdown",
      "metadata": {
        "id": "xDFKCPNLhzsz"
      },
      "source": [
        "- **Q16** Can you re-write the conditional from the game above to use an `and` to do the same thing? you'll need to use some operators from the **Conditionals** section above. \n",
        "\n",
        "**HINT** It will be easier if you use <= and >= "
      ]
    },
    {
      "cell_type": "code",
      "execution_count": 42,
      "metadata": {
        "id": "_6PcQn-4hzsz",
        "outputId": "93d37c11-983c-4a07-a79f-4739398ff8cb",
        "colab": {
          "base_uri": "https://localhost:8080/"
        }
      },
      "outputs": [
        {
          "output_type": "stream",
          "name": "stdout",
          "text": [
            "Pick any number between 1 - 10: 0\n",
            "Sorry you didn't pick a number between 1-10\n"
          ]
        }
      ],
      "source": [
        "#we can turn a variable into a integer with the int() function\n",
        "#as with most programming tasks there are more then 1 way to accomplish something\n",
        "number = int(input(\"Pick any number between 1 - 10: \"))\n",
        "\n",
        "if number < 10 and number > 0 :\n",
        "    print(\"Your number is between 1 and 10!\")\n",
        "else:\n",
        "    print(\"Sorry you didn't pick a number between 1-10\")"
      ]
    },
    {
      "cell_type": "markdown",
      "metadata": {
        "id": "zysP02Ashzsz"
      },
      "source": [
        "***\n",
        "\n",
        "## Functions\n",
        "\n",
        "- Functions are bits of code that do a certain task in a certain way\n",
        "- We saw this earlier with the `print()` function\n",
        "- We also just used the `int()` function in our game\n",
        "- some functions need _arguments_ or _paramaters_. We pass those in the the round brackets. EG. we pass what string variable we want turned into an integer with the `int()` function.\n",
        "- we can create our own functions too"
      ]
    },
    {
      "cell_type": "code",
      "execution_count": 43,
      "metadata": {
        "id": "4x2NlVNmhzsz",
        "outputId": "9a6cddae-4262-41b5-cf54-662ba86d50f7",
        "colab": {
          "base_uri": "https://localhost:8080/"
        }
      },
      "outputs": [
        {
          "output_type": "stream",
          "name": "stdout",
          "text": [
            "hello world\n"
          ]
        },
        {
          "output_type": "execute_result",
          "data": {
            "text/plain": [
              "0"
            ]
          },
          "metadata": {},
          "execution_count": 43
        }
      ],
      "source": [
        "print(\"hello world\")\n",
        "int(number)"
      ]
    },
    {
      "cell_type": "markdown",
      "metadata": {
        "id": "vK0WHwF_hzsz"
      },
      "source": [
        "- A useful function is `len()` which tells you how long something is\n",
        "- Let's print how long our `user_name` is\n",
        "- Often a function can be applied to different types of variables and the results are ares you expect"
      ]
    },
    {
      "cell_type": "code",
      "execution_count": 44,
      "metadata": {
        "id": "w74qRfTMhzsz",
        "outputId": "b29d95f9-b65d-4872-e911-191e881185e6",
        "colab": {
          "base_uri": "https://localhost:8080/"
        }
      },
      "outputs": [
        {
          "output_type": "execute_result",
          "data": {
            "text/plain": [
              "6"
            ]
          },
          "metadata": {},
          "execution_count": 44
        }
      ],
      "source": [
        "len(user_name)"
      ]
    },
    {
      "cell_type": "markdown",
      "metadata": {
        "id": "dKB2EjfDhzs0"
      },
      "source": [
        "A big part of programming is remembering function names!"
      ]
    },
    {
      "cell_type": "markdown",
      "metadata": {
        "id": "1ROEMpBZhzs0"
      },
      "source": [
        "- **Q18** What would the following snippet print on the screen? (Try to figure it out before running it, put your answer in the chat)"
      ]
    },
    {
      "cell_type": "code",
      "execution_count": 45,
      "metadata": {
        "id": "7dG4EbqShzs0",
        "outputId": "6f7b7c3e-ee50-42be-efe6-b4133a087805",
        "colab": {
          "base_uri": "https://localhost:8080/"
        }
      },
      "outputs": [
        {
          "output_type": "execute_result",
          "data": {
            "text/plain": [
              "7"
            ]
          },
          "metadata": {},
          "execution_count": 45
        }
      ],
      "source": [
        "len(toronto_weather)"
      ]
    },
    {
      "cell_type": "markdown",
      "metadata": {
        "id": "hwt3fMYthzs0"
      },
      "source": [
        "The structure of a function looks like the following:\n",
        "\n",
        "\n",
        "```\n",
        "def name_of_function(arguments):\n",
        "    #code\n",
        "    #code\n",
        "    return answer #not mandtory, only if you need to calculate a value\n",
        "    \n",
        "```\n",
        "When our function produces a value that we use later we make use of `return`. That will pass the variable back to the place that called it. \n",
        "\n",
        "\n",
        "\n",
        "We've already seen how we call a functon:\n",
        "\n",
        "```\n",
        "name_of_function(arguments)\n",
        "\n",
        "```\n",
        "\n",
        "If you would like to print out the results of your function you need to surround it with the `print` function\n",
        "\n",
        "```\n",
        "print(name_of_function(arguments))\n",
        "\n",
        "```\n",
        "\n",
        "The next code cell demostrates this diffence."
      ]
    },
    {
      "cell_type": "code",
      "execution_count": 46,
      "metadata": {
        "id": "AJ0B87zGhzs0",
        "outputId": "f26451ad-8345-43a1-e5b4-7a165939cd39",
        "colab": {
          "base_uri": "https://localhost:8080/"
        }
      },
      "outputs": [
        {
          "output_type": "stream",
          "name": "stdout",
          "text": [
            "Saluting Dr. Spock\n",
            "9\n"
          ]
        }
      ],
      "source": [
        "spock = \"Dr. Spock\"\n",
        "\n",
        "#a function that doesn't return a value\n",
        "def salute(name):\n",
        "    print(\"Saluting \" + name)\n",
        "    \n",
        "#a function that does return a value\n",
        "def count_name_length(name):\n",
        "    return len(name)\n",
        "\n",
        "#calling our functions\n",
        "salute(spock)\n",
        "\n",
        "print(count_name_length(spock))"
      ]
    },
    {
      "cell_type": "markdown",
      "metadata": {
        "id": "GjEhDMMthzs0"
      },
      "source": [
        "Let's reload our toronto weather data and create a function to help us analyze it better."
      ]
    },
    {
      "cell_type": "code",
      "execution_count": 47,
      "metadata": {
        "id": "K-ijkubxhzs0"
      },
      "outputs": [],
      "source": [
        "\n",
        "\n",
        "toronto_weather = {\n",
        "    \"Monday\": 10,\n",
        "    \"Tuesday\" : 12,\n",
        "    \"Wednesday\" : 15,\n",
        "    \"Thursday\" : 10,\n",
        "    \"Friday\" : 9,\n",
        "    \"Saturday\" : 6,\n",
        "    \"Sunday\" : 6\n",
        "    }"
      ]
    },
    {
      "cell_type": "markdown",
      "metadata": {
        "id": "_sRuLW9Hhzs0"
      },
      "source": [
        "- The function below will change the temp to **F** from **C**\n",
        "- Statements can get pretty long if you call lots of functions in them\n",
        "- Here we find **Monday's** temp in **F** and print it"
      ]
    },
    {
      "cell_type": "code",
      "execution_count": 48,
      "metadata": {
        "id": "1ufVcHz4hzs1",
        "outputId": "cd716518-14b7-4e49-eb71-d4e526556b72",
        "colab": {
          "base_uri": "https://localhost:8080/"
        }
      },
      "outputs": [
        {
          "output_type": "stream",
          "name": "stdout",
          "text": [
            "50.0\n"
          ]
        }
      ],
      "source": [
        "def temp_to_f(c):\n",
        "    return c * 9/5 + 32\n",
        "\n",
        "print(temp_to_f(toronto_weather[\"Monday\"]))\n"
      ]
    },
    {
      "cell_type": "markdown",
      "metadata": {
        "id": "7p3DlH10hzs1"
      },
      "source": [
        "Try question Q19. Type \"I'm finished!\" into the chat when you are done"
      ]
    },
    {
      "cell_type": "markdown",
      "metadata": {
        "id": "FVqmyRiGhzs1"
      },
      "source": [
        "- **Q19** Can you complete this function that finds the average temperature for the week? You just need to modify line 10."
      ]
    },
    {
      "cell_type": "code",
      "execution_count": 49,
      "metadata": {
        "id": "orM37m82hzs1",
        "outputId": "ecf4aca5-5eac-4d8c-cb9f-2e3f606613a4",
        "colab": {
          "base_uri": "https://localhost:8080/"
        }
      },
      "outputs": [
        {
          "output_type": "stream",
          "name": "stdout",
          "text": [
            "9.714285714285714\n"
          ]
        }
      ],
      "source": [
        "def week_avg_c(toronto_weather):\n",
        "    \n",
        "    total_degrees  = 0\n",
        "    \n",
        "    for day in toronto_weather.values():\n",
        "        total_degrees = total_degrees + day\n",
        "    \n",
        "    #total_degrees has the sum of all 7 days of temp readings\n",
        "    #you just need to modify the next line: \n",
        "    return total_degrees / 7\n",
        "\n",
        "print(week_avg_c(toronto_weather))\n"
      ]
    },
    {
      "cell_type": "markdown",
      "metadata": {
        "id": "Uq8-Q9cphzs1"
      },
      "source": [
        "----\n",
        "\n",
        "## All the pieces together\n",
        "\n",
        "**Q20** Here's a bit of code that has all the pieces we've looked at in it:\n",
        "\n",
        "- loops\n",
        "- conditionals\n",
        "- functions\n",
        "- math\n",
        "\n",
        "The part that is new here is that we are returning two values from our function\n",
        "\n",
        "See if you can complete the code chunk, keeping in mind what we've learned. You'll need to modify line:\n",
        "*12*, *14*, *15*, *17*, & *20*\n",
        "\n",
        "\n",
        "When you get the solution type \"Finally Done!\" into the chat box."
      ]
    },
    {
      "cell_type": "code",
      "execution_count": 58,
      "metadata": {
        "id": "Fp8xZLVqhzs1",
        "outputId": "da0d7e46-5408-42fb-91c3-e247bafb54e7",
        "colab": {
          "base_uri": "https://localhost:8080/"
        }
      },
      "outputs": [
        {
          "output_type": "stream",
          "name": "stdout",
          "text": [
            "12\n",
            "Longest data point is: (6, 4)\n"
          ]
        }
      ],
      "source": [
        "\n",
        "data_points = [\"Dr. Spock\", \"Captain Kirk\", \"Mr. Sulu\", \"Bones\"]\n",
        "\n",
        "print(len(data_points[1]))\n",
        "\n",
        "\n",
        "def longest(data):\n",
        "    \n",
        "    max_length = 12\n",
        "    max_item = 4\n",
        "               \n",
        "    for d in data:\n",
        "               \n",
        "      if len(d) < max_length:\n",
        "            \n",
        "            max_length = len(data_points)\n",
        "            max_item = len(item)\n",
        "    \n",
        "    return max_item,max_length\n",
        "\n",
        "\n",
        "winner = longest(item)\n",
        "\n",
        "print(\"Longest data point is: \" + str(winner) )\n",
        "\n"
      ]
    },
    {
      "cell_type": "markdown",
      "metadata": {
        "id": "m4xgyCmvhzs1"
      },
      "source": [
        "***\n",
        "\n",
        "# Congrats! #\n",
        "\n",
        "You now know the basics of Python, why not try some of the next workshops in the series:\n",
        "\n",
        "- [Python for Data Science](https://brockdsl.github.io/Python_2.0_Workshop/)\n",
        "- [Machine Learning with Python](https://brockdsl.github.io/Machine_Learning_with_Python/)\n",
        "- [Text Analysis with Python](https://brockdsl.github.io/Text_Analysis_with_Python/)\n",
        "\n",
        "To sign-up for future sessions please check us out on [Eventbrite](https://brockdsl.eventbrite.com) "
      ]
    },
    {
      "cell_type": "markdown",
      "metadata": {
        "id": "Rk0SQnu7hzs2"
      },
      "source": [
        "## Further Reading\n",
        "\n",
        "Now that we've handled the basics here are some interesting next steps you can persue.\n",
        "\n",
        "[Kaggle](https://www.kaggle.com/) - An online portal that teaches data science using Notebooks, also has contests for cash prizes\n",
        "\n",
        "[Python the Hard Way](https://learntocodetogether.com/learn-python-the-hard-way-free-ebook-download/) - Don't let the name fool you, this book is a great introduction to Python and programming more generally\n"
      ]
    },
    {
      "cell_type": "markdown",
      "metadata": {
        "id": "CdJfCow3hzs2"
      },
      "source": [
        "----\n",
        "\n",
        "# Extra homework!\n",
        "\n",
        "If you'd really like to cement your understanding of functions in Python please these last 3 questions."
      ]
    },
    {
      "cell_type": "markdown",
      "metadata": {
        "id": "I65PBm2thzs2"
      },
      "source": [
        "- **Q21** Can you write a function that finds the average temp for the week but in **F**? You just need to modify line 5."
      ]
    },
    {
      "cell_type": "code",
      "execution_count": 59,
      "metadata": {
        "id": "bIApHSU4hzs2",
        "outputId": "921c0cf8-2f11-4293-eff2-6c8bc9222c2d",
        "colab": {
          "base_uri": "https://localhost:8080/"
        }
      },
      "outputs": [
        {
          "metadata": {
            "tags": null
          },
          "name": "stdout",
          "output_type": "stream",
          "text": [
            "1.3877551020408163\n"
          ]
        }
      ],
      "source": [
        "def week_avg_f(toronto_weather):\n",
        "    \n",
        "    #You just need to add one thing to the line below\n",
        "    #HINT: It is something we've seen already\n",
        "    avg_temp_f = week_avg_c(toronto_weather)\n",
        "    return avg_temp_f / 7\n",
        "\n",
        "\n",
        "print(week_avg_f(toronto_weather))\n"
      ]
    },
    {
      "cell_type": "markdown",
      "metadata": {
        "id": "7NvSWxbQhzs2"
      },
      "source": [
        "- **Q22** Can you write a function that finds the average temperature for the weekend? (Some of it is there for you) HINT: Check out question 19 for inspiration. You just need to modify lines 5 and 8."
      ]
    },
    {
      "cell_type": "code",
      "execution_count": 62,
      "metadata": {
        "id": "weQB8F3Fhzs2",
        "outputId": "5dbbba70-6aa7-43f9-9472-41f359ea0e8e",
        "colab": {
          "base_uri": "https://localhost:8080/"
        }
      },
      "outputs": [
        {
          "output_type": "stream",
          "name": "stdout",
          "text": [
            "<function weekend_avg_c at 0x7f2cebe59680>\n"
          ]
        }
      ],
      "source": [
        "\n",
        "def weekend_avg_c(toronto_weather):\n",
        "\n",
        "    #A weekend is Saturday and Sunday. You need to find the sum of those two temps \n",
        "    total_degrees = 0\n",
        "    total_degrees = weekend_avg_c\n",
        "    \n",
        "    #total_degrees has the sum of the weekend temps.\n",
        "    return total_degrees \n",
        "\n",
        "print(weekend_avg_c(toronto_weather))"
      ]
    },
    {
      "cell_type": "markdown",
      "metadata": {
        "id": "0mFXz4t6hzs2"
      },
      "source": [
        "- **Q23** Can you write a function that finds the average temperature for the weekend in **F**? (Some of it is ther for you) HINT: look at Q20 for inspiration"
      ]
    },
    {
      "cell_type": "code",
      "execution_count": 102,
      "metadata": {
        "id": "sshBCjJ2hzs2",
        "outputId": "d89e5b15-84da-4da9-f525-f81da84709b2",
        "colab": {
          "base_uri": "https://localhost:8080/"
        }
      },
      "outputs": [
        {
          "output_type": "stream",
          "name": "stdout",
          "text": [
            "0\n"
          ]
        }
      ],
      "source": [
        "def weekend_avg_f(toronto_weather):\n",
        "\n",
        "    #You just need to change the line below\n",
        "    avg_temp_f = weekend_avg_c(toronto_weather)\n",
        "    return avg_temp_f\n",
        "\n",
        "\n",
        "print(weekend_avg_f(toronto_weather))\n"
      ]
    },
    {
      "cell_type": "markdown",
      "metadata": {
        "id": "kBOr-qhthzs3"
      },
      "source": [
        "\n"
      ]
    }
  ],
  "metadata": {
    "kernelspec": {
      "display_name": "Python 3",
      "language": "python",
      "name": "python3"
    },
    "language_info": {
      "codemirror_mode": {
        "name": "ipython",
        "version": 3
      },
      "file_extension": ".py",
      "mimetype": "text/x-python",
      "name": "python",
      "nbconvert_exporter": "python",
      "pygments_lexer": "ipython3",
      "version": "3.7.4"
    },
    "colab": {
      "name": "01_intro.ipynb",
      "provenance": []
    }
  },
  "nbformat": 4,
  "nbformat_minor": 0
}