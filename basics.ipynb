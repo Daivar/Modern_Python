{
  "cells": [
    {
      "cell_type": "markdown",
      "metadata": {
        "id": "Rqirly__YygD"
      },
      "source": [
        "![DSL_logo](https://github.com/BrockDSL/Python_Intro_Text_analysis/blob/master/dsl_logo.png?raw=1)\n",
        "\n",
        "\n",
        "# Introduction to Text Analysis with Python\n",
        "\n",
        "Welcome to the Digital Scholarship Lab introduction to Text Analysis with Python class. In this class we'll learn the basics of text analysis:\n",
        "\n",
        "- parsing text\n",
        "- analyzing the text\n",
        "\n",
        "We'll use our own home made analysis tool first, then we'll use a python library called `TextBlob` to use some built-in analysis tools.\n",
        "\n",
        "This workshop assumes you've completed our Intro to Python [workshop](https://brockdsl.github.io/Intro_to_Python_Workshop/)\n",
        "\n",
        "We'll use the Zoom's chat feature to interact.\n",
        "\n",
        "Be sure to enable line numbers by looking for the 'gear' icon and checking the box in the 'Editor' panel."
      ]
    },
    {
      "cell_type": "markdown",
      "metadata": {
        "id": "AKEyh_CfYygI"
      },
      "source": [
        "## EG. Scrabble!\n",
        "\n",
        "<img src=\"https://upload.wikimedia.org/wikipedia/commons/5/5d/Scrabble_game_in_progress.jpg\" width =500x>\n",
        "\n",
        "Scrabble is a popular game where players try to score points by spelling words and placing them on the game board. We'll use Scrabble scoring our our first attempt at text analysis. This will demonstart the basics of how Text Analysis works.\n",
        "\n",
        "The function below gives you the Scrabble scored of any word you give it."
      ]
    },
    {
      "cell_type": "code",
      "execution_count": 8,
      "metadata": {
        "scrolled": true,
        "id": "8qqY0O2QYygJ"
      },
      "outputs": [],
      "source": [
        "# This function will return the Scrabble score of a word\n",
        "\n",
        "def scrabble_score(word):\n",
        "    \n",
        "    #Dictionary of our scrabble scores\n",
        "    score_lookup = {\n",
        "        \"a\": 1,\n",
        "        \"b\": 3,\n",
        "        \"c\": 3,\n",
        "        \"d\": 2,\n",
        "        \"e\": 1,\n",
        "        \"f\": 4,\n",
        "        \"g\": 2,\n",
        "        \"h\": 4,\n",
        "        \"i\": 1,\n",
        "        \"j\": 8,\n",
        "        \"k\": 5,\n",
        "        \"l\": 1,\n",
        "        \"m\": 3,\n",
        "        \"n\": 1,\n",
        "        \"o\": 1,\n",
        "        \"p\": 3,\n",
        "        \"q\": 10,\n",
        "        \"r\": 1,\n",
        "        \"s\": 1,\n",
        "        \"t\": 1,\n",
        "        \"u\": 1,\n",
        "        \"v\": 4,\n",
        "        \"w\": 4,\n",
        "        \"x\": 8,\n",
        "        \"y\": 4,\n",
        "        \"z\": 10,\n",
        "        \"\\n\": 0, #just in case a new line character jumps in here\n",
        "        \" \":0 #normally single words don't have spaces but we'll put this here just in case\n",
        "        \n",
        "    }\n",
        "    \n",
        "    total_score = 0\n",
        "    \n",
        "    #We look up each letter in the scoring dictionary and add it to a running total\n",
        "    #to make our dictionary shorter we are just using lowercase letters so we need to\n",
        "    #change all of our input to lowercase with .lower()\n",
        "    for letter in word:\n",
        "        total_score = total_score + score_lookup[letter.lower()]\n",
        "    \n",
        "    return total_score"
      ]
    },
    {
      "cell_type": "markdown",
      "metadata": {
        "id": "OJRrkaSnYygM"
      },
      "source": [
        "Text Analysis is a process comprised of three basic steps:\n",
        "1. Identifying the text (or corpus) that you'd like to an analyze\n",
        "1. Apply the analysis to your prepared text\n",
        "1. Review the results\n",
        "\n",
        "In our very basic example of scrabble we just are interested in finding the points we would get for spelling a specific word. \n",
        "\n",
        "In a more complex example with a larger corpus you can do any of the following types of analysis:\n",
        "- determine the sentiment (positive / negative tone) of the text\n",
        "- quantify how complex a piece of writing is based on the vocabulary it uses\n",
        "- determine what topics are in your corpus\n",
        "- classify your text into different categories based on what it is about\n",
        "\n",
        "Of course, there are many other different outcomes you can get from peforming text analysis."
      ]
    },
    {
      "cell_type": "markdown",
      "metadata": {
        "id": "ilLaa1JbYygN"
      },
      "source": [
        "Try questions Q1 - Q2 and type \"All Done\" in the chat box when you are done."
      ]
    },
    {
      "cell_type": "markdown",
      "metadata": {
        "id": "psSeiZGmYygN"
      },
      "source": [
        "## Q1 \n",
        "\n",
        "Score your name by creating the text variable _name_ on line 1.\n",
        "\n",
        "How many Points do you get for your name? Complete the expression below to find out the scrabble score of your name"
      ]
    },
    {
      "cell_type": "code",
      "execution_count": 17,
      "metadata": {
        "scrolled": true,
        "id": "vboD4IGHYygO",
        "outputId": "f1504471-af8d-4a37-b7d9-c1e56e7607de",
        "colab": {
          "base_uri": "https://localhost:8080/"
        }
      },
      "outputs": [
        {
          "output_type": "stream",
          "name": "stdout",
          "text": [
            "Score for my name is: 9\n"
          ]
        }
      ],
      "source": [
        "name = \"Daiva\"\n",
        "print(\"Score for my name is:\", scrabble_score(name))\n"
      ]
    },
    {
      "cell_type": "markdown",
      "metadata": {
        "id": "OkgwVjY6YygP"
      },
      "source": [
        "## Q2\n",
        "\n",
        "Score your pet's name (or favorite character from a story)  by creating the text variable _pet_name_ on line 1.\n",
        "Does your name or the name of your pet score higher in Scrabble?"
      ]
    },
    {
      "cell_type": "code",
      "execution_count": 18,
      "metadata": {
        "scrolled": true,
        "id": "L7-peHQxYygP",
        "outputId": "bf8594fa-6465-40ef-d1b1-b40c67da7473",
        "colab": {
          "base_uri": "https://localhost:8080/"
        }
      },
      "outputs": [
        {
          "output_type": "stream",
          "name": "stdout",
          "text": [
            "Score for my pet's name is: 14\n",
            "My pet's name scores more points!\n"
          ]
        }
      ],
      "source": [
        "pet_name = \"Lucky\"\n",
        "print(\"Score for my pet's name is:\",scrabble_score(pet_name))\n",
        "\n",
        "#Compare to see which gets more points!\n",
        "if scrabble_score(pet_name) > scrabble_score(name):\n",
        "    print(\"My pet's name scores more points!\")\n",
        "else:\n",
        "    print(\"My name scores more (or the same) amount of points as my pets name\")\n",
        "\n"
      ]
    },
    {
      "cell_type": "markdown",
      "metadata": {
        "id": "ZyxNwBk4YygQ"
      },
      "source": [
        "# Beyond the basics\n",
        "\n",
        "We just completed a very basic text analysis where we analyzed two different bits of text to see which one scores higher in Scrabble. Let's expand this idea to a more complex example using the [TextBlob](https://textblob.readthedocs.io/en/dev/) Python Library. There are other more complex libraries that you can use for text analysis, we are using more simple solutions so we can spend more time looking at results compared to setting up the code."
      ]
    },
    {
      "cell_type": "markdown",
      "metadata": {
        "id": "PZ1GqVnpYygQ"
      },
      "source": [
        "# Installing and Loading the Libraries\n",
        "\n",
        "This next cell will install and load the requires libraries that will do the text analysis."
      ]
    },
    {
      "cell_type": "code",
      "execution_count": 19,
      "metadata": {
        "scrolled": true,
        "id": "Pfp5MC3hYygR",
        "outputId": "76376cce-4bda-4735-957f-138527867f8f",
        "colab": {
          "base_uri": "https://localhost:8080/"
        }
      },
      "outputs": [
        {
          "output_type": "stream",
          "name": "stdout",
          "text": [
            "Requirement already satisfied: textblob in /usr/local/lib/python3.7/dist-packages (0.15.3)\n",
            "Requirement already satisfied: nltk>=3.1 in /usr/local/lib/python3.7/dist-packages (from textblob) (3.2.5)\n",
            "Requirement already satisfied: six in /usr/local/lib/python3.7/dist-packages (from nltk>=3.1->textblob) (1.15.0)\n",
            "[nltk_data] Downloading package stopwords to /root/nltk_data...\n",
            "[nltk_data]   Unzipping corpora/stopwords.zip.\n",
            "[nltk_data] Downloading package punkt to /root/nltk_data...\n",
            "[nltk_data]   Unzipping tokenizers/punkt.zip.\n",
            "[nltk_data] Downloading package averaged_perceptron_tagger to\n",
            "[nltk_data]     /root/nltk_data...\n",
            "[nltk_data]   Unzipping taggers/averaged_perceptron_tagger.zip.\n",
            "[nltk_data] Downloading package brown to /root/nltk_data...\n",
            "[nltk_data]   Unzipping corpora/brown.zip.\n",
            "[nltk_data] Downloading package wordnet to /root/nltk_data...\n",
            "[nltk_data]   Unzipping corpora/wordnet.zip.\n"
          ]
        }
      ],
      "source": [
        "#Install textblob using magic commands\n",
        "#Only needed once\n",
        "%pip install textblob\n",
        "#%python -m textblob.download_corpora\n",
        "#%pip install textblob.download_corpora\n",
        "\n",
        "from textblob import TextBlob\n",
        "\n",
        "import pandas as pd\n",
        "import nltk\n",
        "from nltk.corpus import stopwords\n",
        "import requests\n",
        "import matplotlib.pyplot as plt\n",
        "from bs4 import BeautifulSoup\n",
        "\n",
        "nltk.download('stopwords')\n",
        "nltk.download('punkt')\n",
        "nltk.download('averaged_perceptron_tagger')\n",
        "nltk.download('brown')\n",
        "nltk.download('wordnet')\n",
        "\n",
        "\n",
        "#Let's make sure our previews show more information\n",
        "pd.set_option('display.max_colwidth', 999)\n",
        "\n",
        "#Classifier for laster \n",
        "from textblob.classifiers import NaiveBayesClassifier\n",
        "from textblob import Word"
      ]
    },
    {
      "cell_type": "markdown",
      "metadata": {
        "id": "rHVh2V6CYygR"
      },
      "source": [
        "# Corpus\n",
        "\n",
        "![winnie_splash](https://raw.githubusercontent.com/BrockDSL/Text_Analysis_with_Python/master/winnie_splash.png)\n",
        "\n",
        "Corpus is a fancy way of saying the text that we will be looking at. Cleaning up a corpus and getting it ready for analysis is a big part of the process, once that is done the rest is easy. For our example we are going to be looking at some entries from the 1900 [diary](https://dr.library.brocku.ca/handle/10464/7282) of Winnie Beam. The next cell will load this corpus into a Pandas dataframe and show us a few entires."
      ]
    },
    {
      "cell_type": "code",
      "execution_count": 20,
      "metadata": {
        "scrolled": true,
        "id": "I4lKvR6bYygS",
        "outputId": "2c58fd9e-3d5d-4b60-e7c2-3e2fe225400b",
        "colab": {
          "base_uri": "https://localhost:8080/",
          "height": 337
        }
      },
      "outputs": [
        {
          "output_type": "execute_result",
          "data": {
            "text/html": [
              "\n",
              "  <div id=\"df-e587bba4-b319-4e47-b28f-57ee3f5bec03\">\n",
              "    <div class=\"colab-df-container\">\n",
              "      <div>\n",
              "<style scoped>\n",
              "    .dataframe tbody tr th:only-of-type {\n",
              "        vertical-align: middle;\n",
              "    }\n",
              "\n",
              "    .dataframe tbody tr th {\n",
              "        vertical-align: top;\n",
              "    }\n",
              "\n",
              "    .dataframe thead th {\n",
              "        text-align: right;\n",
              "    }\n",
              "</style>\n",
              "<table border=\"1\" class=\"dataframe\">\n",
              "  <thead>\n",
              "    <tr style=\"text-align: right;\">\n",
              "      <th></th>\n",
              "      <th>page</th>\n",
              "      <th>date</th>\n",
              "      <th>entry</th>\n",
              "    </tr>\n",
              "  </thead>\n",
              "  <tbody>\n",
              "    <tr>\n",
              "      <th>0</th>\n",
              "      <td>7</td>\n",
              "      <td>1900-01-01</td>\n",
              "      <td>New Year. First day of 1900 Charlie Merritt died at Grand Forks British Columbia yesterday of typhoid fever. To-day is election day and pap went up about 3 o'clock and did not get back until nearly 10. He brought us some candy chocolate drops. We had a very fat goose for dinner, not a very young one. Had to have good teeth.</td>\n",
              "    </tr>\n",
              "    <tr>\n",
              "      <th>1</th>\n",
              "      <td>7</td>\n",
              "      <td>1900-01-02</td>\n",
              "      <td>Went uptown in afternoon. Was up to Eckardt's but Miss Macfarlane was not there so I did not get what I wanted. Called at office and Nettie came home with me for tea. Mr Carman came over and borrowed my Mildred books. Then Leta came &amp; borrowed my German Grammar as she forgot hers &amp; left it at school before holiday. Papa, mamma, Nettie &amp; I played crokinole. Mamma &amp; I beat. The 2nd Contingent left for Toronto today to go to South Africa. Dr King's som went.</td>\n",
              "    </tr>\n",
              "    <tr>\n",
              "      <th>2</th>\n",
              "      <td>8</td>\n",
              "      <td>1900-01-03</td>\n",
              "      <td>Mrs Trusty was here washing School started to-day, but I was not going this week. Mamma went to the church and then to Mrs Chatfields Took her the church books. The queen Street Baptist church had a service of praise this evening. Mrs Chapman is organist &amp; Mrs Read-Muir sang Mrs George Armstrong has a daughter was born on New Year's day.</td>\n",
              "    </tr>\n",
              "    <tr>\n",
              "      <th>3</th>\n",
              "      <td>8</td>\n",
              "      <td>1900-01-04</td>\n",
              "      <td>Went over to Carman's to have Ella go with me to Dunn's greenhouse. We went about half past three. I brought a primrose Miss Chaplin was in there. Mamma went to Mrs Klotz at home Beatrice helped. Papa &amp; I went to Sunday School entertainment at night. Had a very long programme. There was a dialogue called \"Aunt Ketty's shopping which was good, and a shaving scene. Mr perry gave a tableful of prizes away. Beatrice came home with us. They had a drill of girls &amp; they sang \"Soldiers of the Queen\"</td>\n",
              "    </tr>\n",
              "    <tr>\n",
              "      <th>4</th>\n",
              "      <td>9</td>\n",
              "      <td>1900-01-05</td>\n",
              "      <td>Sweep day. I read \"At the Camerons\" in the \"Harper's Young People\" when mamma was sweeping. We had a beggar in afternoon asking for a few cents as he had a long way to go. Rats! Went over to Lee's in afternoon after eggs. Took a \"Young Ladies Journal\" Mrs Pay lent me. Her kitty has a sore tail. Mrs Malcolmson came after eggs when I was there. She got large sum of 2. Had some candy at night.</td>\n",
              "    </tr>\n",
              "  </tbody>\n",
              "</table>\n",
              "</div>\n",
              "      <button class=\"colab-df-convert\" onclick=\"convertToInteractive('df-e587bba4-b319-4e47-b28f-57ee3f5bec03')\"\n",
              "              title=\"Convert this dataframe to an interactive table.\"\n",
              "              style=\"display:none;\">\n",
              "        \n",
              "  <svg xmlns=\"http://www.w3.org/2000/svg\" height=\"24px\"viewBox=\"0 0 24 24\"\n",
              "       width=\"24px\">\n",
              "    <path d=\"M0 0h24v24H0V0z\" fill=\"none\"/>\n",
              "    <path d=\"M18.56 5.44l.94 2.06.94-2.06 2.06-.94-2.06-.94-.94-2.06-.94 2.06-2.06.94zm-11 1L8.5 8.5l.94-2.06 2.06-.94-2.06-.94L8.5 2.5l-.94 2.06-2.06.94zm10 10l.94 2.06.94-2.06 2.06-.94-2.06-.94-.94-2.06-.94 2.06-2.06.94z\"/><path d=\"M17.41 7.96l-1.37-1.37c-.4-.4-.92-.59-1.43-.59-.52 0-1.04.2-1.43.59L10.3 9.45l-7.72 7.72c-.78.78-.78 2.05 0 2.83L4 21.41c.39.39.9.59 1.41.59.51 0 1.02-.2 1.41-.59l7.78-7.78 2.81-2.81c.8-.78.8-2.07 0-2.86zM5.41 20L4 18.59l7.72-7.72 1.47 1.35L5.41 20z\"/>\n",
              "  </svg>\n",
              "      </button>\n",
              "      \n",
              "  <style>\n",
              "    .colab-df-container {\n",
              "      display:flex;\n",
              "      flex-wrap:wrap;\n",
              "      gap: 12px;\n",
              "    }\n",
              "\n",
              "    .colab-df-convert {\n",
              "      background-color: #E8F0FE;\n",
              "      border: none;\n",
              "      border-radius: 50%;\n",
              "      cursor: pointer;\n",
              "      display: none;\n",
              "      fill: #1967D2;\n",
              "      height: 32px;\n",
              "      padding: 0 0 0 0;\n",
              "      width: 32px;\n",
              "    }\n",
              "\n",
              "    .colab-df-convert:hover {\n",
              "      background-color: #E2EBFA;\n",
              "      box-shadow: 0px 1px 2px rgba(60, 64, 67, 0.3), 0px 1px 3px 1px rgba(60, 64, 67, 0.15);\n",
              "      fill: #174EA6;\n",
              "    }\n",
              "\n",
              "    [theme=dark] .colab-df-convert {\n",
              "      background-color: #3B4455;\n",
              "      fill: #D2E3FC;\n",
              "    }\n",
              "\n",
              "    [theme=dark] .colab-df-convert:hover {\n",
              "      background-color: #434B5C;\n",
              "      box-shadow: 0px 1px 3px 1px rgba(0, 0, 0, 0.15);\n",
              "      filter: drop-shadow(0px 1px 2px rgba(0, 0, 0, 0.3));\n",
              "      fill: #FFFFFF;\n",
              "    }\n",
              "  </style>\n",
              "\n",
              "      <script>\n",
              "        const buttonEl =\n",
              "          document.querySelector('#df-e587bba4-b319-4e47-b28f-57ee3f5bec03 button.colab-df-convert');\n",
              "        buttonEl.style.display =\n",
              "          google.colab.kernel.accessAllowed ? 'block' : 'none';\n",
              "\n",
              "        async function convertToInteractive(key) {\n",
              "          const element = document.querySelector('#df-e587bba4-b319-4e47-b28f-57ee3f5bec03');\n",
              "          const dataTable =\n",
              "            await google.colab.kernel.invokeFunction('convertToInteractive',\n",
              "                                                     [key], {});\n",
              "          if (!dataTable) return;\n",
              "\n",
              "          const docLinkHtml = 'Like what you see? Visit the ' +\n",
              "            '<a target=\"_blank\" href=https://colab.research.google.com/notebooks/data_table.ipynb>data table notebook</a>'\n",
              "            + ' to learn more about interactive tables.';\n",
              "          element.innerHTML = '';\n",
              "          dataTable['output_type'] = 'display_data';\n",
              "          await google.colab.output.renderOutput(dataTable, element);\n",
              "          const docLink = document.createElement('div');\n",
              "          docLink.innerHTML = docLinkHtml;\n",
              "          element.appendChild(docLink);\n",
              "        }\n",
              "      </script>\n",
              "    </div>\n",
              "  </div>\n",
              "  "
            ],
            "text/plain": [
              "   page       date  \\\n",
              "0     7 1900-01-01   \n",
              "1     7 1900-01-02   \n",
              "2     8 1900-01-03   \n",
              "3     8 1900-01-04   \n",
              "4     9 1900-01-05   \n",
              "\n",
              "                                                                                                                                                                                                                                                                                                                                                                                                                                                                                                              entry  \n",
              "0                                                                                                                                                                             New Year. First day of 1900 Charlie Merritt died at Grand Forks British Columbia yesterday of typhoid fever. To-day is election day and pap went up about 3 o'clock and did not get back until nearly 10. He brought us some candy chocolate drops. We had a very fat goose for dinner, not a very young one. Had to have good teeth.  \n",
              "1                                       Went uptown in afternoon. Was up to Eckardt's but Miss Macfarlane was not there so I did not get what I wanted. Called at office and Nettie came home with me for tea. Mr Carman came over and borrowed my Mildred books. Then Leta came & borrowed my German Grammar as she forgot hers & left it at school before holiday. Papa, mamma, Nettie & I played crokinole. Mamma & I beat. The 2nd Contingent left for Toronto today to go to South Africa. Dr King's som went.  \n",
              "2                                                                                                                                                               Mrs Trusty was here washing School started to-day, but I was not going this week. Mamma went to the church and then to Mrs Chatfields Took her the church books. The queen Street Baptist church had a service of praise this evening. Mrs Chapman is organist & Mrs Read-Muir sang Mrs George Armstrong has a daughter was born on New Year's day.  \n",
              "3  Went over to Carman's to have Ella go with me to Dunn's greenhouse. We went about half past three. I brought a primrose Miss Chaplin was in there. Mamma went to Mrs Klotz at home Beatrice helped. Papa & I went to Sunday School entertainment at night. Had a very long programme. There was a dialogue called \"Aunt Ketty's shopping which was good, and a shaving scene. Mr perry gave a tableful of prizes away. Beatrice came home with us. They had a drill of girls & they sang \"Soldiers of the Queen\"  \n",
              "4                                                                                                         Sweep day. I read \"At the Camerons\" in the \"Harper's Young People\" when mamma was sweeping. We had a beggar in afternoon asking for a few cents as he had a long way to go. Rats! Went over to Lee's in afternoon after eggs. Took a \"Young Ladies Journal\" Mrs Pay lent me. Her kitty has a sore tail. Mrs Malcolmson came after eggs when I was there. She got large sum of 2. Had some candy at night.  "
            ]
          },
          "metadata": {},
          "execution_count": 20
        }
      ],
      "source": [
        "winnie_corpus = pd.read_csv('https://raw.githubusercontent.com/BrockDSL/Text_Analysis_with_Python/master/winnie_corpus.txt', header = None, delimiter=\"\\t\")\n",
        "winnie_corpus.columns = [\"page\",\"date\",\"entry\"]\n",
        "winnie_corpus['date'] = pd.to_datetime(winnie_corpus['date'])\n",
        "winnie_corpus['entry'] = winnie_corpus.entry.astype(str)\n",
        "\n",
        "#preview our top entries\n",
        "winnie_corpus.head()"
      ]
    },
    {
      "cell_type": "markdown",
      "metadata": {
        "id": "jQW3bZqyYygT"
      },
      "source": [
        "# Measuring Sentiment\n",
        "\n",
        "We can analyze the _sentiment_ of the text (more [details](https://planspace.org/20150607-textblob_sentiment/).) The next cell demonstrates this:"
      ]
    },
    {
      "cell_type": "code",
      "execution_count": 21,
      "metadata": {
        "scrolled": true,
        "id": "fVpYWrdFYygU",
        "outputId": "70d9385a-571e-4f0f-a1bb-f6401d0b2f7f",
        "colab": {
          "base_uri": "https://localhost:8080/"
        }
      },
      "outputs": [
        {
          "output_type": "stream",
          "name": "stdout",
          "text": [
            "Sentiment of happy sentence  Sentiment(polarity=1.0, subjectivity=0.3)\n",
            "Sentiment of sad sentence  Sentiment(polarity=-0.51, subjectivity=1.0)\n"
          ]
        }
      ],
      "source": [
        "\n",
        "happy_sentence = \"Python is the best programming language ever!\"\n",
        "sad_sentence = \"Python is difficult to use, and very frustrating\"\n",
        "\n",
        "\n",
        "print(\"Sentiment of happy sentence \", TextBlob(happy_sentence).sentiment)\n",
        "print(\"Sentiment of sad sentence \", TextBlob(sad_sentence).sentiment)\n",
        "\n",
        "# polarity ranges from -1 to 1.\n",
        "# subjectvity ranges from 0 to 1.\n",
        "\n"
      ]
    },
    {
      "cell_type": "markdown",
      "metadata": {
        "id": "v0NbK_otYygU"
      },
      "source": [
        "## Q3\n",
        "\n",
        "Try a couple of different sentences in the code cell below. See if you can create something that scores -1 and another that scores 1 for _polarity_. See if you can minimize the _subjectivity_ of your sentence. *Share your answers in the chat box*. \n",
        "\n",
        "(We can create a multi line string of text by putting it in triple quotes like the cell following.)"
      ]
    },
    {
      "cell_type": "code",
      "execution_count": 23,
      "metadata": {
        "scrolled": true,
        "id": "SnV9k-5mYygV",
        "outputId": "db8f53c7-14a4-4982-fb02-8cb0f12d28ef",
        "colab": {
          "base_uri": "https://localhost:8080/"
        }
      },
      "outputs": [
        {
          "output_type": "stream",
          "name": "stdout",
          "text": [
            "Score of test sentence is  Sentiment(polarity=0.0, subjectivity=0.0)\n"
          ]
        }
      ],
      "source": [
        "test_sentence = \"\"\"\n",
        "\n",
        "\"\"\"\n",
        "print(\"Score of test sentence is \", TextBlob(test_sentence).sentiment)"
      ]
    },
    {
      "cell_type": "markdown",
      "metadata": {
        "id": "l1ZJZQzNYygV"
      },
      "source": [
        "# Adding Sentiment to our Diary entries\n",
        "\n",
        "This next cell will score each diary entry in a new column that will be added to the dataframe. We loop through each entry, calculate the two scores that represent the sentiment. After all the scores are computed with add them to the dataframe."
      ]
    },
    {
      "cell_type": "code",
      "execution_count": 24,
      "metadata": {
        "scrolled": true,
        "id": "4bm-4tayYygW",
        "outputId": "1cb432d7-fe97-4a24-bca5-443a1ea17042",
        "colab": {
          "base_uri": "https://localhost:8080/",
          "height": 354
        }
      },
      "outputs": [
        {
          "output_type": "execute_result",
          "data": {
            "text/html": [
              "\n",
              "  <div id=\"df-811cf164-c8d1-4890-9430-636ba3ea9d5c\">\n",
              "    <div class=\"colab-df-container\">\n",
              "      <div>\n",
              "<style scoped>\n",
              "    .dataframe tbody tr th:only-of-type {\n",
              "        vertical-align: middle;\n",
              "    }\n",
              "\n",
              "    .dataframe tbody tr th {\n",
              "        vertical-align: top;\n",
              "    }\n",
              "\n",
              "    .dataframe thead th {\n",
              "        text-align: right;\n",
              "    }\n",
              "</style>\n",
              "<table border=\"1\" class=\"dataframe\">\n",
              "  <thead>\n",
              "    <tr style=\"text-align: right;\">\n",
              "      <th></th>\n",
              "      <th>page</th>\n",
              "      <th>date</th>\n",
              "      <th>entry</th>\n",
              "      <th>polarity</th>\n",
              "      <th>subjectivity</th>\n",
              "    </tr>\n",
              "  </thead>\n",
              "  <tbody>\n",
              "    <tr>\n",
              "      <th>0</th>\n",
              "      <td>7</td>\n",
              "      <td>1900-01-01</td>\n",
              "      <td>New Year. First day of 1900 Charlie Merritt died at Grand Forks British Columbia yesterday of typhoid fever. To-day is election day and pap went up about 3 o'clock and did not get back until nearly 10. He brought us some candy chocolate drops. We had a very fat goose for dinner, not a very young one. Had to have good teeth.</td>\n",
              "      <td>0.205322</td>\n",
              "      <td>0.377286</td>\n",
              "    </tr>\n",
              "    <tr>\n",
              "      <th>1</th>\n",
              "      <td>7</td>\n",
              "      <td>1900-01-02</td>\n",
              "      <td>Went uptown in afternoon. Was up to Eckardt's but Miss Macfarlane was not there so I did not get what I wanted. Called at office and Nettie came home with me for tea. Mr Carman came over and borrowed my Mildred books. Then Leta came &amp; borrowed my German Grammar as she forgot hers &amp; left it at school before holiday. Papa, mamma, Nettie &amp; I played crokinole. Mamma &amp; I beat. The 2nd Contingent left for Toronto today to go to South Africa. Dr King's som went.</td>\n",
              "      <td>-0.020000</td>\n",
              "      <td>0.120000</td>\n",
              "    </tr>\n",
              "    <tr>\n",
              "      <th>2</th>\n",
              "      <td>8</td>\n",
              "      <td>1900-01-03</td>\n",
              "      <td>Mrs Trusty was here washing School started to-day, but I was not going this week. Mamma went to the church and then to Mrs Chatfields Took her the church books. The queen Street Baptist church had a service of praise this evening. Mrs Chapman is organist &amp; Mrs Read-Muir sang Mrs George Armstrong has a daughter was born on New Year's day.</td>\n",
              "      <td>0.136364</td>\n",
              "      <td>0.454545</td>\n",
              "    </tr>\n",
              "    <tr>\n",
              "      <th>3</th>\n",
              "      <td>8</td>\n",
              "      <td>1900-01-04</td>\n",
              "      <td>Went over to Carman's to have Ella go with me to Dunn's greenhouse. We went about half past three. I brought a primrose Miss Chaplin was in there. Mamma went to Mrs Klotz at home Beatrice helped. Papa &amp; I went to Sunday School entertainment at night. Had a very long programme. There was a dialogue called \"Aunt Ketty's shopping which was good, and a shaving scene. Mr perry gave a tableful of prizes away. Beatrice came home with us. They had a drill of girls &amp; they sang \"Soldiers of the Queen\"</td>\n",
              "      <td>0.054583</td>\n",
              "      <td>0.384167</td>\n",
              "    </tr>\n",
              "    <tr>\n",
              "      <th>4</th>\n",
              "      <td>9</td>\n",
              "      <td>1900-01-05</td>\n",
              "      <td>Sweep day. I read \"At the Camerons\" in the \"Harper's Young People\" when mamma was sweeping. We had a beggar in afternoon asking for a few cents as he had a long way to go. Rats! Went over to Lee's in afternoon after eggs. Took a \"Young Ladies Journal\" Mrs Pay lent me. Her kitty has a sore tail. Mrs Malcolmson came after eggs when I was there. She got large sum of 2. Had some candy at night.</td>\n",
              "      <td>0.030357</td>\n",
              "      <td>0.345714</td>\n",
              "    </tr>\n",
              "  </tbody>\n",
              "</table>\n",
              "</div>\n",
              "      <button class=\"colab-df-convert\" onclick=\"convertToInteractive('df-811cf164-c8d1-4890-9430-636ba3ea9d5c')\"\n",
              "              title=\"Convert this dataframe to an interactive table.\"\n",
              "              style=\"display:none;\">\n",
              "        \n",
              "  <svg xmlns=\"http://www.w3.org/2000/svg\" height=\"24px\"viewBox=\"0 0 24 24\"\n",
              "       width=\"24px\">\n",
              "    <path d=\"M0 0h24v24H0V0z\" fill=\"none\"/>\n",
              "    <path d=\"M18.56 5.44l.94 2.06.94-2.06 2.06-.94-2.06-.94-.94-2.06-.94 2.06-2.06.94zm-11 1L8.5 8.5l.94-2.06 2.06-.94-2.06-.94L8.5 2.5l-.94 2.06-2.06.94zm10 10l.94 2.06.94-2.06 2.06-.94-2.06-.94-.94-2.06-.94 2.06-2.06.94z\"/><path d=\"M17.41 7.96l-1.37-1.37c-.4-.4-.92-.59-1.43-.59-.52 0-1.04.2-1.43.59L10.3 9.45l-7.72 7.72c-.78.78-.78 2.05 0 2.83L4 21.41c.39.39.9.59 1.41.59.51 0 1.02-.2 1.41-.59l7.78-7.78 2.81-2.81c.8-.78.8-2.07 0-2.86zM5.41 20L4 18.59l7.72-7.72 1.47 1.35L5.41 20z\"/>\n",
              "  </svg>\n",
              "      </button>\n",
              "      \n",
              "  <style>\n",
              "    .colab-df-container {\n",
              "      display:flex;\n",
              "      flex-wrap:wrap;\n",
              "      gap: 12px;\n",
              "    }\n",
              "\n",
              "    .colab-df-convert {\n",
              "      background-color: #E8F0FE;\n",
              "      border: none;\n",
              "      border-radius: 50%;\n",
              "      cursor: pointer;\n",
              "      display: none;\n",
              "      fill: #1967D2;\n",
              "      height: 32px;\n",
              "      padding: 0 0 0 0;\n",
              "      width: 32px;\n",
              "    }\n",
              "\n",
              "    .colab-df-convert:hover {\n",
              "      background-color: #E2EBFA;\n",
              "      box-shadow: 0px 1px 2px rgba(60, 64, 67, 0.3), 0px 1px 3px 1px rgba(60, 64, 67, 0.15);\n",
              "      fill: #174EA6;\n",
              "    }\n",
              "\n",
              "    [theme=dark] .colab-df-convert {\n",
              "      background-color: #3B4455;\n",
              "      fill: #D2E3FC;\n",
              "    }\n",
              "\n",
              "    [theme=dark] .colab-df-convert:hover {\n",
              "      background-color: #434B5C;\n",
              "      box-shadow: 0px 1px 3px 1px rgba(0, 0, 0, 0.15);\n",
              "      filter: drop-shadow(0px 1px 2px rgba(0, 0, 0, 0.3));\n",
              "      fill: #FFFFFF;\n",
              "    }\n",
              "  </style>\n",
              "\n",
              "      <script>\n",
              "        const buttonEl =\n",
              "          document.querySelector('#df-811cf164-c8d1-4890-9430-636ba3ea9d5c button.colab-df-convert');\n",
              "        buttonEl.style.display =\n",
              "          google.colab.kernel.accessAllowed ? 'block' : 'none';\n",
              "\n",
              "        async function convertToInteractive(key) {\n",
              "          const element = document.querySelector('#df-811cf164-c8d1-4890-9430-636ba3ea9d5c');\n",
              "          const dataTable =\n",
              "            await google.colab.kernel.invokeFunction('convertToInteractive',\n",
              "                                                     [key], {});\n",
              "          if (!dataTable) return;\n",
              "\n",
              "          const docLinkHtml = 'Like what you see? Visit the ' +\n",
              "            '<a target=\"_blank\" href=https://colab.research.google.com/notebooks/data_table.ipynb>data table notebook</a>'\n",
              "            + ' to learn more about interactive tables.';\n",
              "          element.innerHTML = '';\n",
              "          dataTable['output_type'] = 'display_data';\n",
              "          await google.colab.output.renderOutput(dataTable, element);\n",
              "          const docLink = document.createElement('div');\n",
              "          docLink.innerHTML = docLinkHtml;\n",
              "          element.appendChild(docLink);\n",
              "        }\n",
              "      </script>\n",
              "    </div>\n",
              "  </div>\n",
              "  "
            ],
            "text/plain": [
              "   page       date  \\\n",
              "0     7 1900-01-01   \n",
              "1     7 1900-01-02   \n",
              "2     8 1900-01-03   \n",
              "3     8 1900-01-04   \n",
              "4     9 1900-01-05   \n",
              "\n",
              "                                                                                                                                                                                                                                                                                                                                                                                                                                                                                                              entry  \\\n",
              "0                                                                                                                                                                             New Year. First day of 1900 Charlie Merritt died at Grand Forks British Columbia yesterday of typhoid fever. To-day is election day and pap went up about 3 o'clock and did not get back until nearly 10. He brought us some candy chocolate drops. We had a very fat goose for dinner, not a very young one. Had to have good teeth.   \n",
              "1                                       Went uptown in afternoon. Was up to Eckardt's but Miss Macfarlane was not there so I did not get what I wanted. Called at office and Nettie came home with me for tea. Mr Carman came over and borrowed my Mildred books. Then Leta came & borrowed my German Grammar as she forgot hers & left it at school before holiday. Papa, mamma, Nettie & I played crokinole. Mamma & I beat. The 2nd Contingent left for Toronto today to go to South Africa. Dr King's som went.   \n",
              "2                                                                                                                                                               Mrs Trusty was here washing School started to-day, but I was not going this week. Mamma went to the church and then to Mrs Chatfields Took her the church books. The queen Street Baptist church had a service of praise this evening. Mrs Chapman is organist & Mrs Read-Muir sang Mrs George Armstrong has a daughter was born on New Year's day.   \n",
              "3  Went over to Carman's to have Ella go with me to Dunn's greenhouse. We went about half past three. I brought a primrose Miss Chaplin was in there. Mamma went to Mrs Klotz at home Beatrice helped. Papa & I went to Sunday School entertainment at night. Had a very long programme. There was a dialogue called \"Aunt Ketty's shopping which was good, and a shaving scene. Mr perry gave a tableful of prizes away. Beatrice came home with us. They had a drill of girls & they sang \"Soldiers of the Queen\"   \n",
              "4                                                                                                         Sweep day. I read \"At the Camerons\" in the \"Harper's Young People\" when mamma was sweeping. We had a beggar in afternoon asking for a few cents as he had a long way to go. Rats! Went over to Lee's in afternoon after eggs. Took a \"Young Ladies Journal\" Mrs Pay lent me. Her kitty has a sore tail. Mrs Malcolmson came after eggs when I was there. She got large sum of 2. Had some candy at night.   \n",
              "\n",
              "   polarity  subjectivity  \n",
              "0  0.205322      0.377286  \n",
              "1 -0.020000      0.120000  \n",
              "2  0.136364      0.454545  \n",
              "3  0.054583      0.384167  \n",
              "4  0.030357      0.345714  "
            ]
          },
          "metadata": {},
          "execution_count": 24
        }
      ],
      "source": [
        "#Apply sentiment analysis from TextBlob\n",
        "\n",
        "polarity = []\n",
        "subjectivity = []\n",
        "\n",
        "\n",
        "for day in winnie_corpus.entry:\n",
        "    #print(day,\"\\n\")\n",
        "    score = TextBlob(day)\n",
        "    polarity.append(score.sentiment.polarity)\n",
        "    subjectivity.append(score.sentiment.subjectivity)\n",
        "    \n",
        "winnie_corpus['polarity'] = polarity\n",
        "winnie_corpus['subjectivity'] = subjectivity\n",
        "\n",
        "\n",
        "#Let's look at our new top entries\n",
        "winnie_corpus.head()"
      ]
    },
    {
      "cell_type": "markdown",
      "metadata": {
        "id": "0gpVS5efYygW"
      },
      "source": [
        "Now that we have daily sentiment values, let's try to visualize how they go up and down over the course of the first 3 months of the year."
      ]
    },
    {
      "cell_type": "code",
      "execution_count": 25,
      "metadata": {
        "scrolled": true,
        "id": "4tkcmx5qYygX",
        "outputId": "21f01dd1-6958-41f0-eab4-58cd6afd5e29",
        "colab": {
          "base_uri": "https://localhost:8080/",
          "height": 308
        }
      },
      "outputs": [
        {
          "output_type": "display_data",
          "data": {
            "image/png": "[encoded data removed]",
            "text/plain": [
              "<Figure size 432x288 with 1 Axes>"
            ]
          },
          "metadata": {
            "needs_background": "light"
          }
        }
      ],
      "source": [
        "#Let's graph out the sentiment as it changes day to day.\n",
        "\n",
        "plt.plot(winnie_corpus[\"date\"],winnie_corpus[\"polarity\"])\n",
        "plt.xticks(rotation='45')\n",
        "plt.title(\"Sentiment of Winnie's Diary Entries\")\n",
        "plt.show()"
      ]
    },
    {
      "cell_type": "markdown",
      "metadata": {
        "id": "qy1_KV2WYygX"
      },
      "source": [
        "## Interesting spikes?\n",
        "\n",
        "We see some really strong negative and positive spikes in the sentiment. Let's just take a look at some of those entries. Run the next three cells to look at the individual negative and positive entries."
      ]
    },
    {
      "cell_type": "code",
      "execution_count": 26,
      "metadata": {
        "id": "iadfmil1YygY"
      },
      "outputs": [],
      "source": [
        "#instead of looking at just the hightest and lowest value we'll reduce that number by a threshold value\n",
        "#that way we can see numbers that are close to the highest sentiment and the lowest sentiment\n",
        "#we'll start with 20%.\n",
        "\n",
        "\n",
        "threshold = 0.2"
      ]
    },
    {
      "cell_type": "code",
      "execution_count": 27,
      "metadata": {
        "id": "9kP4Z_z3YygY",
        "outputId": "a58821e0-c015-4e4d-cacf-035b8119ff30",
        "colab": {
          "base_uri": "https://localhost:8080/",
          "height": 240
        }
      },
      "outputs": [
        {
          "output_type": "execute_result",
          "data": {
            "text/html": [
              "\n",
              "  <div id=\"df-6d1d0a96-8147-4d2e-8a7a-c68ad6e47d60\">\n",
              "    <div class=\"colab-df-container\">\n",
              "      <div>\n",
              "<style scoped>\n",
              "    .dataframe tbody tr th:only-of-type {\n",
              "        vertical-align: middle;\n",
              "    }\n",
              "\n",
              "    .dataframe tbody tr th {\n",
              "        vertical-align: top;\n",
              "    }\n",
              "\n",
              "    .dataframe thead th {\n",
              "        text-align: right;\n",
              "    }\n",
              "</style>\n",
              "<table border=\"1\" class=\"dataframe\">\n",
              "  <thead>\n",
              "    <tr style=\"text-align: right;\">\n",
              "      <th></th>\n",
              "      <th>page</th>\n",
              "      <th>date</th>\n",
              "      <th>entry</th>\n",
              "      <th>polarity</th>\n",
              "      <th>subjectivity</th>\n",
              "    </tr>\n",
              "  </thead>\n",
              "  <tbody>\n",
              "    <tr>\n",
              "      <th>85</th>\n",
              "      <td>49</td>\n",
              "      <td>1900-03-27</td>\n",
              "      <td>Mamma was out collecting in afternoon at Mrs Coy's Mrs Smith's Mrs Reynold's Mrs Pay is sick with grippe and he has been sick. Mrs Varley called on mamma. Papa and Sid went to the Falls again to-night. They me after Mr Herbert (Irrigation) Beatty. Sid came and staid here all night. They got home about 1 o'clock.</td>\n",
              "      <td>-0.714286</td>\n",
              "      <td>0.857143</td>\n",
              "    </tr>\n",
              "    <tr>\n",
              "      <th>168</th>\n",
              "      <td>92</td>\n",
              "      <td>1900-06-20</td>\n",
              "      <td>Wash day. Mrs. Trusty has been sick and Dr. Jory tells her it is paralysis coming on. In the afternoon I practiced &amp; worked at my Harmony until I did not know whether I was on my head or heels. Mamma went uptown, and to the church. She went to pay Mrs. Sullivans for my dress.</td>\n",
              "      <td>-0.714286</td>\n",
              "      <td>0.857143</td>\n",
              "    </tr>\n",
              "    <tr>\n",
              "      <th>260</th>\n",
              "      <td>138</td>\n",
              "      <td>1900-09-20</td>\n",
              "      <td>Nasty gloomy day. Mr McSloy sent papa five trout from Quebec. Had them Tuesday night. They tried to stop the ringing of the 6, 2, 5, &amp; 6 bells. Crazy.</td>\n",
              "      <td>-0.800000</td>\n",
              "      <td>0.950000</td>\n",
              "    </tr>\n",
              "  </tbody>\n",
              "</table>\n",
              "</div>\n",
              "      <button class=\"colab-df-convert\" onclick=\"convertToInteractive('df-6d1d0a96-8147-4d2e-8a7a-c68ad6e47d60')\"\n",
              "              title=\"Convert this dataframe to an interactive table.\"\n",
              "              style=\"display:none;\">\n",
              "        \n",
              "  <svg xmlns=\"http://www.w3.org/2000/svg\" height=\"24px\"viewBox=\"0 0 24 24\"\n",
              "       width=\"24px\">\n",
              "    <path d=\"M0 0h24v24H0V0z\" fill=\"none\"/>\n",
              "    <path d=\"M18.56 5.44l.94 2.06.94-2.06 2.06-.94-2.06-.94-.94-2.06-.94 2.06-2.06.94zm-11 1L8.5 8.5l.94-2.06 2.06-.94-2.06-.94L8.5 2.5l-.94 2.06-2.06.94zm10 10l.94 2.06.94-2.06 2.06-.94-2.06-.94-.94-2.06-.94 2.06-2.06.94z\"/><path d=\"M17.41 7.96l-1.37-1.37c-.4-.4-.92-.59-1.43-.59-.52 0-1.04.2-1.43.59L10.3 9.45l-7.72 7.72c-.78.78-.78 2.05 0 2.83L4 21.41c.39.39.9.59 1.41.59.51 0 1.02-.2 1.41-.59l7.78-7.78 2.81-2.81c.8-.78.8-2.07 0-2.86zM5.41 20L4 18.59l7.72-7.72 1.47 1.35L5.41 20z\"/>\n",
              "  </svg>\n",
              "      </button>\n",
              "      \n",
              "  <style>\n",
              "    .colab-df-container {\n",
              "      display:flex;\n",
              "      flex-wrap:wrap;\n",
              "      gap: 12px;\n",
              "    }\n",
              "\n",
              "    .colab-df-convert {\n",
              "      background-color: #E8F0FE;\n",
              "      border: none;\n",
              "      border-radius: 50%;\n",
              "      cursor: pointer;\n",
              "      display: none;\n",
              "      fill: #1967D2;\n",
              "      height: 32px;\n",
              "      padding: 0 0 0 0;\n",
              "      width: 32px;\n",
              "    }\n",
              "\n",
              "    .colab-df-convert:hover {\n",
              "      background-color: #E2EBFA;\n",
              "      box-shadow: 0px 1px 2px rgba(60, 64, 67, 0.3), 0px 1px 3px 1px rgba(60, 64, 67, 0.15);\n",
              "      fill: #174EA6;\n",
              "    }\n",
              "\n",
              "    [theme=dark] .colab-df-convert {\n",
              "      background-color: #3B4455;\n",
              "      fill: #D2E3FC;\n",
              "    }\n",
              "\n",
              "    [theme=dark] .colab-df-convert:hover {\n",
              "      background-color: #434B5C;\n",
              "      box-shadow: 0px 1px 3px 1px rgba(0, 0, 0, 0.15);\n",
              "      filter: drop-shadow(0px 1px 2px rgba(0, 0, 0, 0.3));\n",
              "      fill: #FFFFFF;\n",
              "    }\n",
              "  </style>\n",
              "\n",
              "      <script>\n",
              "        const buttonEl =\n",
              "          document.querySelector('#df-6d1d0a96-8147-4d2e-8a7a-c68ad6e47d60 button.colab-df-convert');\n",
              "        buttonEl.style.display =\n",
              "          google.colab.kernel.accessAllowed ? 'block' : 'none';\n",
              "\n",
              "        async function convertToInteractive(key) {\n",
              "          const element = document.querySelector('#df-6d1d0a96-8147-4d2e-8a7a-c68ad6e47d60');\n",
              "          const dataTable =\n",
              "            await google.colab.kernel.invokeFunction('convertToInteractive',\n",
              "                                                     [key], {});\n",
              "          if (!dataTable) return;\n",
              "\n",
              "          const docLinkHtml = 'Like what you see? Visit the ' +\n",
              "            '<a target=\"_blank\" href=https://colab.research.google.com/notebooks/data_table.ipynb>data table notebook</a>'\n",
              "            + ' to learn more about interactive tables.';\n",
              "          element.innerHTML = '';\n",
              "          dataTable['output_type'] = 'display_data';\n",
              "          await google.colab.output.renderOutput(dataTable, element);\n",
              "          const docLink = document.createElement('div');\n",
              "          docLink.innerHTML = docLinkHtml;\n",
              "          element.appendChild(docLink);\n",
              "        }\n",
              "      </script>\n",
              "    </div>\n",
              "  </div>\n",
              "  "
            ],
            "text/plain": [
              "     page       date  \\\n",
              "85     49 1900-03-27   \n",
              "168    92 1900-06-20   \n",
              "260   138 1900-09-20   \n",
              "\n",
              "                                                                                                                                                                                                                                                                                                                         entry  \\\n",
              "85   Mamma was out collecting in afternoon at Mrs Coy's Mrs Smith's Mrs Reynold's Mrs Pay is sick with grippe and he has been sick. Mrs Varley called on mamma. Papa and Sid went to the Falls again to-night. They me after Mr Herbert (Irrigation) Beatty. Sid came and staid here all night. They got home about 1 o'clock.   \n",
              "168                                       Wash day. Mrs. Trusty has been sick and Dr. Jory tells her it is paralysis coming on. In the afternoon I practiced & worked at my Harmony until I did not know whether I was on my head or heels. Mamma went uptown, and to the church. She went to pay Mrs. Sullivans for my dress.   \n",
              "260                                                                                                                                                                     Nasty gloomy day. Mr McSloy sent papa five trout from Quebec. Had them Tuesday night. They tried to stop the ringing of the 6, 2, 5, & 6 bells. Crazy.   \n",
              "\n",
              "     polarity  subjectivity  \n",
              "85  -0.714286      0.857143  \n",
              "168 -0.714286      0.857143  \n",
              "260 -0.800000      0.950000  "
            ]
          },
          "metadata": {},
          "execution_count": 27
        }
      ],
      "source": [
        "#Very Negative\n",
        "bad_sentiment = winnie_corpus[\"polarity\"].min()\n",
        "\n",
        "#Reduce this number by threshold %\n",
        "bad_sentiment = bad_sentiment - (bad_sentiment * threshold)\n",
        "\n",
        "winnie_corpus[winnie_corpus[\"polarity\"] <= bad_sentiment]"
      ]
    },
    {
      "cell_type": "code",
      "execution_count": 28,
      "metadata": {
        "id": "9C7-UM3bYygY",
        "outputId": "b6007d49-634a-4874-a26d-c776dfb7c498",
        "colab": {
          "base_uri": "https://localhost:8080/",
          "height": 306
        }
      },
      "outputs": [
        {
          "output_type": "execute_result",
          "data": {
            "text/html": [
              "\n",
              "  <div id=\"df-ff1934c2-f0ea-4417-b5dd-390c1b1c052f\">\n",
              "    <div class=\"colab-df-container\">\n",
              "      <div>\n",
              "<style scoped>\n",
              "    .dataframe tbody tr th:only-of-type {\n",
              "        vertical-align: middle;\n",
              "    }\n",
              "\n",
              "    .dataframe tbody tr th {\n",
              "        vertical-align: top;\n",
              "    }\n",
              "\n",
              "    .dataframe thead th {\n",
              "        text-align: right;\n",
              "    }\n",
              "</style>\n",
              "<table border=\"1\" class=\"dataframe\">\n",
              "  <thead>\n",
              "    <tr style=\"text-align: right;\">\n",
              "      <th></th>\n",
              "      <th>page</th>\n",
              "      <th>date</th>\n",
              "      <th>entry</th>\n",
              "      <th>polarity</th>\n",
              "      <th>subjectivity</th>\n",
              "    </tr>\n",
              "  </thead>\n",
              "  <tbody>\n",
              "    <tr>\n",
              "      <th>91</th>\n",
              "      <td>53</td>\n",
              "      <td>1900-04-04</td>\n",
              "      <td>I sent for some pictures on Friday from Beverly, Mass and they came to-day, but they sent them to the customs, and charged 5 cents Mamma went to the church to auxiliary. Then I went to the service. Mr. Perry spoke on 1 Peter 1.4 verse. The Bishop staid at Merritt's and conducted the Lenten service in St. George's Church yesterday afternoon. Papa brought the pictures home. They are very nice. There are a lot of them on the \"Life of Christ\". Dr &amp; Mrs Klots were here in the evening. They played King Pedro</td>\n",
              "      <td>0.780</td>\n",
              "      <td>1.00</td>\n",
              "    </tr>\n",
              "    <tr>\n",
              "      <th>173</th>\n",
              "      <td>94</td>\n",
              "      <td>1900-06-25</td>\n",
              "      <td>Mamma went out collecting in afternoon. Very warm. In the evening papa caught the pigeons and Mr. Coy and he went to race course &amp; shot them. Dr. Kilmer &amp; Mr. Lovelace did not turn up. Della mamma &amp; I went for a drive. They had an undergraduate Music &amp; Elecution recital to-night at Demill, Did not go. Went home with Dell &amp; over to Dwyer's, Bessie Read was there. Got 12 pictures from Brown &amp; Co. Mr Painter gave papa four snapping turtle eggs on Saturday</td>\n",
              "      <td>0.780</td>\n",
              "      <td>0.78</td>\n",
              "    </tr>\n",
              "    <tr>\n",
              "      <th>244</th>\n",
              "      <td>130</td>\n",
              "      <td>1900-09-04</td>\n",
              "      <td>Was reading \"Three men on Wheels\" when Mrs Tulley and Dr Abbott came in. They wanted papa, mamma &amp; I to go to the Welland House for tea. Dr Abbott hurried up to the office and caught papa. Had a very good supper. They walked home with us. Mrs Tulley told about a good books \"Uarda\" by Ebeer.</td>\n",
              "      <td>0.805</td>\n",
              "      <td>0.69</td>\n",
              "    </tr>\n",
              "    <tr>\n",
              "      <th>324</th>\n",
              "      <td>170</td>\n",
              "      <td>1900-11-23</td>\n",
              "      <td>This morning I went uptown after my pins and to change my library book. Got \"Leofwine the Monk\". Very nice day. Mamma went uptown in the afternoon. McLaren's and Anderson's have their Christmas things in. The Collegiate Cadets have a concert to-night. Miss Murray is to sing, Miss McCallum recite and the flag is to be presented to the cadets.</td>\n",
              "      <td>0.780</td>\n",
              "      <td>1.00</td>\n",
              "    </tr>\n",
              "  </tbody>\n",
              "</table>\n",
              "</div>\n",
              "      <button class=\"colab-df-convert\" onclick=\"convertToInteractive('df-ff1934c2-f0ea-4417-b5dd-390c1b1c052f')\"\n",
              "              title=\"Convert this dataframe to an interactive table.\"\n",
              "              style=\"display:none;\">\n",
              "        \n",
              "  <svg xmlns=\"http://www.w3.org/2000/svg\" height=\"24px\"viewBox=\"0 0 24 24\"\n",
              "       width=\"24px\">\n",
              "    <path d=\"M0 0h24v24H0V0z\" fill=\"none\"/>\n",
              "    <path d=\"M18.56 5.44l.94 2.06.94-2.06 2.06-.94-2.06-.94-.94-2.06-.94 2.06-2.06.94zm-11 1L8.5 8.5l.94-2.06 2.06-.94-2.06-.94L8.5 2.5l-.94 2.06-2.06.94zm10 10l.94 2.06.94-2.06 2.06-.94-2.06-.94-.94-2.06-.94 2.06-2.06.94z\"/><path d=\"M17.41 7.96l-1.37-1.37c-.4-.4-.92-.59-1.43-.59-.52 0-1.04.2-1.43.59L10.3 9.45l-7.72 7.72c-.78.78-.78 2.05 0 2.83L4 21.41c.39.39.9.59 1.41.59.51 0 1.02-.2 1.41-.59l7.78-7.78 2.81-2.81c.8-.78.8-2.07 0-2.86zM5.41 20L4 18.59l7.72-7.72 1.47 1.35L5.41 20z\"/>\n",
              "  </svg>\n",
              "      </button>\n",
              "      \n",
              "  <style>\n",
              "    .colab-df-container {\n",
              "      display:flex;\n",
              "      flex-wrap:wrap;\n",
              "      gap: 12px;\n",
              "    }\n",
              "\n",
              "    .colab-df-convert {\n",
              "      background-color: #E8F0FE;\n",
              "      border: none;\n",
              "      border-radius: 50%;\n",
              "      cursor: pointer;\n",
              "      display: none;\n",
              "      fill: #1967D2;\n",
              "      height: 32px;\n",
              "      padding: 0 0 0 0;\n",
              "      width: 32px;\n",
              "    }\n",
              "\n",
              "    .colab-df-convert:hover {\n",
              "      background-color: #E2EBFA;\n",
              "      box-shadow: 0px 1px 2px rgba(60, 64, 67, 0.3), 0px 1px 3px 1px rgba(60, 64, 67, 0.15);\n",
              "      fill: #174EA6;\n",
              "    }\n",
              "\n",
              "    [theme=dark] .colab-df-convert {\n",
              "      background-color: #3B4455;\n",
              "      fill: #D2E3FC;\n",
              "    }\n",
              "\n",
              "    [theme=dark] .colab-df-convert:hover {\n",
              "      background-color: #434B5C;\n",
              "      box-shadow: 0px 1px 3px 1px rgba(0, 0, 0, 0.15);\n",
              "      filter: drop-shadow(0px 1px 2px rgba(0, 0, 0, 0.3));\n",
              "      fill: #FFFFFF;\n",
              "    }\n",
              "  </style>\n",
              "\n",
              "      <script>\n",
              "        const buttonEl =\n",
              "          document.querySelector('#df-ff1934c2-f0ea-4417-b5dd-390c1b1c052f button.colab-df-convert');\n",
              "        buttonEl.style.display =\n",
              "          google.colab.kernel.accessAllowed ? 'block' : 'none';\n",
              "\n",
              "        async function convertToInteractive(key) {\n",
              "          const element = document.querySelector('#df-ff1934c2-f0ea-4417-b5dd-390c1b1c052f');\n",
              "          const dataTable =\n",
              "            await google.colab.kernel.invokeFunction('convertToInteractive',\n",
              "                                                     [key], {});\n",
              "          if (!dataTable) return;\n",
              "\n",
              "          const docLinkHtml = 'Like what you see? Visit the ' +\n",
              "            '<a target=\"_blank\" href=https://colab.research.google.com/notebooks/data_table.ipynb>data table notebook</a>'\n",
              "            + ' to learn more about interactive tables.';\n",
              "          element.innerHTML = '';\n",
              "          dataTable['output_type'] = 'display_data';\n",
              "          await google.colab.output.renderOutput(dataTable, element);\n",
              "          const docLink = document.createElement('div');\n",
              "          docLink.innerHTML = docLinkHtml;\n",
              "          element.appendChild(docLink);\n",
              "        }\n",
              "      </script>\n",
              "    </div>\n",
              "  </div>\n",
              "  "
            ],
            "text/plain": [
              "     page       date  \\\n",
              "91     53 1900-04-04   \n",
              "173    94 1900-06-25   \n",
              "244   130 1900-09-04   \n",
              "324   170 1900-11-23   \n",
              "\n",
              "                                                                                                                                                                                                                                                                                                                                                                                                                                                                                                                           entry  \\\n",
              "91   I sent for some pictures on Friday from Beverly, Mass and they came to-day, but they sent them to the customs, and charged 5 cents Mamma went to the church to auxiliary. Then I went to the service. Mr. Perry spoke on 1 Peter 1.4 verse. The Bishop staid at Merritt's and conducted the Lenten service in St. George's Church yesterday afternoon. Papa brought the pictures home. They are very nice. There are a lot of them on the \"Life of Christ\". Dr & Mrs Klots were here in the evening. They played King Pedro   \n",
              "173                                                     Mamma went out collecting in afternoon. Very warm. In the evening papa caught the pigeons and Mr. Coy and he went to race course & shot them. Dr. Kilmer & Mr. Lovelace did not turn up. Della mamma & I went for a drive. They had an undergraduate Music & Elecution recital to-night at Demill, Did not go. Went home with Dell & over to Dwyer's, Bessie Read was there. Got 12 pictures from Brown & Co. Mr Painter gave papa four snapping turtle eggs on Saturday   \n",
              "244                                                                                                                                                                                                                          Was reading \"Three men on Wheels\" when Mrs Tulley and Dr Abbott came in. They wanted papa, mamma & I to go to the Welland House for tea. Dr Abbott hurried up to the office and caught papa. Had a very good supper. They walked home with us. Mrs Tulley told about a good books \"Uarda\" by Ebeer.   \n",
              "324                                                                                                                                                                      This morning I went uptown after my pins and to change my library book. Got \"Leofwine the Monk\". Very nice day. Mamma went uptown in the afternoon. McLaren's and Anderson's have their Christmas things in. The Collegiate Cadets have a concert to-night. Miss Murray is to sing, Miss McCallum recite and the flag is to be presented to the cadets.   \n",
              "\n",
              "     polarity  subjectivity  \n",
              "91      0.780          1.00  \n",
              "173     0.780          0.78  \n",
              "244     0.805          0.69  \n",
              "324     0.780          1.00  "
            ]
          },
          "metadata": {},
          "execution_count": 28
        }
      ],
      "source": [
        "#Very Positive\n",
        "good_sentiment = winnie_corpus[\"polarity\"].max()\n",
        "\n",
        "#Reduce this number by threshold %\n",
        "good_sentiment = good_sentiment - (good_sentiment * threshold)\n",
        "\n",
        "winnie_corpus[winnie_corpus[\"polarity\"] >= good_sentiment]"
      ]
    },
    {
      "cell_type": "markdown",
      "metadata": {
        "id": "CZyeM03JYygZ"
      },
      "source": [
        "## Q4\n",
        "\n",
        "Do you agree with the sentiment scores that are applied in the above two cells? Share your thoughts in the chat."
      ]
    },
    {
      "cell_type": "markdown",
      "metadata": {
        "id": "qTJZaFouYygZ"
      },
      "source": [
        "# What else can we get from the text?\n",
        "\n",
        "We've seen some details about sentiment, but what else can we get from the text? Let's grab a random entry and see what we can find out about it. We'll choose the *22*nd entry."
      ]
    },
    {
      "cell_type": "code",
      "execution_count": 29,
      "metadata": {
        "scrolled": false,
        "id": "GBJa10stYygZ",
        "outputId": "c6d5b9a4-5369-4cf5-a7ea-be35aa610d93",
        "colab": {
          "base_uri": "https://localhost:8080/"
        }
      },
      "outputs": [
        {
          "output_type": "execute_result",
          "data": {
            "text/plain": [
              "TextBlob(\"Went to school in the afternoon. Then papa mamma & I went to the Redpath Concert Co. The concert was fine. I never heard anything I liked as well. There were four singers 1 violinist and 1 pianist. Mme Meredith soprano Miss Clary, contralto. Dr Carl Dufft basso Mr Town, Tenor, Miss Von Fursch violinist and Miss Koler pianist all of them were encored twice and Mr Dufft three times. All the ladies got a beautiful boquet. The first part was L. Lehmann's \"In a Persian Garden\".\")"
            ]
          },
          "metadata": {},
          "execution_count": 29
        }
      ],
      "source": [
        "entry_number = 22\n",
        "bit_of_corpus = TextBlob(winnie_corpus[\"entry\"][entry_number])\n",
        "bit_of_corpus"
      ]
    },
    {
      "cell_type": "markdown",
      "metadata": {
        "id": "381tTGTxYygZ"
      },
      "source": [
        "# Sentences and Sentiment\n",
        "\n",
        "We applied sentiment on to daily entries but we can apply it down to sentences just to see how a score fluctuates."
      ]
    },
    {
      "cell_type": "code",
      "execution_count": 30,
      "metadata": {
        "scrolled": true,
        "id": "lQ7jdQxXYygZ",
        "outputId": "06d3f96e-b619-4d16-df0e-4a32863e0262",
        "colab": {
          "base_uri": "https://localhost:8080/"
        }
      },
      "outputs": [
        {
          "output_type": "stream",
          "name": "stdout",
          "text": [
            "Went to school in the afternoon.\n",
            "Sentiment(polarity=0.0, subjectivity=0.0) \n",
            "\n",
            "Then papa mamma & I went to the Redpath Concert Co.\n",
            "Sentiment(polarity=0.0, subjectivity=0.0) \n",
            "\n",
            "The concert was fine.\n",
            "Sentiment(polarity=0.4166666666666667, subjectivity=0.5) \n",
            "\n",
            "I never heard anything I liked as well.\n",
            "Sentiment(polarity=0.6, subjectivity=0.8) \n",
            "\n",
            "There were four singers 1 violinist and 1 pianist.\n",
            "Sentiment(polarity=0.0, subjectivity=0.0) \n",
            "\n",
            "Mme Meredith soprano Miss Clary, contralto.\n",
            "Sentiment(polarity=0.0, subjectivity=0.0) \n",
            "\n",
            "Dr Carl Dufft basso Mr Town, Tenor, Miss Von Fursch violinist and Miss Koler pianist all of them were encored twice and Mr Dufft three times.\n",
            "Sentiment(polarity=0.0, subjectivity=0.0) \n",
            "\n",
            "All the ladies got a beautiful boquet.\n",
            "Sentiment(polarity=0.85, subjectivity=1.0) \n",
            "\n",
            "The first part was L. Lehmann's \"In a Persian Garden\".\n",
            "Sentiment(polarity=0.25, subjectivity=0.3333333333333333) \n",
            "\n"
          ]
        }
      ],
      "source": [
        "for sentence in bit_of_corpus.sentences:\n",
        "    print(sentence)\n",
        "    print(sentence.sentiment,\"\\n\")"
      ]
    },
    {
      "cell_type": "markdown",
      "metadata": {
        "id": "y7vUHMdIYygZ"
      },
      "source": [
        "# Words in sentences\n",
        "\n",
        "You can parse through words in a sentence using TextBlob as well. The next cell illustrates this. We'll need to to get to calculate specific sentiment scores in our next section."
      ]
    },
    {
      "cell_type": "code",
      "execution_count": 31,
      "metadata": {
        "scrolled": true,
        "id": "Wn-bUGBkYyga",
        "outputId": "804fc2ae-b26c-40f6-8d1d-f7e22e5f8da7",
        "colab": {
          "base_uri": "https://localhost:8080/"
        }
      },
      "outputs": [
        {
          "output_type": "stream",
          "name": "stdout",
          "text": [
            "Went\n",
            "to\n",
            "school\n",
            "in\n",
            "the\n",
            "afternoon\n",
            "Then\n",
            "papa\n",
            "mamma\n",
            "I\n",
            "went\n",
            "to\n",
            "the\n",
            "Redpath\n",
            "Concert\n",
            "Co\n",
            "The\n",
            "concert\n",
            "was\n",
            "fine\n",
            "I\n",
            "never\n",
            "heard\n",
            "anything\n",
            "I\n",
            "liked\n",
            "as\n",
            "well\n",
            "There\n",
            "were\n",
            "four\n",
            "singers\n",
            "1\n",
            "violinist\n",
            "and\n",
            "1\n",
            "pianist\n",
            "Mme\n",
            "Meredith\n",
            "soprano\n",
            "Miss\n",
            "Clary\n",
            "contralto\n",
            "Dr\n",
            "Carl\n",
            "Dufft\n",
            "basso\n",
            "Mr\n",
            "Town\n",
            "Tenor\n",
            "Miss\n",
            "Von\n",
            "Fursch\n",
            "violinist\n",
            "and\n",
            "Miss\n",
            "Koler\n",
            "pianist\n",
            "all\n",
            "of\n",
            "them\n",
            "were\n",
            "encored\n",
            "twice\n",
            "and\n",
            "Mr\n",
            "Dufft\n",
            "three\n",
            "times\n",
            "All\n",
            "the\n",
            "ladies\n",
            "got\n",
            "a\n",
            "beautiful\n",
            "boquet\n",
            "The\n",
            "first\n",
            "part\n",
            "was\n",
            "L\n",
            "Lehmann\n",
            "'s\n",
            "In\n",
            "a\n",
            "Persian\n",
            "Garden\n"
          ]
        }
      ],
      "source": [
        "for sentence in bit_of_corpus.sentences:\n",
        "    for word in sentence.words:\n",
        "        print(word)"
      ]
    },
    {
      "cell_type": "markdown",
      "metadata": {
        "id": "vl_1nt9TYyga"
      },
      "source": [
        "## Q5\n",
        "\n",
        "Another random journal entry. Pick a random number between 1 and the length of the dataframe and update *en_no* in line 1. If you get an interesting result, share it with the class in the chat box."
      ]
    },
    {
      "cell_type": "code",
      "execution_count": 32,
      "metadata": {
        "scrolled": true,
        "id": "1joLhUfjYyga",
        "outputId": "79e419e0-4500-4502-e7d8-19b8348f677a",
        "colab": {
          "base_uri": "https://localhost:8080/"
        }
      },
      "outputs": [
        {
          "output_type": "execute_result",
          "data": {
            "text/plain": [
              "363"
            ]
          },
          "metadata": {},
          "execution_count": 32
        }
      ],
      "source": [
        "#Pick a value between 1 and this number\n",
        "len(winnie_corpus)"
      ]
    },
    {
      "cell_type": "code",
      "execution_count": 34,
      "metadata": {
        "scrolled": true,
        "id": "hHhBSPE5Yyga",
        "outputId": "1a89ff44-e919-4ce7-c765-283eb398835a",
        "colab": {
          "base_uri": "https://localhost:8080/"
        }
      },
      "outputs": [
        {
          "output_type": "stream",
          "name": "stdout",
          "text": [
            "Random Entry: \n",
            "\n",
            "We burnt a lamp last night as the gasbills are so high. It is very nice to burn lamps. Did not go to school this morning as it was cold & blustry. 10 below zero. Mr Carman came over with a rat for Pansy to catch it, and the naught thing wouldn't as the rat bit him on the lip. Mamma Mrs Coy and Mattie went to Mrs C. Moore's card party in afternoon from 3 to 6 o'clock Mrs Dudley won first Miss Bate the second and Miss Kate Clark the third prize. The first was a tea cozey, 2nd an orange knife, the third a book. \n",
            "\n",
            "We burnt a lamp last night as the gasbills are so high.\n",
            "Sentiment(polarity=0.08, subjectivity=0.3033333333333333) \n",
            "\n",
            "It is very nice to burn lamps.\n",
            "Sentiment(polarity=0.78, subjectivity=1.0) \n",
            "\n",
            "Did not go to school this morning as it was cold & blustry.\n",
            "Sentiment(polarity=-0.6, subjectivity=1.0) \n",
            "\n",
            "10 below zero.\n",
            "Sentiment(polarity=0.0, subjectivity=0.0) \n",
            "\n",
            "Mr Carman came over with a rat for Pansy to catch it, and the naught thing wouldn't as the rat bit him on the lip.\n",
            "Sentiment(polarity=0.0, subjectivity=0.0) \n",
            "\n",
            "Mamma Mrs Coy and Mattie went to Mrs C. Moore's card party in afternoon from 3 to 6 o'clock Mrs Dudley won first Miss Bate the second and Miss Kate Clark the third prize.\n",
            "Sentiment(polarity=0.08333333333333333, subjectivity=0.1111111111111111) \n",
            "\n",
            "The first was a tea cozey, 2nd an orange knife, the third a book.\n",
            "Sentiment(polarity=0.08333333333333333, subjectivity=0.1111111111111111) \n",
            "\n"
          ]
        }
      ],
      "source": [
        "en_no = 25\n",
        "\n",
        "another_bit_of_corpus = TextBlob(winnie_corpus[\"entry\"][en_no])\n",
        "\n",
        "print(\"Random Entry: \\n\")\n",
        "print(another_bit_of_corpus,\"\\n\")\n",
        "\n",
        "#Go through all of the sentences of this entry and determine their sentiment\n",
        "for sentence in another_bit_of_corpus.sentences:\n",
        "    print(sentence)\n",
        "    print(sentence.sentiment,\"\\n\")"
      ]
    },
    {
      "cell_type": "markdown",
      "metadata": {
        "id": "Rg-sy_ocYyga"
      },
      "source": [
        "# Stopwords\n",
        "\n",
        "Often we want to remove common words (eg. a, the, of) in our corpus before we analyze things. For the most part TextBlob will ignore these words if we use the right analysis. We'll just look at it here to understand the idea."
      ]
    },
    {
      "cell_type": "code",
      "execution_count": 35,
      "metadata": {
        "id": "JseEYVBCYygb",
        "outputId": "9757540d-e0e8-4822-b4d3-9aad1b9c2057",
        "colab": {
          "base_uri": "https://localhost:8080/"
        }
      },
      "outputs": [
        {
          "output_type": "stream",
          "name": "stdout",
          "text": [
            "i\n",
            "me\n",
            "my\n",
            "myself\n",
            "we\n",
            "our\n",
            "ours\n",
            "ourselves\n",
            "you\n",
            "you're\n",
            "you've\n",
            "you'll\n",
            "you'd\n",
            "your\n",
            "yours\n",
            "yourself\n",
            "yourselves\n",
            "he\n",
            "him\n",
            "his\n",
            "himself\n",
            "she\n",
            "she's\n",
            "her\n",
            "hers\n",
            "herself\n",
            "it\n",
            "it's\n",
            "its\n",
            "itself\n",
            "they\n",
            "them\n",
            "their\n",
            "theirs\n",
            "themselves\n",
            "what\n",
            "which\n",
            "who\n",
            "whom\n",
            "this\n",
            "that\n",
            "that'll\n",
            "these\n",
            "those\n",
            "am\n",
            "is\n",
            "are\n",
            "was\n",
            "were\n",
            "be\n",
            "been\n",
            "being\n",
            "have\n",
            "has\n",
            "had\n",
            "having\n",
            "do\n",
            "does\n",
            "did\n",
            "doing\n",
            "a\n",
            "an\n",
            "the\n",
            "and\n",
            "but\n",
            "if\n",
            "or\n",
            "because\n",
            "as\n",
            "until\n",
            "while\n",
            "of\n",
            "at\n",
            "by\n",
            "for\n",
            "with\n",
            "about\n",
            "against\n",
            "between\n",
            "into\n",
            "through\n",
            "during\n",
            "before\n",
            "after\n",
            "above\n",
            "below\n",
            "to\n",
            "from\n",
            "up\n",
            "down\n",
            "in\n",
            "out\n",
            "on\n",
            "off\n",
            "over\n",
            "under\n",
            "again\n",
            "further\n",
            "then\n",
            "once\n",
            "here\n",
            "there\n",
            "when\n",
            "where\n",
            "why\n",
            "how\n",
            "all\n",
            "any\n",
            "both\n",
            "each\n",
            "few\n",
            "more\n",
            "most\n",
            "other\n",
            "some\n",
            "such\n",
            "no\n",
            "nor\n",
            "not\n",
            "only\n",
            "own\n",
            "same\n",
            "so\n",
            "than\n",
            "too\n",
            "very\n",
            "s\n",
            "t\n",
            "can\n",
            "will\n",
            "just\n",
            "don\n",
            "don't\n",
            "should\n",
            "should've\n",
            "now\n",
            "d\n",
            "ll\n",
            "m\n",
            "o\n",
            "re\n",
            "ve\n",
            "y\n",
            "ain\n",
            "aren\n",
            "aren't\n",
            "couldn\n",
            "couldn't\n",
            "didn\n",
            "didn't\n",
            "doesn\n",
            "doesn't\n",
            "hadn\n",
            "hadn't\n",
            "hasn\n",
            "hasn't\n",
            "haven\n",
            "haven't\n",
            "isn\n",
            "isn't\n",
            "ma\n",
            "mightn\n",
            "mightn't\n",
            "mustn\n",
            "mustn't\n",
            "needn\n",
            "needn't\n",
            "shan\n",
            "shan't\n",
            "shouldn\n",
            "shouldn't\n",
            "wasn\n",
            "wasn't\n",
            "weren\n",
            "weren't\n",
            "won\n",
            "won't\n",
            "wouldn\n",
            "wouldn't\n"
          ]
        }
      ],
      "source": [
        "for word in stopwords.words('english'):\n",
        "    print(word)"
      ]
    },
    {
      "cell_type": "markdown",
      "metadata": {
        "id": "nLeNsIkDYygb"
      },
      "source": [
        "Now let's see how we can remove stopwords from a piece of text. Experiment by changing to a different example sentence."
      ]
    },
    {
      "cell_type": "code",
      "execution_count": 36,
      "metadata": {
        "id": "WlUw9EczYygb",
        "outputId": "c0a567fe-45c7-4e29-f918-d0825b797b7b",
        "colab": {
          "base_uri": "https://localhost:8080/"
        }
      },
      "outputs": [
        {
          "output_type": "stream",
          "name": "stdout",
          "text": [
            "know\n"
          ]
        }
      ],
      "source": [
        "ex_text = TextBlob(\"I know this, do you?\")\n",
        "\n",
        "\n",
        "for sentence in ex_text.sentences:\n",
        "    for word in sentence.words:\n",
        "\n",
        "        if word.lower() not in stopwords.words('english'):\n",
        "            print(word)"
      ]
    },
    {
      "cell_type": "markdown",
      "metadata": {
        "id": "URqXddKYYygb"
      },
      "source": [
        "## Lemmatization\n",
        "\n",
        "Some times analysis requires us to **stem** or **lemmatize** our word so that is becomes a root word. For example the word _cats_ would be transformed into _cat_. Doing this makes our analysis a bit more clear as we can more readily compare words against one another. Our Python Library allows us to do this fairly easily.\n",
        "\n",
        "A full & comprehensive text analysis project would require us to do this for our corpus. "
      ]
    },
    {
      "cell_type": "code",
      "execution_count": 37,
      "metadata": {
        "id": "PN475vKUYygb",
        "outputId": "910e2217-773b-44ee-80a1-e850062e03b3",
        "colab": {
          "base_uri": "https://localhost:8080/",
          "height": 35
        }
      },
      "outputs": [
        {
          "output_type": "execute_result",
          "data": {
            "application/vnd.google.colaboratory.intrinsic+json": {
              "type": "string"
            },
            "text/plain": [
              "'cat'"
            ]
          },
          "metadata": {},
          "execution_count": 37
        }
      ],
      "source": [
        "w = Word(\"cats\")\n",
        "w.lemmatize()"
      ]
    },
    {
      "cell_type": "code",
      "execution_count": 38,
      "metadata": {
        "id": "Dm-OGz-GYygb",
        "outputId": "2d0deb34-e681-4447-d591-38a047a2ef94",
        "colab": {
          "base_uri": "https://localhost:8080/"
        }
      },
      "outputs": [
        {
          "output_type": "stream",
          "name": "stdout",
          "text": [
            "I\n",
            "have\n",
            "chased\n",
            "so\n",
            "many\n",
            "mouse\n",
            "and\n",
            "cat\n",
            "today\n",
            "I\n",
            "am\n",
            "exhausted\n"
          ]
        }
      ],
      "source": [
        "ex_text_2 = TextBlob(\"I have chased so many mice and cats today, I am exhausted.\")\n",
        "\n",
        "\n",
        "for sentence in ex_text_2.sentences:\n",
        "    for word in sentence.words:\n",
        "        print(Word(word).lemmatize())\n"
      ]
    },
    {
      "cell_type": "markdown",
      "metadata": {
        "id": "axxW3EvJYygb"
      },
      "source": [
        "## Sentiment v. Stop Words v. Lemmatization\n",
        "\n",
        "The question now becomes does Sentiment score change now if we apply our processing steps? Let's try by taking our random entry and applying these steps and getting the score."
      ]
    },
    {
      "cell_type": "code",
      "execution_count": null,
      "metadata": {
        "id": "PQ0EpmPoYygc"
      },
      "outputs": [],
      "source": [
        "#Sentiment of unchanged entry\n",
        "raw_sentiment = another_bit_of_corpus.sentiment\n",
        "\n",
        "print(\"\\nSentiment of entry: \\n\",raw_sentiment)\n",
        "\n",
        "\n",
        "#Remove stopwords & score sentiment\n",
        "stopword_sent = \"and\"\n",
        "for sentence in bit_of_corpus.sentences:\n",
        "    for word in sentence.words:\n",
        "        if word.lower() not in stopwords.words('english'):\n",
        "            stopword_sent = stopword_sent + \" \" + str(word)\n",
        "            \n",
        "stopword_sentiment = TextBlob(stopword_sent).sentiment\n",
        "print(\"\\nSentiment of entry without stopwords: \\n\",stopword_sentiment)        \n",
        "\n",
        "\n",
        "#Lemmatize the words and print sentiment\n",
        "lemm_sent = \"\"\n",
        "for sentence in bit_of_corpus.sentences:\n",
        "    for word in sentence.words:\n",
        "        lw = str(Word(word).lemmatize())\n",
        "        lemm_sent = lemm_sent + \" \" + lw\n",
        "            \n",
        "lemm_sentiment = TextBlob(lemm).sentiment\n",
        "print(\"\\nSentiment of entry with lemmatization: \\n\",lemm_sentiment)   \n",
        "\n"
      ]
    },
    {
      "cell_type": "markdown",
      "metadata": {
        "id": "54-faxdsYygc"
      },
      "source": [
        "---\n",
        "Bottom line, our sentiment tool already considers stopwords and lemmatization. In *this case* we didn't have to process the text further"
      ]
    },
    {
      "cell_type": "markdown",
      "metadata": {
        "id": "PXymqMd6Yygc"
      },
      "source": [
        "# Noun Phrases\n",
        "\n",
        "We can get a good idea about what a corpus is about by looking at the different _nouns_ that show up in it. _Nouns_ that show up a lot give us an idea of the contents of the text. TextBlob is smart enough to ignore *stopwords* when it does this."
      ]
    },
    {
      "cell_type": "code",
      "execution_count": 43,
      "metadata": {
        "scrolled": true,
        "id": "PYlwDrXqYygc",
        "outputId": "b9550f50-25a5-46c9-b87a-c8edce285fd3",
        "colab": {
          "base_uri": "https://localhost:8080/"
        }
      },
      "outputs": [
        {
          "output_type": "stream",
          "name": "stdout",
          "text": [
            "went\n",
            "papa mamma\n",
            "redpath\n",
            "co\n",
            "mme meredith\n",
            "miss clary\n",
            "dr carl dufft\n",
            "mr\n",
            "tenor\n",
            "miss von fursch\n",
            "miss koler\n",
            "mr dufft\n",
            "beautiful boquet\n",
            "l. lehmann\n",
            "persian garden\n"
          ]
        }
      ],
      "source": [
        "for np in bit_of_corpus.noun_phrases:\n",
        "    print(np)"
      ]
    },
    {
      "cell_type": "markdown",
      "metadata": {
        "id": "IqeU_a7dYygc"
      },
      "source": [
        "### Automatic Keyword generator\n",
        "\n",
        "One good use of Noun Phrase identification is automatically creating keywords for a collection of works in your corpus. The basics structure goes like this:\n",
        "\n",
        "1. Read through each document in your corpus\n",
        "\n",
        "2. Identify each noun phrase in your documents\n",
        "\n",
        "3. NP that show up the most are the keywords for your document\n",
        "\n",
        "We are going to be looking at the book [The Prince](https://en.wikipedia.org/wiki/The_Prince) (You can modify line #4 to download a different book, just pick the full-text [Guttenberg](https://www.gutenberg.org/) URL for the variable.)\n",
        "\n",
        "You'll need to be patient while this cell runs."
      ]
    },
    {
      "cell_type": "code",
      "execution_count": 44,
      "metadata": {
        "id": "r2lrHQ9OYygc",
        "outputId": "92b7f242-64f4-48b0-88c3-14e359fbd5d8",
        "colab": {
          "base_uri": "https://localhost:8080/"
        }
      },
      "outputs": [
        {
          "output_type": "stream",
          "name": "stdout",
          "text": [
            "Downloading book...\n",
            "Identiying Noun phrases and building frequency dictionary...\n",
            "Most common Nouns...\n",
            "castruccio 129\n",
            "florentines 60\n",
            "italy 56\n",
            "lucca 47\n",
            "florence 46\n",
            "project gutenberg-tm 45\n",
            "france 44\n",
            "machiavelli 40\n",
            "pisa 36\n",
            "rome 31\n",
            "alexander 31\n",
            "venetians 24\n",
            "orsini 24\n",
            "pistoia 23\n",
            "milan 22\n",
            "uguccione 22\n",
            "prince_ 21\n",
            "oliverotto 21\n",
            "sinigalia 21\n",
            "medici 19\n"
          ]
        }
      ],
      "source": [
        "keywords = dict()\n",
        "\n",
        "#You can replace with any book on Gutenberg, we are using The Prince - https://www.gutenberg.org/ebooks/1232\n",
        "BOOK_URL = \"https://www.gutenberg.org/files/1232/1232-0.txt\"\n",
        "\n",
        "\n",
        "#We are using a Library called requests to download the book (https://realpython.com/python-requests/)\n",
        "print(\"Downloading book...\")\n",
        "book = requests.get(BOOK_URL)\n",
        "\n",
        "#Turn text into text blob\n",
        "book_blob = TextBlob(book.text)\n",
        "\n",
        "print(\"Identiying Noun phrases and building frequency dictionary...\")\n",
        "\n",
        "#Go through all noun phrases\n",
        "for np in book_blob.noun_phrases:\n",
        "    if np in keywords:\n",
        "        keywords[np] += 1\n",
        "    else:\n",
        "        keywords[np] = 1\n",
        "\n",
        "        \n",
        "#Sort dictionary and print top 20 entries\n",
        "print(\"Most common Nouns...\")\n",
        "\n",
        "for np in sorted(keywords, key=keywords.get, reverse=True)[0:20]:\n",
        "    print(np, keywords[np])"
      ]
    },
    {
      "cell_type": "markdown",
      "metadata": {
        "id": "7G27V77bYygc"
      },
      "source": [
        "## A closer look at the corpus\n",
        "\n",
        "Let's look at the January Diary entries"
      ]
    },
    {
      "cell_type": "code",
      "execution_count": 45,
      "metadata": {
        "scrolled": true,
        "id": "z5NGQQSeYygd"
      },
      "outputs": [],
      "source": [
        "#January Entries\n",
        "jan_corpus = winnie_corpus[(winnie_corpus['date'] >= '1900-01-01') & (winnie_corpus['date'] <= '1900-01-31')]"
      ]
    },
    {
      "cell_type": "markdown",
      "metadata": {
        "id": "ei2DM-NYYygd"
      },
      "source": [
        "Let's see what Winnie talks about the most in the month. We can do this by extracting the _noun phrases_ in her entries. We can put them in a dictionary to count how many times a phrase is used"
      ]
    },
    {
      "cell_type": "code",
      "execution_count": 46,
      "metadata": {
        "scrolled": true,
        "id": "-fiDCIIFYygd"
      },
      "outputs": [],
      "source": [
        "jan_phrases = dict()\n",
        "\n",
        "for entry in jan_corpus.entry:\n",
        "    tb = TextBlob(entry)\n",
        "    for np in tb.noun_phrases:\n",
        "        if np in jan_phrases:\n",
        "            jan_phrases[np] += 1\n",
        "        else:\n",
        "            jan_phrases[np] = 1"
      ]
    },
    {
      "cell_type": "code",
      "execution_count": 47,
      "metadata": {
        "scrolled": true,
        "id": "broMRr9sYygd",
        "outputId": "c574f6c8-8789-43f0-bfa6-081b03780775",
        "colab": {
          "base_uri": "https://localhost:8080/"
        }
      },
      "outputs": [
        {
          "output_type": "stream",
          "name": "stdout",
          "text": [
            "went 23\n",
            "mamma 19\n",
            "papa 16\n",
            "beatrice 8\n",
            "took 8\n",
            "trusty 5\n",
            "music lesson 4\n",
            "mr read 4\n",
            "annie gardiner 4\n",
            "got 4\n"
          ]
        }
      ],
      "source": [
        "#Print the top 10 things she mentioned in January\n",
        "\n",
        "for np in sorted(jan_phrases, key=jan_phrases.get, reverse=True)[0:10]:\n",
        "    print(np, jan_phrases[np])\n",
        "\n"
      ]
    },
    {
      "cell_type": "markdown",
      "metadata": {
        "id": "tiuHHMbKYygd"
      },
      "source": [
        "## Q6\n",
        "\n",
        "Let's compare against the first 6 months of the year. Run the following set of cells.\n",
        "What can you say about Winnie's topics over the first half of the year? Share your thoughts in the chat box."
      ]
    },
    {
      "cell_type": "code",
      "execution_count": 48,
      "metadata": {
        "scrolled": true,
        "id": "8x8dVbM7Yygd",
        "outputId": "2dee1885-9227-4e68-9938-67b31e946ea3",
        "colab": {
          "base_uri": "https://localhost:8080/"
        }
      },
      "outputs": [
        {
          "output_type": "stream",
          "name": "stdout",
          "text": [
            "mamma 20\n",
            "went 18\n",
            "papa 12\n",
            "beatrice 7\n",
            "pay 6\n",
            "was 5\n",
            "took 5\n",
            "got 5\n",
            "music lesson 4\n",
            "musical 4\n"
          ]
        }
      ],
      "source": [
        "#February Entries\n",
        "feb_corpus = winnie_corpus[(winnie_corpus['date'] >= '1900-02-01') & (winnie_corpus['date'] <= '1900-02-28')]\n",
        "\n",
        "feb_phrases = dict()\n",
        "\n",
        "for entry in feb_corpus.entry:\n",
        "    tb = TextBlob(entry)\n",
        "    for np in tb.noun_phrases:\n",
        "        if np in feb_phrases:\n",
        "            feb_phrases[np] += 1\n",
        "        else:\n",
        "            feb_phrases[np] = 1\n",
        "            \n",
        "#Print the top 10 things she mentioned in February\n",
        "\n",
        "for np in sorted(feb_phrases, key=feb_phrases.get, reverse=True)[0:10]:\n",
        "    print(np, feb_phrases[np])"
      ]
    },
    {
      "cell_type": "code",
      "execution_count": 49,
      "metadata": {
        "scrolled": false,
        "id": "fg0u1huIYygd",
        "outputId": "e0151b1b-9cb1-458a-ef4e-e28edd7aa073",
        "colab": {
          "base_uri": "https://localhost:8080/"
        }
      },
      "outputs": [
        {
          "output_type": "stream",
          "name": "stdout",
          "text": [
            "mamma 21\n",
            "took 9\n",
            "papa 9\n",
            "went 8\n",
            "got 7\n",
            "pay 7\n",
            "dwyer 7\n",
            "mr perry 6\n",
            "godard 5\n",
            "beatrice 5\n"
          ]
        }
      ],
      "source": [
        "#March Entries\n",
        "mar_corpus = winnie_corpus[(winnie_corpus['date'] >= '1900-03-01') & (winnie_corpus['date'] <= '1900-03-31')]\n",
        "\n",
        "\n",
        "mar_phrases = dict()\n",
        "\n",
        "for entry in mar_corpus.entry:\n",
        "    tb = TextBlob(entry)\n",
        "    for np in tb.noun_phrases:\n",
        "        if np in mar_phrases:\n",
        "            mar_phrases[np] += 1\n",
        "        else:\n",
        "            mar_phrases[np] = 1\n",
        "            \n",
        "#Print the top 10 things she mentioned in March\n",
        "\n",
        "for np in sorted(mar_phrases, key=mar_phrases.get, reverse=True)[0:10]:\n",
        "    print(np, mar_phrases[np])"
      ]
    },
    {
      "cell_type": "code",
      "execution_count": 50,
      "metadata": {
        "id": "2nuDcE3RYyge",
        "outputId": "f7d079d0-338c-437b-c56e-22fdf3e4dd4a",
        "colab": {
          "base_uri": "https://localhost:8080/"
        }
      },
      "outputs": [
        {
          "output_type": "stream",
          "name": "stdout",
          "text": [
            "mamma 24\n",
            "papa 20\n",
            "went 11\n",
            "got 9\n",
            "pay 8\n",
            "took 7\n",
            "beatrice 7\n",
            "sullivan 7\n",
            "christ 6\n",
            "lizzie 5\n"
          ]
        }
      ],
      "source": [
        "#April Entries\n",
        "april_corpus = winnie_corpus[(winnie_corpus['date'] >= '1900-04-01') & (winnie_corpus['date'] <= '1900-04-30')]\n",
        "\n",
        "april_phrases = dict()\n",
        "\n",
        "for entry in april_corpus.entry:\n",
        "    tb = TextBlob(entry)\n",
        "    for np in tb.noun_phrases:\n",
        "        if np in april_phrases:\n",
        "            april_phrases[np] += 1\n",
        "        else:\n",
        "            april_phrases[np] = 1\n",
        "            \n",
        "#Print the top 10 things she mentioned in April\n",
        "\n",
        "for np in sorted(april_phrases, key=april_phrases.get, reverse=True)[0:10]:\n",
        "    print(np, april_phrases[np])"
      ]
    },
    {
      "cell_type": "code",
      "execution_count": 51,
      "metadata": {
        "id": "5geHTxrjYyge",
        "outputId": "d93ad415-feaa-4ad0-8b41-cbfecdbc0585",
        "colab": {
          "base_uri": "https://localhost:8080/"
        }
      },
      "outputs": [
        {
          "output_type": "stream",
          "name": "stdout",
          "text": [
            "mamma 30\n",
            "papa 21\n",
            "went 17\n",
            "got 11\n",
            "ella 7\n",
            "lizzie 6\n",
            "rode 5\n",
            "helen 5\n",
            "pay 4\n",
            "dwyer 4\n"
          ]
        }
      ],
      "source": [
        "#May Entries\n",
        "may_corpus = winnie_corpus[(winnie_corpus['date'] >= '1900-05-01') & (winnie_corpus['date'] <= '1900-05-31')]\n",
        "\n",
        "may_phrases = dict()\n",
        "\n",
        "for entry in may_corpus.entry:\n",
        "    tb = TextBlob(entry)\n",
        "    for np in tb.noun_phrases:\n",
        "        if np in may_phrases:\n",
        "            may_phrases[np] += 1\n",
        "        else:\n",
        "            may_phrases[np] = 1\n",
        "            \n",
        "#Print the top 10 things she mentioned in may\n",
        "\n",
        "for np in sorted(may_phrases, key=may_phrases.get, reverse=True)[0:10]:\n",
        "    print(np, may_phrases[np])"
      ]
    },
    {
      "cell_type": "code",
      "execution_count": 52,
      "metadata": {
        "id": "LZN6RZEnYyge",
        "outputId": "cdd9f4fe-432e-4bd9-c3c8-44064cc78ae1",
        "colab": {
          "base_uri": "https://localhost:8080/"
        }
      },
      "outputs": [
        {
          "output_type": "stream",
          "name": "stdout",
          "text": [
            "mamma 21\n",
            "papa 16\n",
            "got 13\n",
            "went 13\n",
            "took 7\n",
            "lizzie 7\n",
            "was 4\n",
            "mrs. sullivan 4\n",
            "ella 4\n",
            "aunt lillie 4\n"
          ]
        }
      ],
      "source": [
        "#June Entries\n",
        "june_corpus = winnie_corpus[(winnie_corpus['date'] >= '1900-06-01') & (winnie_corpus['date'] <= '1900-06-30')]\n",
        "\n",
        "june_phrases = dict()\n",
        "\n",
        "for entry in june_corpus.entry:\n",
        "    tb = TextBlob(entry)\n",
        "    for np in tb.noun_phrases:\n",
        "        if np in june_phrases:\n",
        "            june_phrases[np] += 1\n",
        "        else:\n",
        "            june_phrases[np] = 1\n",
        "            \n",
        "#Print the top 10 things she mentioned in june\n",
        "\n",
        "for np in sorted(june_phrases, key=june_phrases.get, reverse=True)[0:10]:\n",
        "    print(np, june_phrases[np])"
      ]
    },
    {
      "cell_type": "markdown",
      "metadata": {
        "id": "XXM8qjKdYyge"
      },
      "source": [
        "## Q7\n",
        "\n",
        "Find a URL to perform some analysis. You can try to get something from:\n",
        "- [CBC news](https://www.cbc.ca/news)\n",
        "- [New York Times](https://www.nytimes.com/)\n",
        "- The text of a tweet...\n",
        "- What else?\n",
        "\n",
        "Paste your URL into the variable defined in line 1.\n",
        "\n",
        "Share the URL you've analyzed by sharing a link in the chat box"
      ]
    },
    {
      "cell_type": "code",
      "execution_count": null,
      "metadata": {
        "scrolled": false,
        "id": "LSziwKZTYyge"
      },
      "outputs": [],
      "source": [
        "URL = \"https://www.cbc.ca/news/science/wikipedia-bias-1.6129073\"\n",
        "\n",
        "#create a TextBlob of just the text from that URL\n",
        "ex_corpus = requests.get(URL).text\n",
        "ex_corpus = BeautifulSoup(ex_corpus,\"lxml\").text\n",
        "eTB = TextBlob(ex_corpus)\n",
        "\n",
        "#Sentiment\n",
        "print(\"Sentiment:\\n\")\n",
        "print(eTB.sentiment)\n",
        "\n",
        "\n",
        "#Noun Phrases\n",
        "print(\"\\nNoun Phrases:\\n\")\n",
        "ex_phrases = dict()\n",
        "\n",
        "#We go through and count how many times a Noun-Phrase shows up\n",
        "for np in eTB.noun_phrases:\n",
        "    if np in ex_phrases:\n",
        "        ex_phrases[np] += 1\n",
        "    else:\n",
        "        ex_phrases[np] = 1    \n",
        "\n",
        "#We'll print the noun-phrase and times they show up\n",
        "#We'll stop when the noun-phrases only show up once\n",
        "\n",
        "for np in sorted(ex_phrases, key=ex_phrases.get, reverse=True):\n",
        "    if ex_phrases[np] == 1:\n",
        "        break\n",
        "    print(np, ex_phrases[np])\n",
        "    "
      ]
    },
    {
      "cell_type": "markdown",
      "metadata": {
        "id": "fVWnSv7oYyge"
      },
      "source": [
        "# And now for something completely different \n",
        "\n",
        "## A very basic classifier\n",
        "\n",
        "We looked at how to score the sentiment of a corpus. We can also create a classifier on our own if we provide testing and training data. In our example we are going to look at whether some statements about Twitter are subjective ( _sub_ ) or objective ( _obj_ )."
      ]
    },
    {
      "cell_type": "code",
      "execution_count": null,
      "metadata": {
        "scrolled": true,
        "id": "v7XW8l_OYygf"
      },
      "outputs": [],
      "source": [
        "train = [\n",
        "    ('I think Twitter is stupid', 'sub'),\n",
        "    ('Lots of people send too much time on Twitter.', 'obj'),\n",
        "    ('Twitter is a waste of time.', 'sub'),\n",
        "    ('Twitter can be used to find information.', 'obj'),\n",
        "    ('Many celebrites have Twitter accounts.', 'obj'),\n",
        "    ('I think there is too much misinformation on Twitter', 'sub'),\n",
        "    (\"I don't like Twitter.\", 'sub'),\n",
        "    (\"Twitter is the best ever\", 'sub'),\n",
        "    ('Twitter is great because all of my friends us it', 'sub'),\n",
        "    ('Twitter is a fortune 500 company', 'obj')\n",
        "    ]\n",
        "\n",
        "\n",
        "test = [\n",
        "     ('Twitter is a company', 'obj'),\n",
        "     (\"You can't communicate well with such short sentences\", 'sub'),\n",
        "     (\"Twitter is disruptive to soceity\", 'sub'),\n",
        "     (\"Over 500 million people use Twitter\", 'obj'),\n",
        "     ('A Twitter message can have 280 characters', 'obj'),\n",
        "     (\"A Twitter message is always stupid\", 'sub')\n",
        "    ]\n"
      ]
    },
    {
      "cell_type": "code",
      "execution_count": null,
      "metadata": {
        "scrolled": true,
        "id": "DRlabJIMYygf"
      },
      "outputs": [],
      "source": [
        "#Builds the classifer and run the training data through it\n",
        "cl = NaiveBayesClassifier(train)"
      ]
    },
    {
      "cell_type": "code",
      "execution_count": null,
      "metadata": {
        "scrolled": true,
        "id": "2auCvmJUYygf"
      },
      "outputs": [],
      "source": [
        "#Classify each item in the test set to see how well the classifier works.\n",
        "\n",
        "for item in test:\n",
        "    print(\"Item: \",item[0])\n",
        "    print(\"Guess: \\t\\t\",cl.classify(item[0]))\n",
        "    print(\"Actual: \\t\",item[1],\"\\n\")\n",
        " \n",
        "print(\"\\nAccuracy of guesses\", cl.accuracy(test))\n",
        "\n"
      ]
    },
    {
      "cell_type": "code",
      "execution_count": null,
      "metadata": {
        "scrolled": true,
        "id": "1fE-iJCGYygf"
      },
      "outputs": [],
      "source": [
        "# We can have the classifer tells us some things it has noticed with the samples\n",
        "cl.show_informative_features()"
      ]
    },
    {
      "cell_type": "markdown",
      "metadata": {
        "id": "Nb4Dj7HtYygf"
      },
      "source": [
        "## Q8\n",
        "\n",
        "As our last activity try to create your own classifier in the next code cell. You'll just need to provide examples for the classifer to train on."
      ]
    },
    {
      "cell_type": "code",
      "execution_count": null,
      "metadata": {
        "scrolled": true,
        "id": "R6ryzCy4Yygf"
      },
      "outputs": [],
      "source": [
        "train_2 = [\n",
        "    ('I love this sandwich.', 'pos'),\n",
        "    ('','pos'), #add a positive sentence\n",
        "    ('','pos'), #add a positive sentence\n",
        "    ('','pos'), #add a positive sentence\n",
        "    ('I do not like this restaurant', 'neg'),\n",
        "    ('','neg'), #add a negative sentence\n",
        "    ('','neg'), #add a negative sentence\n",
        "    ('','neg')  #add a negative sentence\n",
        "    ]\n",
        "\n",
        "\n",
        "cl_2 = NaiveBayesClassifier(train_2)\n",
        "\n",
        "print(\"Our Important features:\")\n",
        "cl_2.show_informative_features()"
      ]
    },
    {
      "cell_type": "markdown",
      "metadata": {
        "id": "IO-LFHPQYygf"
      },
      "source": [
        "Run the following cell as often as you'd like to have the classifier attempt more sentences."
      ]
    },
    {
      "cell_type": "code",
      "execution_count": null,
      "metadata": {
        "scrolled": true,
        "id": "urRoBZvPYygf"
      },
      "outputs": [],
      "source": [
        "print(\"\\nInput a sentence you wish to classify\")\n",
        "test_sentence = input()\n",
        "print(\"Classification category: \", cl_2.classify(test_sentence))"
      ]
    },
    {
      "cell_type": "markdown",
      "metadata": {
        "id": "_rivjyZMYygg"
      },
      "source": [
        "# Congrats!\n",
        "\n",
        "You have now learned the basics of Text Analysis using Python and TextBlob. "
      ]
    },
    {
      "cell_type": "markdown",
      "metadata": {
        "id": "EwpsBwO4Yygg"
      },
      "source": [
        "# More Links\n",
        "\n",
        "\n",
        "- [Sentiment Analysis of Tweets Using Python](https://www.greycampus.com/blog/data-science/sentiment-analysis-on-twitter-tweets-using-python) - a case study that uses twitter data to generate sentiment values.\n",
        "\n",
        "\n",
        "- [VADER](https://github.com/cjhutto/vaderSentiment#python-demo-and-code-examples) - (Valence Aware Dictionary and sEntiment Reasoner) is a sentiment library designed to be used for social media that can better reflect the sentiment of slang, emoticons and hashtags.\n",
        "\n",
        "\n",
        "- [Topic Modelling with gensim](https://towardsdatascience.com/topic-modeling-with-gensim-a5609cefccc) - The next step in your understanding of text analysis should be topic modelling, where we try to determine what topics are in a corpus. It is bit too complex to tackling in this workshop.\n",
        "\n",
        "\n",
        "- [Kaggle](https://www.kaggle.com/search?q=text+analysis) - If you do data science using a Python in a notebook, this the place for you.\n",
        "\n",
        "\n",
        "- [Python for Librarians](https://libraryjuiceacademy.com/shop/course/270-python-for-librarians/) - An upcoming workshop that will look at many interesting pieces of Python."
      ]
    }
  ],
  "metadata": {
    "kernelspec": {
      "display_name": "Python 3",
      "language": "python",
      "name": "python3"
    },
    "language_info": {
      "codemirror_mode": {
        "name": "ipython",
        "version": 3
      },
      "file_extension": ".py",
      "mimetype": "text/x-python",
      "name": "python",
      "nbconvert_exporter": "python",
      "pygments_lexer": "ipython3",
      "version": "3.7.4"
    },
    "colab": {
      "name": "basics.ipynb",
      "provenance": []
    }
  },
  "nbformat": 4,
  "nbformat_minor": 0
}