{
  "nbformat": 4,
  "nbformat_minor": 0,
  "metadata": {
    "colab": {
      "name": "set_list_dict_defaultdict_zip_pprint.ipynb",
      "provenance": [],
      "authorship_tag": "ABX9TyMsKY4X81uSRENVYBWrRW/K",
      "include_colab_link": true
    },
    "kernelspec": {
      "name": "python3",
      "display_name": "Python 3"
    },
    "language_info": {
      "name": "python"
    }
  },
  "cells": [
    {
      "cell_type": "markdown",
      "metadata": {
        "id": "view-in-github",
        "colab_type": "text"
      },
      "source": [
        "<a href=\"https://colab.research.google.com/github/Daivar/Modern_Python/blob/main/set_list_dict_defaultdict_zip_pprint.ipynb\" target=\"_parent\"><img src=\"https://colab.research.google.com/assets/colab-badge.svg\" alt=\"Open In Colab\"/></a>"
      ]
    },
    {
      "cell_type": "code",
      "execution_count": 58,
      "metadata": {
        "id": "8loNqxXLq96F"
      },
      "outputs": [],
      "source": [
        "from typing import *"
      ]
    },
    {
      "cell_type": "code",
      "source": [
        "pip install mypy "
      ],
      "metadata": {
        "colab": {
          "base_uri": "https://localhost:8080/"
        },
        "id": "-Jai3AR1taZ3",
        "outputId": "b4ba797e-1b57-4369-d711-c31b679e6f4d"
      },
      "execution_count": 29,
      "outputs": [
        {
          "output_type": "stream",
          "name": "stdout",
          "text": [
            "Requirement already satisfied: mypy in /usr/local/lib/python3.7/dist-packages (0.931)\n",
            "Requirement already satisfied: mypy-extensions>=0.4.3 in /usr/local/lib/python3.7/dist-packages (from mypy) (0.4.3)\n",
            "Requirement already satisfied: tomli>=1.1.0 in /usr/local/lib/python3.7/dist-packages (from mypy) (2.0.0)\n",
            "Requirement already satisfied: typed-ast<2,>=1.4.0 in /usr/local/lib/python3.7/dist-packages (from mypy) (1.5.2)\n",
            "Requirement already satisfied: typing-extensions>=3.10 in /usr/local/lib/python3.7/dist-packages (from mypy) (3.10.0.2)\n"
          ]
        }
      ]
    },
    {
      "cell_type": "code",
      "source": [
        "x = 10\n",
        "x: int = 10"
      ],
      "metadata": {
        "id": "-PSs3aqgtOhj"
      },
      "execution_count": 3,
      "outputs": []
    },
    {
      "cell_type": "code",
      "source": [
        "def f(x: int, y: int) -> int:\n",
        "  return x + y"
      ],
      "metadata": {
        "id": "B5FYrLZ2tmpa"
      },
      "execution_count": 7,
      "outputs": []
    },
    {
      "cell_type": "code",
      "source": [
        "print(f(10, 20))\n",
        "# print(f(10, 'hello'))"
      ],
      "metadata": {
        "id": "NKGF-M8Ntvqf"
      },
      "execution_count": null,
      "outputs": []
    },
    {
      "cell_type": "code",
      "source": [
        "y = OrderedDict()"
      ],
      "metadata": {
        "id": "GOCCUt6Zu8Sn"
      },
      "execution_count": 10,
      "outputs": []
    },
    {
      "cell_type": "code",
      "source": [
        "def g(x: Sequence) -> None:\n",
        "  print(len(x))\n",
        "  print(x[2])\n",
        "  for i in x:\n",
        "    print(i)\n",
        "  print()"
      ],
      "metadata": {
        "id": "zFRtg_RzvE_e"
      },
      "execution_count": 11,
      "outputs": []
    },
    {
      "cell_type": "code",
      "source": [
        "g([10, 20, 30])"
      ],
      "metadata": {
        "colab": {
          "base_uri": "https://localhost:8080/"
        },
        "id": "fFqkwlf7vc-x",
        "outputId": "717c6db6-af73-46f0-9bb3-16066eee1cf2"
      },
      "execution_count": 12,
      "outputs": [
        {
          "output_type": "stream",
          "name": "stdout",
          "text": [
            "3\n",
            "30\n",
            "10\n",
            "20\n",
            "30\n",
            "\n"
          ]
        }
      ]
    },
    {
      "cell_type": "code",
      "source": [
        "g([11, 12, 13])"
      ],
      "metadata": {
        "colab": {
          "base_uri": "https://localhost:8080/"
        },
        "id": "JNJLGFHDvjkl",
        "outputId": "77d6f52d-4d7c-423c-a857-b5ad1e822499"
      },
      "execution_count": 13,
      "outputs": [
        {
          "output_type": "stream",
          "name": "stdout",
          "text": [
            "3\n",
            "13\n",
            "11\n",
            "12\n",
            "13\n",
            "\n"
          ]
        }
      ]
    },
    {
      "cell_type": "code",
      "source": [
        "hts = [97.1, 102.5, 97.5] # list[float]\n",
        "person = ('Raimund', 5 * 12 + 11) # Tuple[str, float]\n",
        "info = {'Pearson', 'Course', 'Python', 'Raymond'} # Tuple[str.....]\n",
        "# fifo = deque()  # type deque"
      ],
      "metadata": {
        "id": "Y0tKQGaevt6G"
      },
      "execution_count": null,
      "outputs": []
    },
    {
      "cell_type": "code",
      "source": [
        "from math import fsum"
      ],
      "metadata": {
        "id": "d_G_I6BJxhyP"
      },
      "execution_count": 18,
      "outputs": []
    },
    {
      "cell_type": "code",
      "source": [
        "fsum([0.1] * 10) == 1.0"
      ],
      "metadata": {
        "colab": {
          "base_uri": "https://localhost:8080/"
        },
        "id": "h6VQhgVX1x59",
        "outputId": "abc2d555-76cc-49f6-a861-cb4bc84b553e"
      },
      "execution_count": 19,
      "outputs": [
        {
          "output_type": "execute_result",
          "data": {
            "text/plain": [
              "True"
            ]
          },
          "metadata": {},
          "execution_count": 19
        }
      ]
    },
    {
      "cell_type": "code",
      "source": [
        "38 / 5"
      ],
      "metadata": {
        "colab": {
          "base_uri": "https://localhost:8080/"
        },
        "id": "iyKON5I-2Ftu",
        "outputId": "9978efa2-5e3a-4930-dd1f-319b83dad9df"
      },
      "execution_count": 20,
      "outputs": [
        {
          "output_type": "execute_result",
          "data": {
            "text/plain": [
              "7.6"
            ]
          },
          "metadata": {},
          "execution_count": 20
        }
      ]
    },
    {
      "cell_type": "code",
      "source": [
        "38 // 5"
      ],
      "metadata": {
        "colab": {
          "base_uri": "https://localhost:8080/"
        },
        "id": "RV4HBJZ92J6s",
        "outputId": "75de8101-09a8-4a17-d22e-36ec52c02456"
      },
      "execution_count": 21,
      "outputs": [
        {
          "output_type": "execute_result",
          "data": {
            "text/plain": [
              "7"
            ]
          },
          "metadata": {},
          "execution_count": 21
        }
      ]
    },
    {
      "cell_type": "code",
      "source": [
        "from collections import defaultdict"
      ],
      "metadata": {
        "id": "KQ0keo012Q30"
      },
      "execution_count": 60,
      "outputs": []
    },
    {
      "cell_type": "code",
      "source": [
        "set()"
      ],
      "metadata": {
        "colab": {
          "base_uri": "https://localhost:8080/"
        },
        "id": "s5fB2Zp52klk",
        "outputId": "2243e11d-13b7-4a9b-f470-c03f1f9dbf79"
      },
      "execution_count": 23,
      "outputs": [
        {
          "output_type": "execute_result",
          "data": {
            "text/plain": [
              "set()"
            ]
          },
          "metadata": {},
          "execution_count": 23
        }
      ]
    },
    {
      "cell_type": "code",
      "source": [
        "list()"
      ],
      "metadata": {
        "colab": {
          "base_uri": "https://localhost:8080/"
        },
        "id": "KhS3jGyE2nS9",
        "outputId": "53f77592-44e2-4be9-d1a0-90da1cde617f"
      },
      "execution_count": 24,
      "outputs": [
        {
          "output_type": "execute_result",
          "data": {
            "text/plain": [
              "[]"
            ]
          },
          "metadata": {},
          "execution_count": 24
        }
      ]
    },
    {
      "cell_type": "code",
      "source": [
        "dict()"
      ],
      "metadata": {
        "colab": {
          "base_uri": "https://localhost:8080/"
        },
        "id": "O3XNY51E2qQE",
        "outputId": "46fea82d-d82a-4904-c194-b56ce2e9b371"
      },
      "execution_count": 25,
      "outputs": [
        {
          "output_type": "execute_result",
          "data": {
            "text/plain": [
              "{}"
            ]
          },
          "metadata": {},
          "execution_count": 25
        }
      ]
    },
    {
      "cell_type": "code",
      "source": [
        "d = defaultdict(set)\n",
        "d['t'].add('tom')\n",
        "d['m'].add('mary')\n",
        "d['t'].add('tim')\n",
        "d['t'].add('tom')\n",
        "d['m'].add('martin')\n",
        "d\n"
      ],
      "metadata": {
        "colab": {
          "base_uri": "https://localhost:8080/"
        },
        "id": "16SmL3326BVs",
        "outputId": "f6bf9b0f-ad54-4f3c-d1c4-2748f2f02a17"
      },
      "execution_count": 26,
      "outputs": [
        {
          "output_type": "execute_result",
          "data": {
            "text/plain": [
              "defaultdict(set, {'m': {'martin', 'mary'}, 't': {'tim', 'tom'}})"
            ]
          },
          "metadata": {},
          "execution_count": 26
        }
      ]
    },
    {
      "cell_type": "code",
      "source": [
        "from pprint import pprint"
      ],
      "metadata": {
        "id": "xlmDhpF0F-SJ"
      },
      "execution_count": 61,
      "outputs": []
    },
    {
      "cell_type": "code",
      "source": [
        "pprint(d)"
      ],
      "metadata": {
        "colab": {
          "base_uri": "https://localhost:8080/"
        },
        "id": "l5PvODicGIGV",
        "outputId": "4a3ccd68-9764-4e2e-b802-bacca5856975"
      },
      "execution_count": 33,
      "outputs": [
        {
          "output_type": "stream",
          "name": "stdout",
          "text": [
            "defaultdict(<class 'set'>, {'t': {'tom', 'tim'}, 'm': {'martin', 'mary'}})\n"
          ]
        }
      ]
    },
    {
      "cell_type": "code",
      "source": [
        "pprint(d, width=40)"
      ],
      "metadata": {
        "colab": {
          "base_uri": "https://localhost:8080/"
        },
        "id": "LOIGd6WKFlhr",
        "outputId": "43502dd0-70b4-449e-bf93-5266beb3229d"
      },
      "execution_count": 35,
      "outputs": [
        {
          "output_type": "stream",
          "name": "stdout",
          "text": [
            "defaultdict(<class 'set'>,\n",
            "            {'m': {'martin', 'mary'},\n",
            "             't': {'tom', 'tim'}})\n"
          ]
        }
      ]
    },
    {
      "cell_type": "code",
      "source": [
        "d = defaultdict(list)\n",
        "d['t'].append('tom')\n",
        "d['t'].append('tom')\n",
        "d"
      ],
      "metadata": {
        "colab": {
          "base_uri": "https://localhost:8080/"
        },
        "id": "tl88e5sEGYHW",
        "outputId": "28e21940-3ddb-4285-ba93-40e6eca5d2b5"
      },
      "execution_count": 38,
      "outputs": [
        {
          "output_type": "execute_result",
          "data": {
            "text/plain": [
              "defaultdict(list, {'t': ['tom', 'tom']})"
            ]
          },
          "metadata": {},
          "execution_count": 38
        }
      ]
    },
    {
      "cell_type": "code",
      "source": [
        "names = ''' david betty susan mary darlene sandy davin shelly becky beatrice tom michael wallace'''.split()"
      ],
      "metadata": {
        "id": "Bpjw8HJdIHGM"
      },
      "execution_count": 40,
      "outputs": []
    },
    {
      "cell_type": "code",
      "source": [
        "names"
      ],
      "metadata": {
        "colab": {
          "base_uri": "https://localhost:8080/"
        },
        "id": "CXNmTQ-PIpm2",
        "outputId": "b9cca6d4-9b34-48e6-88f8-c785c5289d54"
      },
      "execution_count": 41,
      "outputs": [
        {
          "output_type": "execute_result",
          "data": {
            "text/plain": [
              "['david',\n",
              " 'betty',\n",
              " 'susan',\n",
              " 'mary',\n",
              " 'darlene',\n",
              " 'sandy',\n",
              " 'davin',\n",
              " 'shelly',\n",
              " 'becky',\n",
              " 'beatrice',\n",
              " 'tom',\n",
              " 'michael',\n",
              " 'wallace']"
            ]
          },
          "metadata": {},
          "execution_count": 41
        }
      ]
    },
    {
      "cell_type": "code",
      "source": [
        "d = defaultdict(list)\n",
        "for name in names:\n",
        "  feature = name[0]\n",
        "  d[feature].append(name)\n",
        "\n",
        "print(d)"
      ],
      "metadata": {
        "colab": {
          "base_uri": "https://localhost:8080/"
        },
        "id": "kngKpxSlHYiW",
        "outputId": "d495e722-a3ef-4b69-ee53-f459dd4a2bb0"
      },
      "execution_count": 45,
      "outputs": [
        {
          "output_type": "stream",
          "name": "stdout",
          "text": [
            "defaultdict(<class 'list'>, {'d': ['david', 'darlene', 'davin'], 'b': ['betty', 'becky', 'beatrice'], 's': ['susan', 'sandy', 'shelly'], 'm': ['mary', 'michael'], 't': ['tom'], 'w': ['wallace']})\n"
          ]
        }
      ]
    },
    {
      "cell_type": "code",
      "source": [
        "d = defaultdict(list)\n",
        "for name in names:\n",
        "  feature = name[-1]\n",
        "  d[feature].append(name)\n",
        "\n",
        "print(d)"
      ],
      "metadata": {
        "colab": {
          "base_uri": "https://localhost:8080/"
        },
        "id": "GzAzoMCCI-9v",
        "outputId": "3dbba4fe-a4e6-431f-aa6d-b7ae47399f1b"
      },
      "execution_count": 44,
      "outputs": [
        {
          "output_type": "stream",
          "name": "stdout",
          "text": [
            "defaultdict(<class 'list'>, {'d': ['david'], 'y': ['betty', 'mary', 'sandy', 'shelly', 'becky'], 'n': ['susan', 'davin'], 'e': ['darlene', 'beatrice', 'wallace'], 'm': ['tom'], 'l': ['michael']})\n"
          ]
        }
      ]
    },
    {
      "cell_type": "code",
      "source": [
        "d = defaultdict(list)\n",
        "for name in names:\n",
        "  feature = len(name)\n",
        "  d[feature].append(name)\n",
        "\n",
        "print(d)"
      ],
      "metadata": {
        "colab": {
          "base_uri": "https://localhost:8080/"
        },
        "id": "Se6sfe3JJh52",
        "outputId": "06328a6c-e3c2-48de-e458-a3c0c6dfe2e2"
      },
      "execution_count": 46,
      "outputs": [
        {
          "output_type": "stream",
          "name": "stdout",
          "text": [
            "defaultdict(<class 'list'>, {5: ['david', 'betty', 'susan', 'sandy', 'davin', 'becky'], 4: ['mary'], 7: ['darlene', 'michael', 'wallace'], 6: ['shelly'], 8: ['beatrice'], 3: ['tom']})\n"
          ]
        }
      ]
    },
    {
      "cell_type": "code",
      "source": [
        "print(sorted(names, key=len))"
      ],
      "metadata": {
        "colab": {
          "base_uri": "https://localhost:8080/"
        },
        "id": "2sMrxDvPKDDJ",
        "outputId": "00e2ddaf-32b7-4907-a2ef-2840be91844e"
      },
      "execution_count": 47,
      "outputs": [
        {
          "output_type": "stream",
          "name": "stdout",
          "text": [
            "['tom', 'mary', 'david', 'betty', 'susan', 'sandy', 'davin', 'becky', 'shelly', 'darlene', 'michael', 'wallace', 'beatrice']\n"
          ]
        }
      ]
    },
    {
      "cell_type": "code",
      "source": [
        "list(zip('abcdef', 'ghijklm'))"
      ],
      "metadata": {
        "colab": {
          "base_uri": "https://localhost:8080/"
        },
        "id": "wHvsYuHJKWmx",
        "outputId": "6b45351f-8348-43c2-ceb8-9e325841f34f"
      },
      "execution_count": 48,
      "outputs": [
        {
          "output_type": "execute_result",
          "data": {
            "text/plain": [
              "[('a', 'g'), ('b', 'h'), ('c', 'i'), ('d', 'j'), ('e', 'k'), ('f', 'l')]"
            ]
          },
          "metadata": {},
          "execution_count": 48
        }
      ]
    },
    {
      "cell_type": "code",
      "source": [
        "from itertools import zip_longest"
      ],
      "metadata": {
        "id": "PJu1IL1ZKr5l"
      },
      "execution_count": 51,
      "outputs": []
    },
    {
      "cell_type": "code",
      "source": [
        "list(zip_longest('abcdef', 'ghijklm'))"
      ],
      "metadata": {
        "colab": {
          "base_uri": "https://localhost:8080/"
        },
        "id": "DlSZMBVjK1Ek",
        "outputId": "9cf92feb-ab6b-4e18-e15f-9b4dc2a9b872"
      },
      "execution_count": 52,
      "outputs": [
        {
          "output_type": "execute_result",
          "data": {
            "text/plain": [
              "[('a', 'g'),\n",
              " ('b', 'h'),\n",
              " ('c', 'i'),\n",
              " ('d', 'j'),\n",
              " ('e', 'k'),\n",
              " ('f', 'l'),\n",
              " (None, 'm')]"
            ]
          },
          "metadata": {},
          "execution_count": 52
        }
      ]
    },
    {
      "cell_type": "code",
      "source": [
        "list(zip_longest('abcdef', 'ghijklm', fillvalue='x'))"
      ],
      "metadata": {
        "colab": {
          "base_uri": "https://localhost:8080/"
        },
        "id": "WxbXvDjMLOH6",
        "outputId": "87346e7e-d50a-4201-ef46-dcdf792c8527"
      },
      "execution_count": 53,
      "outputs": [
        {
          "output_type": "execute_result",
          "data": {
            "text/plain": [
              "[('a', 'g'),\n",
              " ('b', 'h'),\n",
              " ('c', 'i'),\n",
              " ('d', 'j'),\n",
              " ('e', 'k'),\n",
              " ('f', 'l'),\n",
              " ('x', 'm')]"
            ]
          },
          "metadata": {},
          "execution_count": 53
        }
      ]
    },
    {
      "cell_type": "code",
      "source": [
        "m = [\n",
        "     [10, 20],\n",
        "     [30, 40],\n",
        "     [50, 60],\n",
        "]"
      ],
      "metadata": {
        "id": "7OAOeOZaLlsG"
      },
      "execution_count": 54,
      "outputs": []
    },
    {
      "cell_type": "code",
      "source": [
        "list(zip([10, 20], [30, 40], [50, 60]))"
      ],
      "metadata": {
        "colab": {
          "base_uri": "https://localhost:8080/"
        },
        "id": "txFCAFvhMDvy",
        "outputId": "9007ad94-97a8-4077-925e-afa0be514144"
      },
      "execution_count": 55,
      "outputs": [
        {
          "output_type": "execute_result",
          "data": {
            "text/plain": [
              "[(10, 30, 50), (20, 40, 60)]"
            ]
          },
          "metadata": {},
          "execution_count": 55
        }
      ]
    },
    {
      "cell_type": "code",
      "source": [
        "pprint(list(zip([10, 20], [30, 40], [50, 60])), width=15)"
      ],
      "metadata": {
        "colab": {
          "base_uri": "https://localhost:8080/"
        },
        "id": "HjV7Ywc6MTDE",
        "outputId": "914575eb-6d26-4164-d130-b589c9f0d485"
      },
      "execution_count": 63,
      "outputs": [
        {
          "output_type": "stream",
          "name": "stdout",
          "text": [
            "[(10, 30, 50),\n",
            " (20, 40, 60)]\n"
          ]
        }
      ]
    },
    {
      "cell_type": "code",
      "source": [
        "pprint(list(zip(*m)), width=15)"
      ],
      "metadata": {
        "colab": {
          "base_uri": "https://localhost:8080/"
        },
        "id": "wMY-yDlXM04n",
        "outputId": "b51c3e88-9a12-4e96-de86-fdc717326c4d"
      },
      "execution_count": 64,
      "outputs": [
        {
          "output_type": "stream",
          "name": "stdout",
          "text": [
            "[(10, 30, 50),\n",
            " (20, 40, 60)]\n"
          ]
        }
      ]
    },
    {
      "cell_type": "code",
      "source": [
        "pprint(m, width=20)"
      ],
      "metadata": {
        "colab": {
          "base_uri": "https://localhost:8080/"
        },
        "id": "h5lFyQ4SNKns",
        "outputId": "bd949f0e-fe66-462f-9a92-32beb1711bae"
      },
      "execution_count": 66,
      "outputs": [
        {
          "output_type": "stream",
          "name": "stdout",
          "text": [
            "[[10, 20],\n",
            " [30, 40],\n",
            " [50, 60]]\n"
          ]
        }
      ]
    },
    {
      "cell_type": "code",
      "source": [
        "for row in m:\n",
        "   print(row)"
      ],
      "metadata": {
        "colab": {
          "base_uri": "https://localhost:8080/"
        },
        "id": "-vq9xd_pNVB1",
        "outputId": "161111e5-4b53-4890-91b2-d3880533bbe6"
      },
      "execution_count": 68,
      "outputs": [
        {
          "output_type": "stream",
          "name": "stdout",
          "text": [
            "[10, 20]\n",
            "[30, 40]\n",
            "[50, 60]\n"
          ]
        }
      ]
    },
    {
      "cell_type": "code",
      "source": [
        "for row in m:\n",
        "  for col in row:\n",
        "    print(col)"
      ],
      "metadata": {
        "colab": {
          "base_uri": "https://localhost:8080/"
        },
        "id": "0qa6jeZvNmq-",
        "outputId": "194c78ed-7de3-49f6-ca6d-cd8bd9b71d26"
      },
      "execution_count": 69,
      "outputs": [
        {
          "output_type": "stream",
          "name": "stdout",
          "text": [
            "10\n",
            "20\n",
            "30\n",
            "40\n",
            "50\n",
            "60\n"
          ]
        }
      ]
    }
  ]
}