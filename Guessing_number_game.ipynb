{
  "nbformat": 4,
  "nbformat_minor": 0,
  "metadata": {
    "colab": {
      "name": "Guessing_number_game.ipynb",
      "provenance": [],
      "authorship_tag": "ABX9TyN9neIy6cbbdCRAkcdzmDqb",
      "include_colab_link": true
    },
    "kernelspec": {
      "name": "python3",
      "display_name": "Python 3"
    },
    "language_info": {
      "name": "python"
    }
  },
  "cells": [
    {
      "cell_type": "markdown",
      "metadata": {
        "id": "view-in-github",
        "colab_type": "text"
      },
      "source": [
        "<a href=\"https://colab.research.google.com/github/Daivar/Modern_Python/blob/main/Guessing_number_game.ipynb\" target=\"_parent\"><img src=\"https://colab.research.google.com/assets/colab-badge.svg\" alt=\"Open In Colab\"/></a>"
      ]
    },
    {
      "cell_type": "code",
      "source": [
        "import random\n",
        "\n",
        "def guessing_game():\n",
        "  randNum = random.randrange(0,100) # this line generates a random number\n",
        "  guess = int(input('Your guess: ')) # ask user for a number\n",
        "  # print (randNum)\n",
        "  while True:\n",
        "      try:\n",
        "    \n",
        "        if (guess == randNum):\n",
        "            print ('Just right!')\n",
        "            break\n",
        "        \n",
        "        if (guess > randNum):\n",
        "            print ('Too high')\n",
        "            guess = int(input('Your guess: ')) \n",
        "        if (guess < randNum):\n",
        "            print ('Too low')\n",
        "            guess = int(input('Your guess: '))\n",
        "      except (ValueError) as err:\n",
        "            print('Guess should be a number between 0 and 100') \n",
        "            guess = int(input('Your guess: '))\n",
        "            \n",
        "\n",
        "guessing_game()\n",
        "   "
      ],
      "metadata": {
        "colab": {
          "base_uri": "https://localhost:8080/"
        },
        "id": "L42ty4MxaWxm",
        "outputId": "cf1902d6-1a61-4b85-91cd-546e1b10a72e"
      },
      "execution_count": 49,
      "outputs": [
        {
          "output_type": "stream",
          "name": "stdout",
          "text": [
            "Your guess: 52\n",
            "Too high\n",
            "Your guess: \n",
            "Guess should be a number between 0 and 100\n",
            "Your guess: 25\n",
            "Too low\n",
            "Your guess: 32\n",
            "Too low\n",
            "Your guess: m\n",
            "Guess should be a number between 0 and 100\n",
            "Your guess: 45\n",
            "Too low\n",
            "Your guess: 49\n",
            "Too high\n",
            "Your guess: 47\n",
            "Too low\n",
            "Your guess: 48\n",
            "Just right!\n"
          ]
        }
      ]
    }
  ]
}