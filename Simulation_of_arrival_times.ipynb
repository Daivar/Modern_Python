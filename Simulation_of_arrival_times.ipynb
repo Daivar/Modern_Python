{
  "nbformat": 4,
  "nbformat_minor": 0,
  "metadata": {
    "colab": {
      "name": "Simulation of arrival times.ipynb",
      "provenance": [],
      "authorship_tag": "ABX9TyMLb9VvVdnm/0cWqVDcWAgu",
      "include_colab_link": true
    },
    "kernelspec": {
      "name": "python3",
      "display_name": "Python 3"
    },
    "language_info": {
      "name": "python"
    }
  },
  "cells": [
    {
      "cell_type": "markdown",
      "metadata": {
        "id": "view-in-github",
        "colab_type": "text"
      },
      "source": [
        "<a href=\"https://colab.research.google.com/github/Daivar/Modern_Python/blob/main/Simulation_of_arrival_times.ipynb\" target=\"_parent\"><img src=\"https://colab.research.google.com/assets/colab-badge.svg\" alt=\"Open In Colab\"/></a>"
      ]
    },
    {
      "cell_type": "code",
      "execution_count": 16,
      "metadata": {
        "id": "aEpC7iK5Yadh"
      },
      "outputs": [],
      "source": [
        "from statistics import mean, stdev\n",
        "from random import *\n",
        "from statistics import *\n",
        "from collections import *"
      ]
    },
    {
      "cell_type": "code",
      "source": [
        "drug = [7.1, 8.5, 6.4, 7.7, 8.2, 7.6, 8.4, 5.1, 8.1, 7.4, 6.9, 8.4]\n",
        "placebo = [8.2, 6.1, 7.1, 7.1, 4.9, 7.4, 8.1, 7.1, 6.2, 7.0, 6.6, 6.3]"
      ],
      "metadata": {
        "id": "w1StmB6tYiE3"
      },
      "execution_count": 9,
      "outputs": []
    },
    {
      "cell_type": "code",
      "source": [
        "mean(drug)"
      ],
      "metadata": {
        "colab": {
          "base_uri": "https://localhost:8080/"
        },
        "id": "UY_uB33vaEuU",
        "outputId": "4e8077c7-da19-4565-c8a7-1dcb6255fbd9"
      },
      "execution_count": 10,
      "outputs": [
        {
          "output_type": "execute_result",
          "data": {
            "text/plain": [
              "7.483333333333333"
            ]
          },
          "metadata": {},
          "execution_count": 10
        }
      ]
    },
    {
      "cell_type": "code",
      "source": [
        "mean(placebo)"
      ],
      "metadata": {
        "colab": {
          "base_uri": "https://localhost:8080/"
        },
        "id": "o5c50D82aOQk",
        "outputId": "a3caf5fc-2def-4483-b1d9-22e002019bb7"
      },
      "execution_count": 11,
      "outputs": [
        {
          "output_type": "execute_result",
          "data": {
            "text/plain": [
              "6.841666666666667"
            ]
          },
          "metadata": {},
          "execution_count": 11
        }
      ]
    },
    {
      "cell_type": "code",
      "source": [
        "obs_diff = mean(drug) - mean(placebo)"
      ],
      "metadata": {
        "id": "_7xyau4VaR1l"
      },
      "execution_count": 12,
      "outputs": []
    },
    {
      "cell_type": "code",
      "source": [
        "comb = drug + placebo\n",
        "nd = len(drug)\n",
        "shuffle(comb)\n",
        "comb[:nd]"
      ],
      "metadata": {
        "colab": {
          "base_uri": "https://localhost:8080/"
        },
        "id": "wqmY5EqSabyl",
        "outputId": "c4be7dec-3e18-4810-be08-533e8e7b130b"
      },
      "execution_count": 17,
      "outputs": [
        {
          "output_type": "execute_result",
          "data": {
            "text/plain": [
              "[6.2, 7.1, 7.1, 6.9, 8.2, 8.4, 4.9, 6.4, 7.4, 8.1, 6.6, 7.6]"
            ]
          },
          "metadata": {},
          "execution_count": 17
        }
      ]
    },
    {
      "cell_type": "code",
      "source": [
        "def trial():\n",
        "   shuffle(comb)\n",
        "   drug = comb[:nd]\n",
        "   placebo = comb[nd:]\n",
        "   new_diff = mean(drug) - mean(placebo)\n",
        "   return new_diff >= obs_diff"
      ],
      "metadata": {
        "id": "WxoGKfXrcKG0"
      },
      "execution_count": 18,
      "outputs": []
    },
    {
      "cell_type": "code",
      "source": [
        "n = 10000\n",
        "sum(trial() for i in range(n)) / n"
      ],
      "metadata": {
        "colab": {
          "base_uri": "https://localhost:8080/"
        },
        "id": "5EdWzFYjd-1d",
        "outputId": "977685f9-24a2-481e-d571-b3ef09cee1cb"
      },
      "execution_count": 19,
      "outputs": [
        {
          "output_type": "execute_result",
          "data": {
            "text/plain": [
              "0.0606"
            ]
          },
          "metadata": {},
          "execution_count": 19
        }
      ]
    },
    {
      "cell_type": "code",
      "source": [
        "sum(trial() for i in range(n)) / n"
      ],
      "metadata": {
        "colab": {
          "base_uri": "https://localhost:8080/"
        },
        "id": "HCnzz-x_eRQU",
        "outputId": "0c58dc72-5ed3-4d09-dbf0-841a76315379"
      },
      "execution_count": 20,
      "outputs": [
        {
          "output_type": "execute_result",
          "data": {
            "text/plain": [
              "0.062"
            ]
          },
          "metadata": {},
          "execution_count": 20
        }
      ]
    },
    {
      "cell_type": "code",
      "source": [
        "# https://python.readthedocs.io/en/stable/library/random.html\n",
        "\n",
        "from random import expovariate, gauss\n",
        "from statistics import mean, median, stdev"
      ],
      "metadata": {
        "id": "2XEc1GhFeyc9"
      },
      "execution_count": 31,
      "outputs": []
    },
    {
      "cell_type": "code",
      "source": [
        "average_arrival_interval = 5.6\n",
        "average_service_time = 5.0\n",
        "stdev_service_time = 0.5\n",
        "\n",
        "num_waiting = 0\n",
        "arrivals = []\n",
        "starts = []\n",
        "arrival = service_end = 0.0\n",
        "for i in range(20000):\n",
        "    if arrival <= service_end:\n",
        "        num_waiting += 1\n",
        "        arrival += expovariate(1.0 / average_arrival_interval)\n",
        "        arrivals.append(arrival)\n",
        "    else:\n",
        "        num_waiting -= 1\n",
        "        service_start = service_end if num_waiting else arrival\n",
        "        service_time = gauss(average_service_time, stdev_service_time)\n",
        "        service_end = service_start + service_time\n",
        "        starts.append(service_start)\n",
        "\n",
        "waits = [start - arrival for arrival, start in zip(arrivals, starts)]\n",
        "print(f'Mean wait: {mean(waits):.1f}.  Stdev wait: {stdev(waits):.1f}.')\n",
        "print(f'Median wait: {median(waits):.1f}.  Max wait: {max(waits):.1f}.')"
      ],
      "metadata": {
        "colab": {
          "base_uri": "https://localhost:8080/"
        },
        "id": "9aqlDTIUoJ0y",
        "outputId": "14329622-41be-437d-a69f-b816759066c2"
      },
      "execution_count": 40,
      "outputs": [
        {
          "output_type": "stream",
          "name": "stdout",
          "text": [
            "Mean wait: 19.7.  Stdev wait: 19.7.\n",
            "Median wait: 14.0.  Max wait: 120.4.\n"
          ]
        }
      ]
    }
  ]
}