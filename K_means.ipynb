{
  "nbformat": 4,
  "nbformat_minor": 0,
  "metadata": {
    "colab": {
      "name": "K-means.ipynb",
      "provenance": [],
      "authorship_tag": "ABX9TyOAa86qpP9hUZhG4xUWkh/8",
      "include_colab_link": true
    },
    "kernelspec": {
      "name": "python3",
      "display_name": "Python 3"
    },
    "language_info": {
      "name": "python"
    }
  },
  "cells": [
    {
      "cell_type": "markdown",
      "metadata": {
        "id": "view-in-github",
        "colab_type": "text"
      },
      "source": [
        "<a href=\"https://colab.research.google.com/github/Daivar/Modern_Python/blob/main/K_means.ipynb\" target=\"_parent\"><img src=\"https://colab.research.google.com/assets/colab-badge.svg\" alt=\"Open In Colab\"/></a>"
      ]
    },
    {
      "cell_type": "code",
      "execution_count": 62,
      "metadata": {
        "id": "qpW6xJXsSFLx"
      },
      "outputs": [],
      "source": [
        "from pprint import pprint\n",
        "from math import fsum, sqrt\n",
        "from collections import Iterable\n",
        "from typing import *\n",
        "from numpy import sqrt \n",
        "from collections import *\n",
        "from functools import partial\n",
        "from random import sample"
      ]
    },
    {
      "cell_type": "markdown",
      "source": [
        "# https://pybay.com/site_media/slides/raymond2018-keynote/typing.html"
      ],
      "metadata": {
        "id": "01fpDCEpcFfg"
      }
    },
    {
      "cell_type": "code",
      "source": [
        "points = [\n",
        "          (10, 41, 23),\n",
        "          (22, 30, 29),\n",
        "          (11, 42, 5),\n",
        "          (20, 32, 4),\n",
        "          (12, 40, 12),\n",
        "          (21, 36, 23),\n",
        "]"
      ],
      "metadata": {
        "id": "U3SJCUG4SmAb"
      },
      "execution_count": null,
      "outputs": []
    },
    {
      "cell_type": "code",
      "source": [
        "def mean(data: Iterable[float]) -> float:\n",
        "  data = list(data)\n",
        "  return fsum(data) / len(data)"
      ],
      "metadata": {
        "id": "WMZUth8pS-md"
      },
      "execution_count": null,
      "outputs": []
    },
    {
      "cell_type": "code",
      "source": [
        "# def dist(p, q): # counting distances\n",
        "# Euclidian distance for multi - dimensional data:\n",
        "#  return sqrt(fsum([(x - y) ** 2 for x, y in zip(p, q)]))\n",
        "\n",
        "# for point in points:\n",
        "#  print(point, dist(point, (9, 39, 20)))"
      ],
      "metadata": {
        "colab": {
          "base_uri": "https://localhost:8080/"
        },
        "id": "7ZEzWQ5lUq3K",
        "outputId": "192070bf-6863-43e8-9bcc-2df90c89b114"
      },
      "execution_count": null,
      "outputs": [
        {
          "output_type": "stream",
          "name": "stdout",
          "text": [
            "(10, 41, 23) 3.7416573867739413\n",
            "(22, 30, 29) 18.193405398660254\n",
            "(11, 42, 5) 15.427248620541512\n",
            "(20, 32, 4) 20.639767440550294\n",
            "(12, 40, 12) 8.602325267042627\n",
            "(21, 36, 23) 12.727922061357855\n"
          ]
        }
      ]
    },
    {
      "cell_type": "code",
      "source": [
        "def dist(p, q): # counting distances\n",
        "# Euclidian distance for multi - dimensional data:\n",
        "  return sqrt(fsum([(x - y) ** 2 for x, y in zip(p, q)]))\n",
        "\n",
        "def assign_data(centroids, data):\n",
        "  d = defaultdict(list)\n",
        "  for point in data:\n",
        "     closest_centroid = min(centroids, key=partial(dist, point))\n",
        "     d[closest_centroid].append(point)\n",
        "     \n",
        "  return d\n",
        "\n",
        "\n",
        "for point in points:\n",
        "  print(point, dist(point, (9, 39, 20)))"
      ],
      "metadata": {
        "colab": {
          "base_uri": "https://localhost:8080/"
        },
        "id": "B5MsLpwfW3UW",
        "outputId": "81962b79-177f-4bc4-ae11-7c25470cd642"
      },
      "execution_count": 33,
      "outputs": [
        {
          "output_type": "stream",
          "name": "stdout",
          "text": [
            "(10, 41, 23) 3.7416573867739413\n",
            "(22, 30, 29) 18.193405398660254\n",
            "(11, 42, 5) 15.427248620541512\n",
            "(20, 32, 4) 20.639767440550294\n",
            "(12, 40, 12) 8.602325267042627\n",
            "(21, 36, 23) 12.727922061357855\n"
          ]
        }
      ]
    },
    {
      "cell_type": "code",
      "source": [
        "centroids = [(9, 39, 20), (12, 36, 25)]\n",
        "point = (11, 42, 5)\n",
        "[dist(point, centroid) for centroid in centroids]"
      ],
      "metadata": {
        "colab": {
          "base_uri": "https://localhost:8080/"
        },
        "id": "EcKH5RmAYVDK",
        "outputId": "67e6b6b9-4c57-4b97-fafd-f1c3039959b2"
      },
      "execution_count": null,
      "outputs": [
        {
          "output_type": "execute_result",
          "data": {
            "text/plain": [
              "[15.427248620541512, 20.904544960366874]"
            ]
          },
          "metadata": {},
          "execution_count": 21
        }
      ]
    },
    {
      "cell_type": "code",
      "source": [
        "min([dist(point, centroid) for centroid in centroids])"
      ],
      "metadata": {
        "colab": {
          "base_uri": "https://localhost:8080/"
        },
        "id": "lAf0Q8z3YywG",
        "outputId": "6a89a513-9995-4c22-9f2f-5dcc608f35a3"
      },
      "execution_count": null,
      "outputs": [
        {
          "output_type": "execute_result",
          "data": {
            "text/plain": [
              "15.427248620541512"
            ]
          },
          "metadata": {},
          "execution_count": 22
        }
      ]
    },
    {
      "cell_type": "code",
      "source": [
        "min(centroids, key=lambda centroid: dist(point, centroid))"
      ],
      "metadata": {
        "colab": {
          "base_uri": "https://localhost:8080/"
        },
        "id": "tGvvTJw2Y6_h",
        "outputId": "8a65dc62-dadd-4dd3-e4ac-d683b8525f2b"
      },
      "execution_count": null,
      "outputs": [
        {
          "output_type": "execute_result",
          "data": {
            "text/plain": [
              "(9, 39, 20)"
            ]
          },
          "metadata": {},
          "execution_count": 23
        }
      ]
    },
    {
      "cell_type": "code",
      "source": [
        "from functools import partial\n",
        "pow(2, 5)"
      ],
      "metadata": {
        "colab": {
          "base_uri": "https://localhost:8080/"
        },
        "id": "3QmTDiawZPJ5",
        "outputId": "e02a0c08-e8d0-48de-dd69-47203750ef37"
      },
      "execution_count": null,
      "outputs": [
        {
          "output_type": "execute_result",
          "data": {
            "text/plain": [
              "32"
            ]
          },
          "metadata": {},
          "execution_count": 24
        }
      ]
    },
    {
      "cell_type": "code",
      "source": [
        "twopow = partial(pow, 2)\n",
        "twopow(5)"
      ],
      "metadata": {
        "colab": {
          "base_uri": "https://localhost:8080/"
        },
        "id": "x2zndi9XZX6V",
        "outputId": "c1463724-e786-4a23-a77b-a44e1924136f"
      },
      "execution_count": null,
      "outputs": [
        {
          "output_type": "execute_result",
          "data": {
            "text/plain": [
              "32"
            ]
          },
          "metadata": {},
          "execution_count": 25
        }
      ]
    },
    {
      "cell_type": "code",
      "source": [
        "min(centroids, key=partial(dist, point))"
      ],
      "metadata": {
        "colab": {
          "base_uri": "https://localhost:8080/"
        },
        "id": "WZm1xwoQZg59",
        "outputId": "f4cc0c2b-5c70-469c-d0a3-0130b9b94e0f"
      },
      "execution_count": null,
      "outputs": [
        {
          "output_type": "execute_result",
          "data": {
            "text/plain": [
              "(9, 39, 20)"
            ]
          },
          "metadata": {},
          "execution_count": 26
        }
      ]
    },
    {
      "cell_type": "code",
      "source": [
        "centroids = [(9, 39, 20), (12, 36, 25)]\n",
        "pprint(assign_data(centroids, points), width=45)"
      ],
      "metadata": {
        "id": "IAm9dUeNZxJi",
        "colab": {
          "base_uri": "https://localhost:8080/"
        },
        "outputId": "54f1c510-96e5-4654-c4bd-22c7543514c4"
      },
      "execution_count": 34,
      "outputs": [
        {
          "output_type": "stream",
          "name": "stdout",
          "text": [
            "defaultdict(<class 'list'>,\n",
            "            {(9, 39, 20): [(10, 41, 23),\n",
            "                           (11, 42, 5),\n",
            "                           (20, 32, 4),\n",
            "                           (12, 40, 12)],\n",
            "             (12, 36, 25): [(22, 30, 29),\n",
            "                            (21, 36, 23)]})\n"
          ]
        }
      ]
    },
    {
      "cell_type": "markdown",
      "source": [
        "## 4.2 part 2"
      ],
      "metadata": {
        "id": "i-maYVmupijT"
      }
    },
    {
      "cell_type": "code",
      "source": [
        "Point = Tuple[int, ...]\n",
        "Centroid = Point"
      ],
      "metadata": {
        "id": "ZFfTBIjung9i"
      },
      "execution_count": 63,
      "outputs": []
    },
    {
      "cell_type": "code",
      "source": [
        "# Swap the rows and columns in a 2-D array of data\n",
        "\n",
        "def transpose(data):\n",
        "  return list(zip(*data))"
      ],
      "metadata": {
        "id": "8NWPbsLmu9WH"
      },
      "execution_count": 64,
      "outputs": []
    },
    {
      "cell_type": "code",
      "source": [
        "# Acurate aritmetic mean\n",
        "\n",
        "def mean(data: Iterable[float]) -> float:\n",
        "  data = list(data)\n",
        "  return fsum(data) / len(data)"
      ],
      "metadata": {
        "id": "kdgZgOuMnsdA"
      },
      "execution_count": 65,
      "outputs": []
    },
    {
      "cell_type": "code",
      "source": [
        "# Euclidian distance function for multi-dimensional data'\n",
        "\n",
        "def dist(p: Point, q: Point, fsum=fsum, sqrt=sqrt, zip=zip) -> float:\n",
        "  return sqrt(fsum([(x - y) ** 2 for x, y in zip(p, q)]))"
      ],
      "metadata": {
        "id": "9fOeb7U6oCGI"
      },
      "execution_count": 66,
      "outputs": []
    },
    {
      "cell_type": "code",
      "source": [
        "# Group the data points to the closest centroid\n",
        "\n",
        "def assign_data(centroids: Sequence[Centroid], data: Iterable[Point]) -> Dict[Centroid, List[Points]]:\n",
        "   d = defaultdict(list)\n",
        "   for point in data:\n",
        "     closest_centroid = min(centroids, key=partial(dist, point))\n",
        "     d[closest_centroid].append(point)\n",
        "   return dict(d)\n"
      ],
      "metadata": {
        "id": "hE4YesuCo0mO"
      },
      "execution_count": null,
      "outputs": []
    },
    {
      "cell_type": "code",
      "source": [
        "# Compute the centroid of each group\n",
        "\n",
        "def compute_centroids(groups: Iterable[Sequence[Point]]) -> List[Centroid]:\n",
        "  return [tuple(map(mean, transpose(*group))) for group in groups]"
      ],
      "metadata": {
        "id": "RH85me5qqGlJ"
      },
      "execution_count": 60,
      "outputs": []
    },
    {
      "cell_type": "code",
      "source": [
        "def k_means(data, k=2, iterations=50):\n",
        "  data = list(data)\n",
        "  centroids = sample(data, k)\n",
        "  for i in range(iteration):\n",
        "    labeled = assign_data(centroids, data)\n",
        "    centroids = compute_centroids(labeled.values())\n",
        "  return centroids"
      ],
      "metadata": {
        "id": "39Y9IrMHqydp"
      },
      "execution_count": 53,
      "outputs": []
    },
    {
      "cell_type": "code",
      "source": [
        "if __name__ == '__main__':\n",
        "\n",
        "   points = [\n",
        "             (10, 41, 23),\n",
        "             (22, 30, 29),\n",
        "             (11, 42, 5),\n",
        "             (20, 32, 4),\n",
        "             (12, 40, 12),\n",
        "             (21, 36, 23),\n",
        "   ]\n",
        "   centroids = k_means(points, k=2)\n",
        "   d = assign_data(centroids, points)\n",
        "   epprint(d)  "
      ],
      "metadata": {
        "id": "3lYmnDoDr7en"
      },
      "execution_count": null,
      "outputs": []
    },
    {
      "cell_type": "code",
      "source": [
        "\n"
      ],
      "metadata": {
        "id": "kan2DpadsRCw"
      },
      "execution_count": null,
      "outputs": []
    }
  ]
}