{
  "nbformat": 4,
  "nbformat_minor": 0,
  "metadata": {
    "colab": {
      "name": "Bootstrap.ipynb",
      "provenance": [],
      "authorship_tag": "ABX9TyP1jkDH5d+Hn85wKcVoNZCY",
      "include_colab_link": true
    },
    "kernelspec": {
      "name": "python3",
      "display_name": "Python 3"
    },
    "language_info": {
      "name": "python"
    }
  },
  "cells": [
    {
      "cell_type": "markdown",
      "metadata": {
        "id": "view-in-github",
        "colab_type": "text"
      },
      "source": [
        "<a href=\"https://colab.research.google.com/github/Daivar/Modern_Python/blob/main/Bootstrap.ipynb\" target=\"_parent\"><img src=\"https://colab.research.google.com/assets/colab-badge.svg\" alt=\"Open In Colab\"/></a>"
      ]
    },
    {
      "cell_type": "code",
      "execution_count": 5,
      "metadata": {
        "id": "Fe01ty7qL4s5"
      },
      "outputs": [],
      "source": [
        "from statistics import mean, stdev\n",
        "from random import choices"
      ]
    },
    {
      "cell_type": "code",
      "source": [
        "timings = [7.18, 8.59, 12.24, 7.39, 8.16, 8.68, 6.98, 8.31, 9.06, 7.06, 7.67, 10.02, 6.87, 9.07]\n",
        "mean(timings)"
      ],
      "metadata": {
        "colab": {
          "base_uri": "https://localhost:8080/"
        },
        "id": "vfk8XWcqMK0K",
        "outputId": "1216a00e-3824-41d7-f0d0-4b0cd75d9648"
      },
      "execution_count": 3,
      "outputs": [
        {
          "output_type": "execute_result",
          "data": {
            "text/plain": [
              "8.377142857142857"
            ]
          },
          "metadata": {},
          "execution_count": 3
        }
      ]
    },
    {
      "cell_type": "code",
      "source": [
        "stdev(timings)"
      ],
      "metadata": {
        "colab": {
          "base_uri": "https://localhost:8080/"
        },
        "id": "1WmtPRLgMrjf",
        "outputId": "e0f4a568-6c2a-4b74-da4a-a11b9753c315"
      },
      "execution_count": 4,
      "outputs": [
        {
          "output_type": "execute_result",
          "data": {
            "text/plain": [
              "1.4576505256559458"
            ]
          },
          "metadata": {},
          "execution_count": 4
        }
      ]
    },
    {
      "cell_type": "code",
      "source": [
        "# Build a 90% confidence interval bootstrap - resample\n",
        "\n",
        "def bootstrap(data):\n",
        "  return choices(data, k=len(data))\n",
        "\n",
        "bootstrap(timings)\n"
      ],
      "metadata": {
        "colab": {
          "base_uri": "https://localhost:8080/"
        },
        "id": "gVscWvHFMxhL",
        "outputId": "722ebb66-9160-48b2-922f-3f9603c572ae"
      },
      "execution_count": 7,
      "outputs": [
        {
          "output_type": "execute_result",
          "data": {
            "text/plain": [
              "[7.18,\n",
              " 8.31,\n",
              " 7.39,\n",
              " 12.24,\n",
              " 12.24,\n",
              " 7.39,\n",
              " 6.87,\n",
              " 8.68,\n",
              " 10.02,\n",
              " 8.59,\n",
              " 12.24,\n",
              " 7.67,\n",
              " 10.02,\n",
              " 8.59]"
            ]
          },
          "metadata": {},
          "execution_count": 7
        }
      ]
    },
    {
      "cell_type": "code",
      "source": [
        "mean(bootstrap(timings))"
      ],
      "metadata": {
        "colab": {
          "base_uri": "https://localhost:8080/"
        },
        "id": "AbO0ipw3NWiO",
        "outputId": "43de7b2e-0595-451e-eaae-4acf5c7af909"
      },
      "execution_count": 12,
      "outputs": [
        {
          "output_type": "execute_result",
          "data": {
            "text/plain": [
              "8.21642857142857"
            ]
          },
          "metadata": {},
          "execution_count": 12
        }
      ]
    },
    {
      "cell_type": "code",
      "source": [
        "n = 10000\n",
        "means = sorted(mean(bootstrap(timings)) for i in range(n))\n",
        "len(means)"
      ],
      "metadata": {
        "colab": {
          "base_uri": "https://localhost:8080/"
        },
        "id": "kHKKGH0kNqUB",
        "outputId": "1707be95-f93b-4ad1-a04e-f9b1f30f9a06"
      },
      "execution_count": 16,
      "outputs": [
        {
          "output_type": "execute_result",
          "data": {
            "text/plain": [
              "10000"
            ]
          },
          "metadata": {},
          "execution_count": 16
        }
      ]
    },
    {
      "cell_type": "code",
      "source": [
        "means[:20]"
      ],
      "metadata": {
        "colab": {
          "base_uri": "https://localhost:8080/"
        },
        "id": "fS7N32sYOESi",
        "outputId": "b074c5f2-8bae-4072-a6e2-0b1a46fcdbc7"
      },
      "execution_count": 17,
      "outputs": [
        {
          "output_type": "execute_result",
          "data": {
            "text/plain": [
              "[7.308571428571429,\n",
              " 7.385,\n",
              " 7.387142857142857,\n",
              " 7.3914285714285715,\n",
              " 7.392857142857142,\n",
              " 7.392857142857142,\n",
              " 7.399285714285714,\n",
              " 7.4071428571428575,\n",
              " 7.409285714285715,\n",
              " 7.412857142857143,\n",
              " 7.414285714285715,\n",
              " 7.425,\n",
              " 7.4399999999999995,\n",
              " 7.445714285714286,\n",
              " 7.452142857142857,\n",
              " 7.460714285714285,\n",
              " 7.462857142857143,\n",
              " 7.47,\n",
              " 7.473571428571429,\n",
              " 7.4799999999999995]"
            ]
          },
          "metadata": {},
          "execution_count": 17
        }
      ]
    },
    {
      "cell_type": "code",
      "source": [
        "means[-20:]"
      ],
      "metadata": {
        "colab": {
          "base_uri": "https://localhost:8080/"
        },
        "id": "SIvnlQHYOHxh",
        "outputId": "c880458d-bd74-4a6b-fac9-b064c1c7ad33"
      },
      "execution_count": 18,
      "outputs": [
        {
          "output_type": "execute_result",
          "data": {
            "text/plain": [
              "[9.548571428571428,\n",
              " 9.548571428571428,\n",
              " 9.552142857142858,\n",
              " 9.554285714285713,\n",
              " 9.565714285714286,\n",
              " 9.576428571428572,\n",
              " 9.59142857142857,\n",
              " 9.596428571428572,\n",
              " 9.597142857142858,\n",
              " 9.61357142857143,\n",
              " 9.616428571428571,\n",
              " 9.618571428571428,\n",
              " 9.635,\n",
              " 9.683571428571428,\n",
              " 9.684285714285714,\n",
              " 9.699285714285715,\n",
              " 9.715714285714286,\n",
              " 9.760714285714286,\n",
              " 9.803571428571429,\n",
              " 10.128571428571428]"
            ]
          },
          "metadata": {},
          "execution_count": 18
        }
      ]
    },
    {
      "cell_type": "code",
      "source": [
        "mean(means)"
      ],
      "metadata": {
        "colab": {
          "base_uri": "https://localhost:8080/"
        },
        "id": "914461wQORxo",
        "outputId": "40383e1e-94fc-4c08-af96-409724703d82"
      },
      "execution_count": 19,
      "outputs": [
        {
          "output_type": "execute_result",
          "data": {
            "text/plain": [
              "8.378230785714285"
            ]
          },
          "metadata": {},
          "execution_count": 19
        }
      ]
    },
    {
      "cell_type": "code",
      "source": [
        "print(f'Falls in a 90% confidence interval from {means[500] :.1f} to {means[-500] :.1f}')"
      ],
      "metadata": {
        "colab": {
          "base_uri": "https://localhost:8080/"
        },
        "id": "gxOjnRr4OlFi",
        "outputId": "52d2a3ac-310b-4858-c6ba-e7071c426f4f"
      },
      "execution_count": 21,
      "outputs": [
        {
          "output_type": "stream",
          "name": "stdout",
          "text": [
            "Falls in a 90% confidence interval from 7.8 to 9.0\n"
          ]
        }
      ]
    },
    {
      "cell_type": "code",
      "source": [
        "def bootstrap(data):\n",
        "  return choices(data, k=len(data))"
      ],
      "metadata": {
        "id": "ef261K8NPgiw"
      },
      "execution_count": 22,
      "outputs": []
    },
    {
      "cell_type": "code",
      "source": [
        "means = sorted(mean(bootstrap(timings)) for i in range(n))"
      ],
      "metadata": {
        "id": "kM_VaO8dRH7o"
      },
      "execution_count": 24,
      "outputs": []
    }
  ]
}